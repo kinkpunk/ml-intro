{
 "cells": [
  {
   "cell_type": "markdown",
   "metadata": {},
   "source": [
    "# Overfitting and Regularization"
   ]
  },
  {
   "cell_type": "markdown",
   "metadata": {},
   "source": [
    "## Imports"
   ]
  },
  {
   "cell_type": "code",
   "execution_count": 50,
   "metadata": {
    "ExecuteTime": {
     "end_time": "2020-11-09T16:54:14.725923Z",
     "start_time": "2020-11-09T16:54:12.888791Z"
    }
   },
   "outputs": [],
   "source": [
    "import numpy as np\n",
    "import pandas as pd\n",
    "import seaborn as sns\n",
    "import matplotlib.pyplot as plt"
   ]
  },
  {
   "cell_type": "code",
   "execution_count": 51,
   "metadata": {
    "ExecuteTime": {
     "end_time": "2020-11-09T16:54:15.684870Z",
     "start_time": "2020-11-09T16:54:14.728973Z"
    }
   },
   "outputs": [],
   "source": [
    "from sklearn.pipeline import Pipeline\n",
    "from sklearn.model_selection import train_test_split, cross_validate\n",
    "from sklearn.preprocessing import PolynomialFeatures, StandardScaler\n",
    "from sklearn.linear_model import LinearRegression, Lasso, Ridge\n",
    "from sklearn.metrics import mean_squared_error\n",
    "from sklearn import set_config"
   ]
  },
  {
   "cell_type": "code",
   "execution_count": 52,
   "metadata": {
    "ExecuteTime": {
     "end_time": "2020-11-09T16:54:15.695417Z",
     "start_time": "2020-11-09T16:54:15.691122Z"
    },
    "scrolled": true
   },
   "outputs": [],
   "source": [
    "#set_config(display='diagram')"
   ]
  },
  {
   "cell_type": "markdown",
   "metadata": {},
   "source": [
    "## Settings"
   ]
  },
  {
   "cell_type": "code",
   "execution_count": 53,
   "metadata": {
    "ExecuteTime": {
     "end_time": "2020-11-09T16:54:15.704240Z",
     "start_time": "2020-11-09T16:54:15.698865Z"
    }
   },
   "outputs": [],
   "source": [
    "SEED = 42\n",
    "RANGE = (-5, 5)\n",
    "N_SAMPLES = 50\n",
    "DEGREES = np.linspace(0, 15, 1 + 15, dtype=int)\n",
    "ALPHAS = np.linspace(0, 0.5, 1 + 40)"
   ]
  },
  {
   "cell_type": "markdown",
   "metadata": {},
   "source": [
    "## Part 1: Underfitting vs. overfitting"
   ]
  },
  {
   "cell_type": "markdown",
   "metadata": {},
   "source": [
    "### Generate samples"
   ]
  },
  {
   "cell_type": "markdown",
   "metadata": {
    "ExecuteTime": {
     "end_time": "2020-11-09T09:04:09.904994Z",
     "start_time": "2020-11-09T09:04:09.896444Z"
    }
   },
   "source": [
    "Let's pick a target function $ f(x) = 2\\cdot x + 10\\cdot sin(x) $ and generate some noisy samples to learn from."
   ]
  },
  {
   "cell_type": "code",
   "execution_count": 54,
   "metadata": {
    "ExecuteTime": {
     "end_time": "2020-11-09T16:54:15.713334Z",
     "start_time": "2020-11-09T16:54:15.706844Z"
    }
   },
   "outputs": [],
   "source": [
    "def target_function(x):\n",
    "    return 2 * x + 10 * np.sin(x)\n",
    "\n",
    "def generate_samples():\n",
    "    \"\"\"Generate noisy samples.\"\"\"\n",
    "    np.random.seed(SEED)\n",
    "    x = np.random.uniform(*RANGE, size=N_SAMPLES)\n",
    "    y = target_function(x) + np.random.normal(scale=4, size=N_SAMPLES)\n",
    "    return x.reshape(-1, 1), y\n",
    "\n",
    "X, y = generate_samples()"
   ]
  },
  {
   "cell_type": "markdown",
   "metadata": {},
   "source": [
    "### Plot samples"
   ]
  },
  {
   "cell_type": "code",
   "execution_count": 55,
   "metadata": {
    "ExecuteTime": {
     "end_time": "2020-11-09T16:54:16.141608Z",
     "start_time": "2020-11-09T16:54:15.715819Z"
    }
   },
   "outputs": [
    {
     "data": {
      "image/png": "[encoded data removed]",
      "text/plain": [
       "<Figure size 432x288 with 1 Axes>"
      ]
     },
     "metadata": {
      "needs_background": "light"
     },
     "output_type": "display_data"
    }
   ],
   "source": [
    "def plot_scatter(x, y, title=None, label='Noisy samples'):\n",
    "    plt.scatter(x, y, label=label)\n",
    "    plt.xlabel('x')\n",
    "    plt.ylabel('y')\n",
    "    plt.grid(True)\n",
    "    plt.title(title)\n",
    "    plt.legend(loc='lower right')\n",
    "\n",
    "plot_scatter(X, y)"
   ]
  },
  {
   "cell_type": "markdown",
   "metadata": {},
   "source": [
    "### Split"
   ]
  },
  {
   "cell_type": "code",
   "execution_count": 56,
   "metadata": {
    "ExecuteTime": {
     "end_time": "2020-11-09T16:54:16.675804Z",
     "start_time": "2020-11-09T16:54:16.145597Z"
    }
   },
   "outputs": [
    {
     "data": {
      "image/png": "[encoded data removed]",
      "text/plain": [
       "<Figure size 432x288 with 1 Axes>"
      ]
     },
     "metadata": {
      "needs_background": "light"
     },
     "output_type": "display_data"
    }
   ],
   "source": [
    "X_train, X_valid, y_train, y_valid = train_test_split(X, y, test_size=0.3, random_state=SEED)\n",
    "\n",
    "plot_scatter(X_train, y_train, label='Training set')\n",
    "plot_scatter(X_valid, y_valid, label='Validation set')"
   ]
  },
  {
   "cell_type": "markdown",
   "metadata": {},
   "source": [
    "### Model"
   ]
  },
  {
   "cell_type": "markdown",
   "metadata": {},
   "source": [
    "Let's try to approximate our target function $ f(x) = 2\\cdot x + 10\\cdot sin(x) $ with polynomials of different degree. \n",
    "\n",
    "A polynomial of degree $n$ has the form:\n",
    "$ h(x) = w_0 + w_1\\cdot x + w_2\\cdot x^2 +\\ldots + w_n\\cdot x^n $.\n",
    "\n",
    "$x^i$ values could easily be generated by `PolynomialFeatures`, while $w_i$ are the unknown paramaters to be estimated using `LinearRegression`."
   ]
  },
  {
   "cell_type": "code",
   "execution_count": 57,
   "metadata": {
    "ExecuteTime": {
     "end_time": "2020-11-09T16:54:16.694703Z",
     "start_time": "2020-11-09T16:54:16.681619Z"
    }
   },
   "outputs": [
    {
     "data": {
      "text/plain": [
       "array([[  1.,   1.,   1.,   1.,   1.],\n",
       "       [  1.,   3.,   9.,  27.,  81.],\n",
       "       [  1.,   4.,  16.,  64., 256.]])"
      ]
     },
     "execution_count": 57,
     "metadata": {},
     "output_type": "execute_result"
    }
   ],
   "source": [
    "PolynomialFeatures(degree=4).fit_transform(X=[\n",
    "    [1],\n",
    "    [3],\n",
    "    [4],\n",
    "])"
   ]
  },
  {
   "cell_type": "code",
   "execution_count": 58,
   "metadata": {
    "ExecuteTime": {
     "end_time": "2020-11-09T16:54:16.765798Z",
     "start_time": "2020-11-09T16:54:16.698558Z"
    }
   },
   "outputs": [
    {
     "data": {
      "text/plain": [
       "Pipeline(memory=None,\n",
       "         steps=[('pol',\n",
       "                 PolynomialFeatures(degree=2, include_bias=True,\n",
       "                                    interaction_only=False, order='C')),\n",
       "                ('sca',\n",
       "                 StandardScaler(copy=True, with_mean=True, with_std=True)),\n",
       "                ('reg',\n",
       "                 LinearRegression(copy_X=True, fit_intercept=False, n_jobs=None,\n",
       "                                  normalize=False))],\n",
       "         verbose=False)"
      ]
     },
     "metadata": {},
     "output_type": "display_data"
    },
    {
     "data": {
      "text/plain": [
       "Pipeline(memory=None,\n",
       "         steps=[('pol',\n",
       "                 PolynomialFeatures(degree=2, include_bias=True,\n",
       "                                    interaction_only=False, order='C')),\n",
       "                ('sca',\n",
       "                 StandardScaler(copy=True, with_mean=True, with_std=True)),\n",
       "                ('reg',\n",
       "                 Lasso(alpha=0.1, copy_X=True, fit_intercept=False,\n",
       "                       max_iter=50000, normalize=False, positive=False,\n",
       "                       precompute=False, random_state=42, selection='cyclic',\n",
       "                       tol=0.0001, warm_start=False))],\n",
       "         verbose=False)"
      ]
     },
     "metadata": {},
     "output_type": "display_data"
    },
    {
     "data": {
      "text/plain": [
       "Pipeline(memory=None,\n",
       "         steps=[('pol',\n",
       "                 PolynomialFeatures(degree=2, include_bias=True,\n",
       "                                    interaction_only=False, order='C')),\n",
       "                ('sca',\n",
       "                 StandardScaler(copy=True, with_mean=True, with_std=True)),\n",
       "                ('reg',\n",
       "                 Ridge(alpha=0.1, copy_X=True, fit_intercept=False,\n",
       "                       max_iter=50000, normalize=False, random_state=42,\n",
       "                       solver='auto', tol=0.001))],\n",
       "         verbose=False)"
      ]
     },
     "metadata": {},
     "output_type": "display_data"
    }
   ],
   "source": [
    "def make_model(degree, alpha=0, penalty=None):\n",
    "    # linear regression\n",
    "    if alpha == 0:\n",
    "        regressor = LinearRegression(fit_intercept=False)\n",
    "    \n",
    "    # lasso regression\n",
    "    elif penalty == 'L1':\n",
    "        regressor = Lasso(fit_intercept=False, alpha=alpha, random_state=SEED, max_iter=50000)        \n",
    "    \n",
    "    # ridge regression\n",
    "    elif penalty == 'L2':\n",
    "        regressor = Ridge(fit_intercept=False, alpha=alpha, random_state=SEED, max_iter=50000)        \n",
    "    \n",
    "    return Pipeline([\n",
    "        ('pol', PolynomialFeatures(degree)),\n",
    "        ('sca', StandardScaler()),\n",
    "        ('reg', regressor)\n",
    "    ])\n",
    "\n",
    "display(make_model(2))\n",
    "display(make_model(2, penalty='L1', alpha=0.1))\n",
    "display(make_model(2, penalty='L2', alpha=0.1))"
   ]
  },
  {
   "cell_type": "markdown",
   "metadata": {},
   "source": [
    "### Fit"
   ]
  },
  {
   "cell_type": "markdown",
   "metadata": {},
   "source": [
    "Let's fit a model and plot the hypothesis it learns:"
   ]
  },
  {
   "cell_type": "code",
   "execution_count": 59,
   "metadata": {
    "ExecuteTime": {
     "end_time": "2020-11-09T16:54:17.427966Z",
     "start_time": "2020-11-09T16:54:16.768791Z"
    }
   },
   "outputs": [
    {
     "data": {
      "image/png": "[encoded data removed]",
      "text/plain": [
       "<Figure size 432x288 with 1 Axes>"
      ]
     },
     "metadata": {
      "needs_background": "light"
     },
     "output_type": "display_data"
    }
   ],
   "source": [
    "def plot_fit(model):\n",
    "    degree = model['pol'].degree\n",
    "    X_range = np.linspace(*RANGE, 1000).reshape(-1, 1)\n",
    "    y_pred = model.predict(X_range)\n",
    "    plot_scatter(X_train, y_train, label='Training sample')\n",
    "    plot_scatter(X_valid, y_valid, label='Validation sample')\n",
    "    plt.plot(X_range, target_function(X_range), c='green', alpha=0.2, lw=5, label='Target function')\n",
    "    plt.plot(X_range, y_pred, c='red', label='Hypothesis')\n",
    "    plt.ylim((min(y) - 3, max(y) + 3))\n",
    "    plt.legend(loc='best')    \n",
    "    plt.title(f'Polynomial approximation: degree={degree}')\n",
    "    plt.show()\n",
    "\n",
    "plot_fit(make_model(degree=2).fit(X_train, y_train))"
   ]
  },
  {
   "cell_type": "markdown",
   "metadata": {},
   "source": [
    "### From underfitting to overfitting"
   ]
  },
  {
   "cell_type": "markdown",
   "metadata": {
    "ExecuteTime": {
     "end_time": "2020-11-09T11:15:24.323458Z",
     "start_time": "2020-11-09T11:15:24.318089Z"
    }
   },
   "source": [
    "We can investigate the shape of the fitted curve for different values of `degree`:"
   ]
  },
  {
   "cell_type": "code",
   "execution_count": 60,
   "metadata": {
    "ExecuteTime": {
     "end_time": "2020-11-09T16:54:21.724073Z",
     "start_time": "2020-11-09T16:54:17.432338Z"
    },
    "scrolled": false
   },
   "outputs": [
    {
     "data": {
      "image/png": "[encoded data removed]",
      "text/plain": [
       "<Figure size 432x288 with 1 Axes>"
      ]
     },
     "metadata": {
      "needs_background": "light"
     },
     "output_type": "display_data"
    },
    {
     "data": {
      "image/png": "[encoded data removed]",
      "text/plain": [
       "<Figure size 432x288 with 1 Axes>"
      ]
     },
     "metadata": {
      "needs_background": "light"
     },
     "output_type": "display_data"
    },
    {
     "data": {
      "image/png": "[encoded data removed]",
      "text/plain": [
       "<Figure size 432x288 with 1 Axes>"
      ]
     },
     "metadata": {
      "needs_background": "light"
     },
     "output_type": "display_data"
    },
    {
     "data": {
      "image/png": "[encoded data removed]",
      "text/plain": [
       "<Figure size 432x288 with 1 Axes>"
      ]
     },
     "metadata": {
      "needs_background": "light"
     },
     "output_type": "display_data"
    },
    {
     "data": {
      "image/png": "[encoded data removed]",
      "text/plain": [
       "<Figure size 432x288 with 1 Axes>"
      ]
     },
     "metadata": {
      "needs_background": "light"
     },
     "output_type": "display_data"
    },
    {
     "data": {
      "image/png": "[encoded data removed]",
      "text/plain": [
       "<Figure size 432x288 with 1 Axes>"
      ]
     },
     "metadata": {
      "needs_background": "light"
     },
     "output_type": "display_data"
    },
    {
     "data": {
      "image/png": "[encoded data removed]",
      "text/plain": [
       "<Figure size 432x288 with 1 Axes>"
      ]
     },
     "metadata": {
      "needs_background": "light"
     },
     "output_type": "display_data"
    },
    {
     "data": {
      "image/png": "[encoded data removed]",
      "text/plain": [
       "<Figure size 432x288 with 1 Axes>"
      ]
     },
     "metadata": {
      "needs_background": "light"
     },
     "output_type": "display_data"
    },
    {
     "data": {
      "image/png": "[encoded data removed]",
      "text/plain": [
       "<Figure size 432x288 with 1 Axes>"
      ]
     },
     "metadata": {
      "needs_background": "light"
     },
     "output_type": "display_data"
    }
   ],
   "source": [
    "for degree in [0, 1, 2, 3, 4, 5, 10, 15, 20]:\n",
    "    plot_fit(make_model(degree).fit(X_train, y_train))"
   ]
  },
  {
   "cell_type": "markdown",
   "metadata": {},
   "source": [
    "### Fitting graph"
   ]
  },
  {
   "cell_type": "markdown",
   "metadata": {},
   "source": [
    "In the next step we calculate the training and the validation error for each `degree` and plot them in a single graph. The resulting graph is called the fitting graph."
   ]
  },
  {
   "cell_type": "code",
   "execution_count": 61,
   "metadata": {
    "ExecuteTime": {
     "end_time": "2020-11-09T16:54:22.105109Z",
     "start_time": "2020-11-09T16:54:21.728063Z"
    }
   },
   "outputs": [
    {
     "data": {
      "image/png": "[encoded data removed]",
      "text/plain": [
       "<Figure size 648x324 with 1 Axes>"
      ]
     },
     "metadata": {
      "needs_background": "light"
     },
     "output_type": "display_data"
    }
   ],
   "source": [
    "def rmse(y_true, y_pred):\n",
    "    return np.sqrt(mean_squared_error(y_true, y_pred))\n",
    "\n",
    "def plot_fitting_graph(x, metric_train, metric_valid, xlabel, ylabel, \n",
    "                       custom_metric=None, custom_label='', custom_scale='log', title='Fitting graph'):\n",
    "    plt.figure(figsize=(9, 4.5))\n",
    "    plt.plot(x, metric_train, label='Training')\n",
    "    plt.plot(x, metric_valid, color='C1', label='Validation')\n",
    "    plt.axvline(x[np.argmin(metric_valid)], color='C1', lw=10, alpha=0.2)\n",
    "    plt.title(title)\n",
    "    plt.xlabel(xlabel)\n",
    "    plt.ylabel(ylabel)\n",
    "    plt.grid(True)\n",
    "    plt.xticks(x, rotation='vertical')\n",
    "    plt.legend(loc='center left')        \n",
    "    if custom_metric:\n",
    "        plt.twinx()\n",
    "        plt.yscale(custom_scale)\n",
    "        plt.plot(x, custom_metric, alpha=0.2, lw=4, ls='dotted', color='black', label=custom_label) \n",
    "        plt.legend(loc='center right')         \n",
    "    plt.show()\n",
    "    \n",
    "rmse_train, rmse_valid = [], []\n",
    "for degree in DEGREES:\n",
    "    reg = make_model(degree).fit(X_train, y_train)\n",
    "    rmse_train.append(rmse(reg.predict(X_train), y_train))\n",
    "    rmse_valid.append(rmse(reg.predict(X_valid), y_valid))\n",
    "    \n",
    "plot_fitting_graph(DEGREES, rmse_train, rmse_valid, xlabel='Complexity (degree)', ylabel='Error (RMSE)', \n",
    "                   title='Least squares polynomial regression')"
   ]
  },
  {
   "cell_type": "markdown",
   "metadata": {},
   "source": [
    "### Sweet spot"
   ]
  },
  {
   "cell_type": "markdown",
   "metadata": {},
   "source": [
    "What is the optimal `degree` to go with?"
   ]
  },
  {
   "cell_type": "code",
   "execution_count": 62,
   "metadata": {
    "ExecuteTime": {
     "end_time": "2020-11-09T16:54:22.113055Z",
     "start_time": "2020-11-09T16:54:22.107070Z"
    }
   },
   "outputs": [
    {
     "data": {
      "text/plain": [
       "5"
      ]
     },
     "execution_count": 62,
     "metadata": {},
     "output_type": "execute_result"
    }
   ],
   "source": [
    "DEGREES[np.argmin(rmse_valid)]"
   ]
  },
  {
   "cell_type": "markdown",
   "metadata": {},
   "source": [
    "### Cross-validation"
   ]
  },
  {
   "cell_type": "markdown",
   "metadata": {},
   "source": [
    "Ideally, we would choose the the model parameters such that we have the best model performance. However, we want to make sure that we really have the best validation performance. When we do `train_test_split` we randomly split the data into two parts. What could happen is that we got lucky and split the data such that it favours the validation error. This is especially dangerous if we are dealing with small datasets. One way to check if that's the case is to run the experiment several times for different, random splits. However, there is an even more systematic way of doing this: [cross-validation](https://scikit-learn.org/stable/modules/cross_validation.html)."
   ]
  },
  {
   "cell_type": "markdown",
   "metadata": {},
   "source": [
    "<img src=\"https://scikit-learn.org/stable/_images/grid_search_cross_validation.png\" width=50% />"
   ]
  },
  {
   "cell_type": "code",
   "execution_count": 63,
   "metadata": {
    "ExecuteTime": {
     "end_time": "2020-11-09T16:54:22.671901Z",
     "start_time": "2020-11-09T16:54:22.115276Z"
    }
   },
   "outputs": [
    {
     "data": {
      "image/png": "[encoded data removed]",
      "text/plain": [
       "<Figure size 648x324 with 1 Axes>"
      ]
     },
     "metadata": {
      "needs_background": "light"
     },
     "output_type": "display_data"
    }
   ],
   "source": [
    "rmse_train, rmse_valid = [], []\n",
    "for degree in DEGREES:\n",
    "    results = cross_validate(make_model(degree), \n",
    "                             X, y, cv=5,\n",
    "                             return_train_score=True,\n",
    "                             scoring='neg_root_mean_squared_error')\n",
    "    rmse_train.append(-np.mean(results['train_score']))\n",
    "    rmse_valid.append(-np.mean(results['test_score']))\n",
    "    \n",
    "plot_fitting_graph(DEGREES, rmse_train, rmse_valid, xlabel='Complexity (degree)', ylabel='Error (RMSE)',\n",
    "                   title='Least squares polynomial regression')"
   ]
  },
  {
   "cell_type": "markdown",
   "metadata": {},
   "source": [
    "### Model coefficients"
   ]
  },
  {
   "cell_type": "markdown",
   "metadata": {
    "ExecuteTime": {
     "end_time": "2020-11-05T16:26:33.200639Z",
     "start_time": "2020-11-05T16:26:33.197656Z"
    }
   },
   "source": [
    "Let's inspect our regression model coefficients:"
   ]
  },
  {
   "cell_type": "code",
   "execution_count": 64,
   "metadata": {
    "ExecuteTime": {
     "end_time": "2020-11-09T16:54:22.688666Z",
     "start_time": "2020-11-09T16:54:22.674243Z"
    }
   },
   "outputs": [
    {
     "data": {
      "text/plain": [
       "(array([0.        , 2.81292778]),\n",
       " array([0.        , 2.80049884, 0.45166501]),\n",
       " array([  0.        ,  30.87315584,   1.48752361, -54.60227825,\n",
       "         -1.63699842,  26.62792933]),\n",
       " array([   0.        ,   33.63850705,  -41.86346242,  -70.48743112,\n",
       "         278.98853452,   27.48125634, -656.36383501,   59.32988346,\n",
       "         651.64795186,  -47.55728814, -233.48455138]))"
      ]
     },
     "execution_count": 64,
     "metadata": {},
     "output_type": "execute_result"
    }
   ],
   "source": [
    "(make_model(degree=1).fit(X_train, y_train)['reg'].coef_,\n",
    " make_model(degree=2).fit(X_train, y_train)['reg'].coef_,\n",
    " make_model(degree=5).fit(X_train, y_train)['reg'].coef_,\n",
    " make_model(degree=10).fit(X_train, y_train)['reg'].coef_)"
   ]
  },
  {
   "cell_type": "markdown",
   "metadata": {},
   "source": [
    "Hmm... it looks like high degree polynomials are coming with much bigger regression coefficients. \n",
    "\n",
    "We are going to plot the mean absolute value of $w_i$ as a function of degree to reveal the relationship:"
   ]
  },
  {
   "cell_type": "code",
   "execution_count": 65,
   "metadata": {
    "ExecuteTime": {
     "end_time": "2020-11-09T16:54:24.076487Z",
     "start_time": "2020-11-09T16:54:22.690659Z"
    }
   },
   "outputs": [
    {
     "data": {
      "image/png": "[encoded data removed]",
      "text/plain": [
       "<Figure size 648x324 with 2 Axes>"
      ]
     },
     "metadata": {
      "needs_background": "light"
     },
     "output_type": "display_data"
    }
   ],
   "source": [
    "rmse_train, rmse_valid, avg_coef = [], [], []\n",
    "for degree in DEGREES:\n",
    "    results = cross_validate(make_model(degree),\n",
    "                             X, y, cv=5,\n",
    "                             return_train_score=True, return_estimator=True,\n",
    "                             scoring='neg_root_mean_squared_error')\n",
    "    rmse_train.append(-np.mean(results['train_score']))\n",
    "    rmse_valid.append(-np.mean(results['test_score']))        \n",
    "    avg_coef.append(        \n",
    "        # average over CV folds\n",
    "        np.mean([            \n",
    "            # mean absolute value of weights\n",
    "            np.mean(np.abs(model['reg'].coef_))\n",
    "            for model in results['estimator']\n",
    "        ]))\n",
    "    \n",
    "plot_fitting_graph(DEGREES, rmse_train, rmse_valid,\n",
    "                   xlabel='Complexity (degree)', ylabel='Error (RMSE)',\n",
    "                   custom_metric=avg_coef, custom_label='avg(|$w_i$|)',\n",
    "                   title='Least squares polynomial regression')"
   ]
  },
  {
   "cell_type": "markdown",
   "metadata": {
    "ExecuteTime": {
     "end_time": "2020-11-09T15:24:18.245064Z",
     "start_time": "2020-11-09T15:24:18.241548Z"
    }
   },
   "source": [
    "### Summary"
   ]
  },
  {
   "cell_type": "markdown",
   "metadata": {},
   "source": [
    "We observe the following:\n",
    "\n",
    "1. **Underfitting** (degree < 5): The model is not able to fit the data properly. The fit is bad for both the training and the validation set.\n",
    "\n",
    "2. **Fit is just right** (degree = 5): The model is able to capture the underlying data distribution. The fit is good for both the training and the validation set.\n",
    "\n",
    "3. **Overfitting** (degree > 5): The model starts fitting the noise in the dataset. While the fit for the training data gets even better, the fit for the validation set gets worse.\n",
    "\n",
    "4. As the order of polynomial increases, the linear model coefficients become more likely to take on **large values**."
   ]
  },
  {
   "cell_type": "markdown",
   "metadata": {
    "ExecuteTime": {
     "end_time": "2020-11-03T08:47:28.699189Z",
     "start_time": "2020-11-03T08:47:28.695466Z"
    }
   },
   "source": [
    "## Part 2: Regularization"
   ]
  },
  {
   "cell_type": "markdown",
   "metadata": {},
   "source": [
    "There are two major ways to build a machine learning model with the ability to generalize well on unseen data:\n",
    "1. Train the simplest model possible for our purpose (according to Occam’s Razor).\n",
    "2. Train a complex or more expressive model on the data and perform regularization.\n",
    "\n",
    "Regularization is a method used to reduce the variance of a machine learning model. In other words, it is used to reduce overfitting. Regularization penalizes a model for being complex. For linear models, it means regularization forces model coefficients to be smaller in magnitude.\n",
    "\n",
    "Let's pick a polynomial model of degree **15** (which tends to overfit strongly) and try to regularize it using **L1** and **L2** penalties."
   ]
  },
  {
   "cell_type": "markdown",
   "metadata": {},
   "source": [
    "### L1 - Lasso regression"
   ]
  },
  {
   "cell_type": "code",
   "execution_count": 66,
   "metadata": {
    "ExecuteTime": {
     "end_time": "2020-11-09T16:54:25.991245Z",
     "start_time": "2020-11-09T16:54:24.079399Z"
    },
    "scrolled": false
   },
   "outputs": [
    {
     "data": {
      "image/png": "[encoded data removed]",
      "text/plain": [
       "<Figure size 648x324 with 1 Axes>"
      ]
     },
     "metadata": {
      "needs_background": "light"
     },
     "output_type": "display_data"
    }
   ],
   "source": [
    "rmse_train, rmse_valid = [], []\n",
    "for alpha in ALPHAS:    \n",
    "    results = cross_validate(make_model(degree=15, penalty='L1', alpha=alpha), \n",
    "                             X, y, cv=5,\n",
    "                             return_train_score=True,\n",
    "                             scoring='neg_root_mean_squared_error')\n",
    "    rmse_train.append(-np.mean(results['train_score']))\n",
    "    rmse_valid.append(-np.mean(results['test_score']))\n",
    "    \n",
    "plot_fitting_graph(ALPHAS, rmse_train, rmse_valid,\n",
    "                   xlabel='Regularization strength (alpha)', ylabel='Error (RMSE)',\n",
    "                   title='Lasso polynomial regression (L1): degree=15')"
   ]
  },
  {
   "cell_type": "markdown",
   "metadata": {},
   "source": [
    "### L2 - Ridge regression"
   ]
  },
  {
   "cell_type": "code",
   "execution_count": 67,
   "metadata": {
    "ExecuteTime": {
     "end_time": "2020-11-09T16:54:27.476850Z",
     "start_time": "2020-11-09T16:54:25.994424Z"
    }
   },
   "outputs": [
    {
     "data": {
      "image/png": "[encoded data removed]",
      "text/plain": [
       "<Figure size 648x324 with 1 Axes>"
      ]
     },
     "metadata": {
      "needs_background": "light"
     },
     "output_type": "display_data"
    }
   ],
   "source": [
    "rmse_train, rmse_valid = [], []\n",
    "for alpha in ALPHAS:    \n",
    "    results = cross_validate(make_model(degree=15, penalty='L2', alpha=alpha), \n",
    "                             X, y, cv=5,\n",
    "                             return_train_score=True,\n",
    "                             scoring='neg_root_mean_squared_error')\n",
    "    rmse_train.append(-np.mean(results['train_score']))\n",
    "    rmse_valid.append(-np.mean(results['test_score']))\n",
    "    \n",
    "plot_fitting_graph(ALPHAS, rmse_train, rmse_valid, \n",
    "                   xlabel='Regularization strength (alpha)', ylabel='Error (RMSE)', \n",
    "                   title='Ridge polynomial regression (L2): degree=15')"
   ]
  },
  {
   "cell_type": "markdown",
   "metadata": {
    "ExecuteTime": {
     "end_time": "2020-11-09T13:47:39.048589Z",
     "start_time": "2020-11-09T13:47:39.044912Z"
    }
   },
   "source": [
    "### Summary"
   ]
  },
  {
   "cell_type": "markdown",
   "metadata": {
    "ExecuteTime": {
     "end_time": "2020-11-09T13:49:03.993455Z",
     "start_time": "2020-11-09T13:49:03.987472Z"
    }
   },
   "source": [
    "1. We can control the regularization strength by changing the hyperparameter `alpha`.\n",
    "2. Regularized version of the model performs pretty well. Even in case the original original (unregularized) model is heavily overfitting due to excessive complexity."
   ]
  },
  {
   "cell_type": "markdown",
   "metadata": {
    "ExecuteTime": {
     "end_time": "2020-11-09T12:14:17.962945Z",
     "start_time": "2020-11-09T12:14:17.959952Z"
    }
   },
   "source": [
    "## Part 3: Homework assignment"
   ]
  },
  {
   "cell_type": "markdown",
   "metadata": {
    "ExecuteTime": {
     "end_time": "2020-11-09T12:19:37.487358Z",
     "start_time": "2020-11-09T12:19:37.482373Z"
    }
   },
   "source": [
    "### Excercise 1 - Magnitude"
   ]
  },
  {
   "cell_type": "markdown",
   "metadata": {},
   "source": [
    "As discussed earlier, regularization methods are expected to constraint the weights (model coefficients). \n",
    "\n",
    "Is it indeed happening? \n",
    "\n",
    "Please do a discovery on your own and find that out empirically (both for **L1** and **L2**). Let's use `degree=15` and `alpha` from `ALPHAS`."
   ]
  },
  {
   "cell_type": "markdown",
   "metadata": {},
   "source": [
    "#### L1"
   ]
  },
  {
   "cell_type": "code",
   "execution_count": 162,
   "metadata": {
    "ExecuteTime": {
     "end_time": "2020-11-09T16:54:27.482833Z",
     "start_time": "2020-11-09T16:54:27.478844Z"
    }
   },
   "outputs": [],
   "source": [
    "import seaborn as sns\n",
    "# создадим списки с кроссвалидационным данными модели обучения без регуляризации и с регуляризацией L1\n",
    "train_L1, valid_L1 = [], []\n",
    "train_no_reg, valid_no_reg = [], []\n",
    "\n",
    "for alpha in ALPHAS:\n",
    "    results_no_reg = cross_validate(make_model(degree=15, penalty=None), \n",
    "                             X, y, cv=5,\n",
    "                             return_train_score=True,\n",
    "                             scoring='neg_root_mean_squared_error')\n",
    "    train_no_reg.append(-np.mean(results_no_reg['train_score']))\n",
    "    valid_no_reg.append(-np.mean(results_no_reg['test_score']))\n",
    "  \n",
    "    results_L1 = cross_validate(make_model(degree=15, penalty='L1', alpha=alpha), \n",
    "                             X, y, cv=5,\n",
    "                             return_train_score=True,\n",
    "                             scoring='neg_root_mean_squared_error')\n",
    "    train_L1.append(-np.mean(results_L1['train_score']))\n",
    "    valid_L1.append(-np.mean(results_L1['test_score']))\n"
   ]
  },
  {
   "cell_type": "code",
   "execution_count": 306,
   "metadata": {
    "scrolled": true
   },
   "outputs": [
    {
     "data": {
      "text/plain": [
       "<matplotlib.legend.Legend at 0x1a1d19a7308>"
      ]
     },
     "execution_count": 306,
     "metadata": {},
     "output_type": "execute_result"
    },
    {
     "data": {
      "image/png": "[encoded data removed]",
      "text/plain": [
       "<Figure size 720x288 with 1 Axes>"
      ]
     },
     "metadata": {
      "needs_background": "light"
     },
     "output_type": "display_data"
    }
   ],
   "source": [
    "# создадим график на котором отобразим ошибку RMSE тренировочных \n",
    "# и проверочных данных без использования регуляризации L1 и с использованием.\n",
    "plt.figure(figsize=(10,4))\n",
    "plt.title('Regularization methods are expected to constraint the weights ')\n",
    "ax = sns.lineplot(y=train_no_reg, x=ALPHAS)\n",
    "ax = sns.lineplot(y=valid_no_reg, x=ALPHAS)\n",
    "ax = sns.lineplot(y=train_L1, x=ALPHAS)\n",
    "ax = sns.lineplot(y=valid_L1, x=ALPHAS)\n",
    "ax.set(xlabel='Regularization strength (alpha)', ylabel='Error(RMSE)')\n",
    "ax.legend(labels=['Training without regularization','Validation without regularization',\n",
    "                  'Training with L1', 'Validation with L1'], loc = 'best')"
   ]
  },
  {
   "cell_type": "markdown",
   "metadata": {},
   "source": [
    "На графике видно, что ошибка без регуляризации не изменится, т.к. изменять какие-то параметры нет возможности.\n",
    "На графике с регуляризацией также видно, что с увеличением параметра \"alpha\" ошибка RMSE по тренировочным и проверочным \n",
    "данным сначала сильно меняется, а после выходит на постепенное увеличение с увеличением параметра \"alpha\".\n",
    "Почему так происходит? Посмотрим на веса в coef_ в функции потерь с регуляризацией и без:"
   ]
  },
  {
   "cell_type": "code",
   "execution_count": 307,
   "metadata": {},
   "outputs": [],
   "source": [
    "coeff = pd.DataFrame()"
   ]
  },
  {
   "cell_type": "code",
   "execution_count": 308,
   "metadata": {},
   "outputs": [],
   "source": [
    "coeff['Without reg'] = np.array(make_model(degree=15).fit(X, y)['reg'].coef_)\n",
    "#coeff['Val without reg'] = np.array(make_model(degree=15).fit(X_valid, y_valid)['reg'].coef_)\n",
    "for alpha in ALPHAS:\n",
    "    coeff['With L1 alpha={:.2}'.format(alpha)] = np.array(make_model(degree=15, penalty='L1', alpha=alpha).fit(X, y)['reg'].coef_)\n",
    "    #coeff['Val with L1 alpha={:.2}'.format(alpha)] = np.array(make_model(degree=15, penalty='L1', alpha=alpha).fit(X_valid, y_valid)['reg'].coef_)"
   ]
  },
  {
   "cell_type": "code",
   "execution_count": 309,
   "metadata": {
    "scrolled": false
   },
   "outputs": [
    {
     "data": {
      "text/html": [
       "<div>\n",
       "<style scoped>\n",
       "    .dataframe tbody tr th:only-of-type {\n",
       "        vertical-align: middle;\n",
       "    }\n",
       "\n",
       "    .dataframe tbody tr th {\n",
       "        vertical-align: top;\n",
       "    }\n",
       "\n",
       "    .dataframe thead th {\n",
       "        text-align: right;\n",
       "    }\n",
       "</style>\n",
       "<table border=\"1\" class=\"dataframe\">\n",
       "  <thead>\n",
       "    <tr style=\"text-align: right;\">\n",
       "      <th></th>\n",
       "      <th>Without reg</th>\n",
       "      <th>With L1 alpha=0.0</th>\n",
       "      <th>With L1 alpha=0.013</th>\n",
       "      <th>With L1 alpha=0.025</th>\n",
       "      <th>With L1 alpha=0.038</th>\n",
       "      <th>With L1 alpha=0.05</th>\n",
       "      <th>With L1 alpha=0.062</th>\n",
       "      <th>With L1 alpha=0.075</th>\n",
       "      <th>With L1 alpha=0.088</th>\n",
       "      <th>With L1 alpha=0.1</th>\n",
       "      <th>...</th>\n",
       "      <th>With L1 alpha=0.39</th>\n",
       "      <th>With L1 alpha=0.4</th>\n",
       "      <th>With L1 alpha=0.41</th>\n",
       "      <th>With L1 alpha=0.43</th>\n",
       "      <th>With L1 alpha=0.44</th>\n",
       "      <th>With L1 alpha=0.45</th>\n",
       "      <th>With L1 alpha=0.46</th>\n",
       "      <th>With L1 alpha=0.48</th>\n",
       "      <th>With L1 alpha=0.49</th>\n",
       "      <th>With L1 alpha=0.5</th>\n",
       "    </tr>\n",
       "  </thead>\n",
       "  <tbody>\n",
       "    <tr>\n",
       "      <th>0</th>\n",
       "      <td>0.000000</td>\n",
       "      <td>0.000000</td>\n",
       "      <td>0.000000</td>\n",
       "      <td>0.000000</td>\n",
       "      <td>0.000000</td>\n",
       "      <td>0.000000</td>\n",
       "      <td>0.000000</td>\n",
       "      <td>0.000000</td>\n",
       "      <td>0.000000</td>\n",
       "      <td>0.000000</td>\n",
       "      <td>...</td>\n",
       "      <td>0.000000</td>\n",
       "      <td>0.000000</td>\n",
       "      <td>0.000000</td>\n",
       "      <td>0.000000</td>\n",
       "      <td>0.000000</td>\n",
       "      <td>0.000000</td>\n",
       "      <td>0.000000</td>\n",
       "      <td>0.000000</td>\n",
       "      <td>0.000000</td>\n",
       "      <td>0.000000</td>\n",
       "    </tr>\n",
       "    <tr>\n",
       "      <th>1</th>\n",
       "      <td>38.609810</td>\n",
       "      <td>38.609810</td>\n",
       "      <td>28.748949</td>\n",
       "      <td>27.003044</td>\n",
       "      <td>25.198158</td>\n",
       "      <td>23.453830</td>\n",
       "      <td>22.351030</td>\n",
       "      <td>21.484564</td>\n",
       "      <td>20.854500</td>\n",
       "      <td>20.274278</td>\n",
       "      <td>...</td>\n",
       "      <td>12.973284</td>\n",
       "      <td>12.448797</td>\n",
       "      <td>12.018127</td>\n",
       "      <td>11.496828</td>\n",
       "      <td>10.975088</td>\n",
       "      <td>10.445823</td>\n",
       "      <td>9.916777</td>\n",
       "      <td>9.387703</td>\n",
       "      <td>9.288379</td>\n",
       "      <td>9.207012</td>\n",
       "    </tr>\n",
       "    <tr>\n",
       "      <th>2</th>\n",
       "      <td>2.634153</td>\n",
       "      <td>2.634153</td>\n",
       "      <td>0.614730</td>\n",
       "      <td>0.565214</td>\n",
       "      <td>0.589041</td>\n",
       "      <td>0.569271</td>\n",
       "      <td>0.469203</td>\n",
       "      <td>0.421456</td>\n",
       "      <td>0.343016</td>\n",
       "      <td>0.304750</td>\n",
       "      <td>...</td>\n",
       "      <td>-0.000000</td>\n",
       "      <td>-0.000000</td>\n",
       "      <td>-0.000000</td>\n",
       "      <td>-0.000000</td>\n",
       "      <td>-0.000000</td>\n",
       "      <td>-0.000000</td>\n",
       "      <td>-0.000000</td>\n",
       "      <td>-0.000000</td>\n",
       "      <td>-0.000000</td>\n",
       "      <td>-0.000000</td>\n",
       "    </tr>\n",
       "    <tr>\n",
       "      <th>3</th>\n",
       "      <td>-129.000692</td>\n",
       "      <td>-129.000692</td>\n",
       "      <td>-43.181145</td>\n",
       "      <td>-38.231835</td>\n",
       "      <td>-33.060019</td>\n",
       "      <td>-28.121698</td>\n",
       "      <td>-25.242086</td>\n",
       "      <td>-23.061278</td>\n",
       "      <td>-21.938729</td>\n",
       "      <td>-20.895638</td>\n",
       "      <td>...</td>\n",
       "      <td>-8.920649</td>\n",
       "      <td>-7.619097</td>\n",
       "      <td>-6.585881</td>\n",
       "      <td>-5.293447</td>\n",
       "      <td>-3.999754</td>\n",
       "      <td>-2.684538</td>\n",
       "      <td>-1.369946</td>\n",
       "      <td>-0.055275</td>\n",
       "      <td>-0.000000</td>\n",
       "      <td>-0.000000</td>\n",
       "    </tr>\n",
       "    <tr>\n",
       "      <th>4</th>\n",
       "      <td>-205.296358</td>\n",
       "      <td>-205.296358</td>\n",
       "      <td>0.000000</td>\n",
       "      <td>0.000000</td>\n",
       "      <td>0.000000</td>\n",
       "      <td>0.000000</td>\n",
       "      <td>0.000000</td>\n",
       "      <td>0.000000</td>\n",
       "      <td>0.000000</td>\n",
       "      <td>0.000000</td>\n",
       "      <td>...</td>\n",
       "      <td>-0.000000</td>\n",
       "      <td>-0.000000</td>\n",
       "      <td>-0.000000</td>\n",
       "      <td>-0.000000</td>\n",
       "      <td>-0.000000</td>\n",
       "      <td>-0.000000</td>\n",
       "      <td>-0.000000</td>\n",
       "      <td>-0.000000</td>\n",
       "      <td>-0.000000</td>\n",
       "      <td>-0.000000</td>\n",
       "    </tr>\n",
       "    <tr>\n",
       "      <th>5</th>\n",
       "      <td>124.116329</td>\n",
       "      <td>124.116329</td>\n",
       "      <td>0.000000</td>\n",
       "      <td>0.000000</td>\n",
       "      <td>0.000000</td>\n",
       "      <td>0.000000</td>\n",
       "      <td>0.000000</td>\n",
       "      <td>0.000000</td>\n",
       "      <td>0.000000</td>\n",
       "      <td>0.000000</td>\n",
       "      <td>...</td>\n",
       "      <td>-1.843624</td>\n",
       "      <td>-2.665958</td>\n",
       "      <td>-3.303956</td>\n",
       "      <td>-4.120027</td>\n",
       "      <td>-4.936962</td>\n",
       "      <td>-5.768684</td>\n",
       "      <td>-6.599976</td>\n",
       "      <td>-7.431323</td>\n",
       "      <td>-7.388628</td>\n",
       "      <td>-7.306807</td>\n",
       "    </tr>\n",
       "    <tr>\n",
       "      <th>6</th>\n",
       "      <td>1603.406979</td>\n",
       "      <td>1603.406979</td>\n",
       "      <td>-0.000000</td>\n",
       "      <td>-0.000000</td>\n",
       "      <td>-0.000000</td>\n",
       "      <td>-0.000000</td>\n",
       "      <td>-0.000000</td>\n",
       "      <td>-0.000000</td>\n",
       "      <td>-0.000000</td>\n",
       "      <td>-0.000000</td>\n",
       "      <td>...</td>\n",
       "      <td>-0.000000</td>\n",
       "      <td>-0.000000</td>\n",
       "      <td>-0.000000</td>\n",
       "      <td>-0.000000</td>\n",
       "      <td>-0.000000</td>\n",
       "      <td>-0.000000</td>\n",
       "      <td>-0.000000</td>\n",
       "      <td>-0.000000</td>\n",
       "      <td>-0.000000</td>\n",
       "      <td>-0.000000</td>\n",
       "    </tr>\n",
       "    <tr>\n",
       "      <th>7</th>\n",
       "      <td>1006.776735</td>\n",
       "      <td>1006.776735</td>\n",
       "      <td>25.632049</td>\n",
       "      <td>19.799619</td>\n",
       "      <td>13.661002</td>\n",
       "      <td>7.872716</td>\n",
       "      <td>3.305249</td>\n",
       "      <td>0.000000</td>\n",
       "      <td>0.000000</td>\n",
       "      <td>0.000000</td>\n",
       "      <td>...</td>\n",
       "      <td>-0.000000</td>\n",
       "      <td>-0.000000</td>\n",
       "      <td>-0.000000</td>\n",
       "      <td>-0.000000</td>\n",
       "      <td>-0.000000</td>\n",
       "      <td>-0.000000</td>\n",
       "      <td>-0.000000</td>\n",
       "      <td>-0.000000</td>\n",
       "      <td>-0.000000</td>\n",
       "      <td>-0.000000</td>\n",
       "    </tr>\n",
       "    <tr>\n",
       "      <th>8</th>\n",
       "      <td>-4808.389175</td>\n",
       "      <td>-4808.389175</td>\n",
       "      <td>-0.000000</td>\n",
       "      <td>-0.000000</td>\n",
       "      <td>-0.019965</td>\n",
       "      <td>-0.515314</td>\n",
       "      <td>-0.000000</td>\n",
       "      <td>-0.000000</td>\n",
       "      <td>-0.000000</td>\n",
       "      <td>-0.000000</td>\n",
       "      <td>...</td>\n",
       "      <td>-0.000000</td>\n",
       "      <td>-0.000000</td>\n",
       "      <td>-0.000000</td>\n",
       "      <td>-0.000000</td>\n",
       "      <td>-0.000000</td>\n",
       "      <td>-0.000000</td>\n",
       "      <td>-0.000000</td>\n",
       "      <td>-0.000000</td>\n",
       "      <td>-0.000000</td>\n",
       "      <td>-0.000000</td>\n",
       "    </tr>\n",
       "    <tr>\n",
       "      <th>9</th>\n",
       "      <td>-4409.977436</td>\n",
       "      <td>-4409.977436</td>\n",
       "      <td>0.000000</td>\n",
       "      <td>0.000000</td>\n",
       "      <td>0.000000</td>\n",
       "      <td>0.000000</td>\n",
       "      <td>2.666278</td>\n",
       "      <td>4.582616</td>\n",
       "      <td>3.999535</td>\n",
       "      <td>3.455280</td>\n",
       "      <td>...</td>\n",
       "      <td>-0.000000</td>\n",
       "      <td>-0.000000</td>\n",
       "      <td>-0.000000</td>\n",
       "      <td>-0.000000</td>\n",
       "      <td>-0.000000</td>\n",
       "      <td>-0.000000</td>\n",
       "      <td>-0.000000</td>\n",
       "      <td>-0.000000</td>\n",
       "      <td>-0.000000</td>\n",
       "      <td>-0.000000</td>\n",
       "    </tr>\n",
       "    <tr>\n",
       "      <th>10</th>\n",
       "      <td>6841.530758</td>\n",
       "      <td>6841.530758</td>\n",
       "      <td>-0.000000</td>\n",
       "      <td>-0.235237</td>\n",
       "      <td>-0.860029</td>\n",
       "      <td>-0.300914</td>\n",
       "      <td>-0.729668</td>\n",
       "      <td>-0.685625</td>\n",
       "      <td>-0.138593</td>\n",
       "      <td>-0.000000</td>\n",
       "      <td>...</td>\n",
       "      <td>-0.000000</td>\n",
       "      <td>-0.000000</td>\n",
       "      <td>-0.000000</td>\n",
       "      <td>-0.000000</td>\n",
       "      <td>-0.000000</td>\n",
       "      <td>-0.000000</td>\n",
       "      <td>-0.000000</td>\n",
       "      <td>-0.000000</td>\n",
       "      <td>-0.000000</td>\n",
       "      <td>-0.000000</td>\n",
       "    </tr>\n",
       "    <tr>\n",
       "      <th>11</th>\n",
       "      <td>7371.086182</td>\n",
       "      <td>7371.086182</td>\n",
       "      <td>-0.000000</td>\n",
       "      <td>0.000000</td>\n",
       "      <td>0.000000</td>\n",
       "      <td>0.000000</td>\n",
       "      <td>0.000000</td>\n",
       "      <td>0.000000</td>\n",
       "      <td>0.000000</td>\n",
       "      <td>0.000000</td>\n",
       "      <td>...</td>\n",
       "      <td>-0.000000</td>\n",
       "      <td>-0.000000</td>\n",
       "      <td>-0.000000</td>\n",
       "      <td>-0.000000</td>\n",
       "      <td>-0.000000</td>\n",
       "      <td>-0.000000</td>\n",
       "      <td>-0.000000</td>\n",
       "      <td>-0.000000</td>\n",
       "      <td>-0.000000</td>\n",
       "      <td>-0.000000</td>\n",
       "    </tr>\n",
       "    <tr>\n",
       "      <th>12</th>\n",
       "      <td>-4655.769429</td>\n",
       "      <td>-4655.769429</td>\n",
       "      <td>-0.000000</td>\n",
       "      <td>-0.000000</td>\n",
       "      <td>-0.000000</td>\n",
       "      <td>-0.000000</td>\n",
       "      <td>-0.000000</td>\n",
       "      <td>-0.000000</td>\n",
       "      <td>-0.484955</td>\n",
       "      <td>-0.596468</td>\n",
       "      <td>...</td>\n",
       "      <td>-0.000000</td>\n",
       "      <td>-0.000000</td>\n",
       "      <td>-0.000000</td>\n",
       "      <td>-0.000000</td>\n",
       "      <td>-0.000000</td>\n",
       "      <td>-0.000000</td>\n",
       "      <td>-0.000000</td>\n",
       "      <td>-0.000000</td>\n",
       "      <td>-0.000000</td>\n",
       "      <td>-0.000000</td>\n",
       "    </tr>\n",
       "    <tr>\n",
       "      <th>13</th>\n",
       "      <td>-5620.369312</td>\n",
       "      <td>-5620.369312</td>\n",
       "      <td>-0.000000</td>\n",
       "      <td>-0.000000</td>\n",
       "      <td>-0.000000</td>\n",
       "      <td>-0.000000</td>\n",
       "      <td>0.000000</td>\n",
       "      <td>0.000000</td>\n",
       "      <td>0.000000</td>\n",
       "      <td>0.000000</td>\n",
       "      <td>...</td>\n",
       "      <td>-0.000000</td>\n",
       "      <td>-0.000000</td>\n",
       "      <td>-0.000000</td>\n",
       "      <td>-0.000000</td>\n",
       "      <td>-0.000000</td>\n",
       "      <td>-0.000000</td>\n",
       "      <td>-0.000000</td>\n",
       "      <td>-0.000000</td>\n",
       "      <td>-0.000000</td>\n",
       "      <td>-0.000000</td>\n",
       "    </tr>\n",
       "    <tr>\n",
       "      <th>14</th>\n",
       "      <td>1221.527742</td>\n",
       "      <td>1221.527742</td>\n",
       "      <td>-1.021214</td>\n",
       "      <td>-0.684502</td>\n",
       "      <td>-0.000000</td>\n",
       "      <td>-0.000000</td>\n",
       "      <td>-0.000000</td>\n",
       "      <td>-0.000000</td>\n",
       "      <td>-0.000000</td>\n",
       "      <td>-0.000000</td>\n",
       "      <td>...</td>\n",
       "      <td>-0.095371</td>\n",
       "      <td>-0.089321</td>\n",
       "      <td>-0.080767</td>\n",
       "      <td>-0.074632</td>\n",
       "      <td>-0.068508</td>\n",
       "      <td>-0.062585</td>\n",
       "      <td>-0.056657</td>\n",
       "      <td>-0.050729</td>\n",
       "      <td>-0.032313</td>\n",
       "      <td>-0.013285</td>\n",
       "    </tr>\n",
       "    <tr>\n",
       "      <th>15</th>\n",
       "      <td>1622.339635</td>\n",
       "      <td>1622.339635</td>\n",
       "      <td>-7.941478</td>\n",
       "      <td>-5.341890</td>\n",
       "      <td>-2.590236</td>\n",
       "      <td>-0.030216</td>\n",
       "      <td>-0.000000</td>\n",
       "      <td>0.000000</td>\n",
       "      <td>0.000000</td>\n",
       "      <td>0.000000</td>\n",
       "      <td>...</td>\n",
       "      <td>-0.000000</td>\n",
       "      <td>-0.000000</td>\n",
       "      <td>-0.000000</td>\n",
       "      <td>-0.000000</td>\n",
       "      <td>-0.000000</td>\n",
       "      <td>-0.000000</td>\n",
       "      <td>-0.000000</td>\n",
       "      <td>-0.000000</td>\n",
       "      <td>-0.000000</td>\n",
       "      <td>-0.000000</td>\n",
       "    </tr>\n",
       "  </tbody>\n",
       "</table>\n",
       "<p>16 rows × 42 columns</p>\n",
       "</div>"
      ],
      "text/plain": [
       "    Without reg  With L1 alpha=0.0  With L1 alpha=0.013  With L1 alpha=0.025  \\\n",
       "0      0.000000           0.000000             0.000000             0.000000   \n",
       "1     38.609810          38.609810            28.748949            27.003044   \n",
       "2      2.634153           2.634153             0.614730             0.565214   \n",
       "3   -129.000692        -129.000692           -43.181145           -38.231835   \n",
       "4   -205.296358        -205.296358             0.000000             0.000000   \n",
       "5    124.116329         124.116329             0.000000             0.000000   \n",
       "6   1603.406979        1603.406979            -0.000000            -0.000000   \n",
       "7   1006.776735        1006.776735            25.632049            19.799619   \n",
       "8  -4808.389175       -4808.389175            -0.000000            -0.000000   \n",
       "9  -4409.977436       -4409.977436             0.000000             0.000000   \n",
       "10  6841.530758        6841.530758            -0.000000            -0.235237   \n",
       "11  7371.086182        7371.086182            -0.000000             0.000000   \n",
       "12 -4655.769429       -4655.769429            -0.000000            -0.000000   \n",
       "13 -5620.369312       -5620.369312            -0.000000            -0.000000   \n",
       "14  1221.527742        1221.527742            -1.021214            -0.684502   \n",
       "15  1622.339635        1622.339635            -7.941478            -5.341890   \n",
       "\n",
       "    With L1 alpha=0.038  With L1 alpha=0.05  With L1 alpha=0.062  \\\n",
       "0              0.000000            0.000000             0.000000   \n",
       "1             25.198158           23.453830            22.351030   \n",
       "2              0.589041            0.569271             0.469203   \n",
       "3            -33.060019          -28.121698           -25.242086   \n",
       "4              0.000000            0.000000             0.000000   \n",
       "5              0.000000            0.000000             0.000000   \n",
       "6             -0.000000           -0.000000            -0.000000   \n",
       "7             13.661002            7.872716             3.305249   \n",
       "8             -0.019965           -0.515314            -0.000000   \n",
       "9              0.000000            0.000000             2.666278   \n",
       "10            -0.860029           -0.300914            -0.729668   \n",
       "11             0.000000            0.000000             0.000000   \n",
       "12            -0.000000           -0.000000            -0.000000   \n",
       "13            -0.000000           -0.000000             0.000000   \n",
       "14            -0.000000           -0.000000            -0.000000   \n",
       "15            -2.590236           -0.030216            -0.000000   \n",
       "\n",
       "    With L1 alpha=0.075  With L1 alpha=0.088  With L1 alpha=0.1  ...  \\\n",
       "0              0.000000             0.000000           0.000000  ...   \n",
       "1             21.484564            20.854500          20.274278  ...   \n",
       "2              0.421456             0.343016           0.304750  ...   \n",
       "3            -23.061278           -21.938729         -20.895638  ...   \n",
       "4              0.000000             0.000000           0.000000  ...   \n",
       "5              0.000000             0.000000           0.000000  ...   \n",
       "6             -0.000000            -0.000000          -0.000000  ...   \n",
       "7              0.000000             0.000000           0.000000  ...   \n",
       "8             -0.000000            -0.000000          -0.000000  ...   \n",
       "9              4.582616             3.999535           3.455280  ...   \n",
       "10            -0.685625            -0.138593          -0.000000  ...   \n",
       "11             0.000000             0.000000           0.000000  ...   \n",
       "12            -0.000000            -0.484955          -0.596468  ...   \n",
       "13             0.000000             0.000000           0.000000  ...   \n",
       "14            -0.000000            -0.000000          -0.000000  ...   \n",
       "15             0.000000             0.000000           0.000000  ...   \n",
       "\n",
       "    With L1 alpha=0.39  With L1 alpha=0.4  With L1 alpha=0.41  \\\n",
       "0             0.000000           0.000000            0.000000   \n",
       "1            12.973284          12.448797           12.018127   \n",
       "2            -0.000000          -0.000000           -0.000000   \n",
       "3            -8.920649          -7.619097           -6.585881   \n",
       "4            -0.000000          -0.000000           -0.000000   \n",
       "5            -1.843624          -2.665958           -3.303956   \n",
       "6            -0.000000          -0.000000           -0.000000   \n",
       "7            -0.000000          -0.000000           -0.000000   \n",
       "8            -0.000000          -0.000000           -0.000000   \n",
       "9            -0.000000          -0.000000           -0.000000   \n",
       "10           -0.000000          -0.000000           -0.000000   \n",
       "11           -0.000000          -0.000000           -0.000000   \n",
       "12           -0.000000          -0.000000           -0.000000   \n",
       "13           -0.000000          -0.000000           -0.000000   \n",
       "14           -0.095371          -0.089321           -0.080767   \n",
       "15           -0.000000          -0.000000           -0.000000   \n",
       "\n",
       "    With L1 alpha=0.43  With L1 alpha=0.44  With L1 alpha=0.45  \\\n",
       "0             0.000000            0.000000            0.000000   \n",
       "1            11.496828           10.975088           10.445823   \n",
       "2            -0.000000           -0.000000           -0.000000   \n",
       "3            -5.293447           -3.999754           -2.684538   \n",
       "4            -0.000000           -0.000000           -0.000000   \n",
       "5            -4.120027           -4.936962           -5.768684   \n",
       "6            -0.000000           -0.000000           -0.000000   \n",
       "7            -0.000000           -0.000000           -0.000000   \n",
       "8            -0.000000           -0.000000           -0.000000   \n",
       "9            -0.000000           -0.000000           -0.000000   \n",
       "10           -0.000000           -0.000000           -0.000000   \n",
       "11           -0.000000           -0.000000           -0.000000   \n",
       "12           -0.000000           -0.000000           -0.000000   \n",
       "13           -0.000000           -0.000000           -0.000000   \n",
       "14           -0.074632           -0.068508           -0.062585   \n",
       "15           -0.000000           -0.000000           -0.000000   \n",
       "\n",
       "    With L1 alpha=0.46  With L1 alpha=0.48  With L1 alpha=0.49  \\\n",
       "0             0.000000            0.000000            0.000000   \n",
       "1             9.916777            9.387703            9.288379   \n",
       "2            -0.000000           -0.000000           -0.000000   \n",
       "3            -1.369946           -0.055275           -0.000000   \n",
       "4            -0.000000           -0.000000           -0.000000   \n",
       "5            -6.599976           -7.431323           -7.388628   \n",
       "6            -0.000000           -0.000000           -0.000000   \n",
       "7            -0.000000           -0.000000           -0.000000   \n",
       "8            -0.000000           -0.000000           -0.000000   \n",
       "9            -0.000000           -0.000000           -0.000000   \n",
       "10           -0.000000           -0.000000           -0.000000   \n",
       "11           -0.000000           -0.000000           -0.000000   \n",
       "12           -0.000000           -0.000000           -0.000000   \n",
       "13           -0.000000           -0.000000           -0.000000   \n",
       "14           -0.056657           -0.050729           -0.032313   \n",
       "15           -0.000000           -0.000000           -0.000000   \n",
       "\n",
       "    With L1 alpha=0.5  \n",
       "0            0.000000  \n",
       "1            9.207012  \n",
       "2           -0.000000  \n",
       "3           -0.000000  \n",
       "4           -0.000000  \n",
       "5           -7.306807  \n",
       "6           -0.000000  \n",
       "7           -0.000000  \n",
       "8           -0.000000  \n",
       "9           -0.000000  \n",
       "10          -0.000000  \n",
       "11          -0.000000  \n",
       "12          -0.000000  \n",
       "13          -0.000000  \n",
       "14          -0.013285  \n",
       "15          -0.000000  \n",
       "\n",
       "[16 rows x 42 columns]"
      ]
     },
     "execution_count": 309,
     "metadata": {},
     "output_type": "execute_result"
    }
   ],
   "source": [
    "coeff"
   ]
  },
  {
   "cell_type": "code",
   "execution_count": 314,
   "metadata": {},
   "outputs": [],
   "source": [
    "coeff_v2 = pd.DataFrame()"
   ]
  },
  {
   "cell_type": "code",
   "execution_count": 315,
   "metadata": {},
   "outputs": [],
   "source": [
    "coeff_v2['Train without reg'] = np.array(make_model(degree=15).fit(X, y)['reg'].coef_)\n",
    "coeff_v2['Val without reg'] = np.array(make_model(degree=15).fit(X_valid, y_valid)['reg'].coef_)\n",
    "for alpha in ALPHAS:\n",
    "    coeff_v2['Train with L1 alpha={:.2}'.format(alpha)] = np.array(make_model(degree=15, penalty='L1', alpha=alpha).fit(X, y)['reg'].coef_)\n",
    "    coeff_v2['Val with L1 alpha={:.2}'.format(alpha)] = np.array(make_model(degree=15, penalty='L1', alpha=alpha).fit(X_valid, y_valid)['reg'].coef_)"
   ]
  },
  {
   "cell_type": "code",
   "execution_count": 316,
   "metadata": {},
   "outputs": [
    {
     "data": {
      "text/html": [
       "<div>\n",
       "<style scoped>\n",
       "    .dataframe tbody tr th:only-of-type {\n",
       "        vertical-align: middle;\n",
       "    }\n",
       "\n",
       "    .dataframe tbody tr th {\n",
       "        vertical-align: top;\n",
       "    }\n",
       "\n",
       "    .dataframe thead th {\n",
       "        text-align: right;\n",
       "    }\n",
       "</style>\n",
       "<table border=\"1\" class=\"dataframe\">\n",
       "  <thead>\n",
       "    <tr style=\"text-align: right;\">\n",
       "      <th></th>\n",
       "      <th>Train without reg</th>\n",
       "      <th>Val without reg</th>\n",
       "      <th>Train with L1 alpha=0.0</th>\n",
       "      <th>Val with L1 alpha=0.0</th>\n",
       "      <th>Train with L1 alpha=0.013</th>\n",
       "      <th>Val with L1 alpha=0.013</th>\n",
       "      <th>Train with L1 alpha=0.025</th>\n",
       "      <th>Val with L1 alpha=0.025</th>\n",
       "      <th>Train with L1 alpha=0.038</th>\n",
       "      <th>Val with L1 alpha=0.038</th>\n",
       "      <th>...</th>\n",
       "      <th>Train with L1 alpha=0.45</th>\n",
       "      <th>Val with L1 alpha=0.45</th>\n",
       "      <th>Train with L1 alpha=0.46</th>\n",
       "      <th>Val with L1 alpha=0.46</th>\n",
       "      <th>Train with L1 alpha=0.48</th>\n",
       "      <th>Val with L1 alpha=0.48</th>\n",
       "      <th>Train with L1 alpha=0.49</th>\n",
       "      <th>Val with L1 alpha=0.49</th>\n",
       "      <th>Train with L1 alpha=0.5</th>\n",
       "      <th>Val with L1 alpha=0.5</th>\n",
       "    </tr>\n",
       "  </thead>\n",
       "  <tbody>\n",
       "    <tr>\n",
       "      <th>0</th>\n",
       "      <td>0.000000</td>\n",
       "      <td>-1.742563e+00</td>\n",
       "      <td>0.000000</td>\n",
       "      <td>-1.742563e+00</td>\n",
       "      <td>0.000000</td>\n",
       "      <td>0.000000</td>\n",
       "      <td>0.000000</td>\n",
       "      <td>0.000000</td>\n",
       "      <td>0.000000</td>\n",
       "      <td>0.000000</td>\n",
       "      <td>...</td>\n",
       "      <td>0.000000</td>\n",
       "      <td>0.000000</td>\n",
       "      <td>0.000000</td>\n",
       "      <td>0.000000</td>\n",
       "      <td>0.000000</td>\n",
       "      <td>0.000000</td>\n",
       "      <td>0.000000</td>\n",
       "      <td>0.000000</td>\n",
       "      <td>0.000000</td>\n",
       "      <td>0.000000</td>\n",
       "    </tr>\n",
       "    <tr>\n",
       "      <th>1</th>\n",
       "      <td>38.609810</td>\n",
       "      <td>2.168540e+03</td>\n",
       "      <td>38.609810</td>\n",
       "      <td>2.168540e+03</td>\n",
       "      <td>28.748949</td>\n",
       "      <td>26.327807</td>\n",
       "      <td>27.003044</td>\n",
       "      <td>25.171467</td>\n",
       "      <td>25.198158</td>\n",
       "      <td>24.592616</td>\n",
       "      <td>...</td>\n",
       "      <td>10.445823</td>\n",
       "      <td>9.591888</td>\n",
       "      <td>9.916777</td>\n",
       "      <td>9.526926</td>\n",
       "      <td>9.387703</td>\n",
       "      <td>9.461455</td>\n",
       "      <td>9.288379</td>\n",
       "      <td>9.396573</td>\n",
       "      <td>9.207012</td>\n",
       "      <td>9.331547</td>\n",
       "    </tr>\n",
       "    <tr>\n",
       "      <th>2</th>\n",
       "      <td>2.634153</td>\n",
       "      <td>-3.122220e+03</td>\n",
       "      <td>2.634153</td>\n",
       "      <td>-3.122220e+03</td>\n",
       "      <td>0.614730</td>\n",
       "      <td>13.878237</td>\n",
       "      <td>0.565214</td>\n",
       "      <td>12.429514</td>\n",
       "      <td>0.589041</td>\n",
       "      <td>10.652947</td>\n",
       "      <td>...</td>\n",
       "      <td>-0.000000</td>\n",
       "      <td>-0.000000</td>\n",
       "      <td>-0.000000</td>\n",
       "      <td>-0.000000</td>\n",
       "      <td>-0.000000</td>\n",
       "      <td>-0.000000</td>\n",
       "      <td>-0.000000</td>\n",
       "      <td>-0.000000</td>\n",
       "      <td>-0.000000</td>\n",
       "      <td>-0.000000</td>\n",
       "    </tr>\n",
       "    <tr>\n",
       "      <th>3</th>\n",
       "      <td>-129.000692</td>\n",
       "      <td>-9.595679e+04</td>\n",
       "      <td>-129.000692</td>\n",
       "      <td>-9.595679e+04</td>\n",
       "      <td>-43.181145</td>\n",
       "      <td>-27.272521</td>\n",
       "      <td>-38.231835</td>\n",
       "      <td>-24.170688</td>\n",
       "      <td>-33.060019</td>\n",
       "      <td>-23.564557</td>\n",
       "      <td>...</td>\n",
       "      <td>-2.684538</td>\n",
       "      <td>-0.000000</td>\n",
       "      <td>-1.369946</td>\n",
       "      <td>-0.000000</td>\n",
       "      <td>-0.055275</td>\n",
       "      <td>-0.000000</td>\n",
       "      <td>-0.000000</td>\n",
       "      <td>-0.000000</td>\n",
       "      <td>-0.000000</td>\n",
       "      <td>-0.000000</td>\n",
       "    </tr>\n",
       "    <tr>\n",
       "      <th>4</th>\n",
       "      <td>-205.296358</td>\n",
       "      <td>3.400195e+05</td>\n",
       "      <td>-205.296358</td>\n",
       "      <td>3.400195e+05</td>\n",
       "      <td>0.000000</td>\n",
       "      <td>-21.153036</td>\n",
       "      <td>0.000000</td>\n",
       "      <td>-19.151649</td>\n",
       "      <td>0.000000</td>\n",
       "      <td>-16.496992</td>\n",
       "      <td>...</td>\n",
       "      <td>-0.000000</td>\n",
       "      <td>-0.000000</td>\n",
       "      <td>-0.000000</td>\n",
       "      <td>-0.000000</td>\n",
       "      <td>-0.000000</td>\n",
       "      <td>-0.000000</td>\n",
       "      <td>-0.000000</td>\n",
       "      <td>-0.000000</td>\n",
       "      <td>-0.000000</td>\n",
       "      <td>-0.000000</td>\n",
       "    </tr>\n",
       "    <tr>\n",
       "      <th>5</th>\n",
       "      <td>124.116329</td>\n",
       "      <td>1.038923e+06</td>\n",
       "      <td>124.116329</td>\n",
       "      <td>1.038923e+06</td>\n",
       "      <td>0.000000</td>\n",
       "      <td>2.695826</td>\n",
       "      <td>0.000000</td>\n",
       "      <td>0.000000</td>\n",
       "      <td>0.000000</td>\n",
       "      <td>-0.000000</td>\n",
       "      <td>...</td>\n",
       "      <td>-5.768684</td>\n",
       "      <td>-5.072054</td>\n",
       "      <td>-6.599976</td>\n",
       "      <td>-5.007074</td>\n",
       "      <td>-7.431323</td>\n",
       "      <td>-4.941682</td>\n",
       "      <td>-7.388628</td>\n",
       "      <td>-4.876766</td>\n",
       "      <td>-7.306807</td>\n",
       "      <td>-4.811734</td>\n",
       "    </tr>\n",
       "    <tr>\n",
       "      <th>6</th>\n",
       "      <td>1603.406979</td>\n",
       "      <td>-4.362226e+06</td>\n",
       "      <td>1603.406979</td>\n",
       "      <td>-4.362226e+06</td>\n",
       "      <td>-0.000000</td>\n",
       "      <td>-0.000000</td>\n",
       "      <td>-0.000000</td>\n",
       "      <td>-0.000000</td>\n",
       "      <td>-0.000000</td>\n",
       "      <td>-0.000000</td>\n",
       "      <td>...</td>\n",
       "      <td>-0.000000</td>\n",
       "      <td>-0.000000</td>\n",
       "      <td>-0.000000</td>\n",
       "      <td>-0.000000</td>\n",
       "      <td>-0.000000</td>\n",
       "      <td>-0.000000</td>\n",
       "      <td>-0.000000</td>\n",
       "      <td>-0.000000</td>\n",
       "      <td>-0.000000</td>\n",
       "      <td>-0.000000</td>\n",
       "    </tr>\n",
       "    <tr>\n",
       "      <th>7</th>\n",
       "      <td>1006.776735</td>\n",
       "      <td>-7.554196e+06</td>\n",
       "      <td>1006.776735</td>\n",
       "      <td>-7.554196e+06</td>\n",
       "      <td>25.632049</td>\n",
       "      <td>0.000000</td>\n",
       "      <td>19.799619</td>\n",
       "      <td>-0.000000</td>\n",
       "      <td>13.661002</td>\n",
       "      <td>-0.000000</td>\n",
       "      <td>...</td>\n",
       "      <td>-0.000000</td>\n",
       "      <td>-0.000000</td>\n",
       "      <td>-0.000000</td>\n",
       "      <td>-0.000000</td>\n",
       "      <td>-0.000000</td>\n",
       "      <td>-0.000000</td>\n",
       "      <td>-0.000000</td>\n",
       "      <td>-0.000000</td>\n",
       "      <td>-0.000000</td>\n",
       "      <td>-0.000000</td>\n",
       "    </tr>\n",
       "    <tr>\n",
       "      <th>8</th>\n",
       "      <td>-4808.389175</td>\n",
       "      <td>2.121258e+07</td>\n",
       "      <td>-4808.389175</td>\n",
       "      <td>2.121258e+07</td>\n",
       "      <td>-0.000000</td>\n",
       "      <td>0.000000</td>\n",
       "      <td>-0.000000</td>\n",
       "      <td>-0.000000</td>\n",
       "      <td>-0.019965</td>\n",
       "      <td>-0.000000</td>\n",
       "      <td>...</td>\n",
       "      <td>-0.000000</td>\n",
       "      <td>-0.000000</td>\n",
       "      <td>-0.000000</td>\n",
       "      <td>-0.000000</td>\n",
       "      <td>-0.000000</td>\n",
       "      <td>-0.000000</td>\n",
       "      <td>-0.000000</td>\n",
       "      <td>-0.000000</td>\n",
       "      <td>-0.000000</td>\n",
       "      <td>-0.000000</td>\n",
       "    </tr>\n",
       "    <tr>\n",
       "      <th>9</th>\n",
       "      <td>-4409.977436</td>\n",
       "      <td>3.597158e+07</td>\n",
       "      <td>-4409.977436</td>\n",
       "      <td>3.597158e+07</td>\n",
       "      <td>0.000000</td>\n",
       "      <td>-0.000000</td>\n",
       "      <td>0.000000</td>\n",
       "      <td>-0.000000</td>\n",
       "      <td>0.000000</td>\n",
       "      <td>-0.000000</td>\n",
       "      <td>...</td>\n",
       "      <td>-0.000000</td>\n",
       "      <td>-0.000000</td>\n",
       "      <td>-0.000000</td>\n",
       "      <td>-0.000000</td>\n",
       "      <td>-0.000000</td>\n",
       "      <td>-0.000000</td>\n",
       "      <td>-0.000000</td>\n",
       "      <td>-0.000000</td>\n",
       "      <td>-0.000000</td>\n",
       "      <td>-0.000000</td>\n",
       "    </tr>\n",
       "    <tr>\n",
       "      <th>10</th>\n",
       "      <td>6841.530758</td>\n",
       "      <td>-3.669266e+07</td>\n",
       "      <td>6841.530758</td>\n",
       "      <td>-3.669266e+07</td>\n",
       "      <td>-0.000000</td>\n",
       "      <td>0.000000</td>\n",
       "      <td>-0.235237</td>\n",
       "      <td>0.000000</td>\n",
       "      <td>-0.860029</td>\n",
       "      <td>0.000000</td>\n",
       "      <td>...</td>\n",
       "      <td>-0.000000</td>\n",
       "      <td>-0.000000</td>\n",
       "      <td>-0.000000</td>\n",
       "      <td>0.000000</td>\n",
       "      <td>-0.000000</td>\n",
       "      <td>0.000000</td>\n",
       "      <td>-0.000000</td>\n",
       "      <td>0.000000</td>\n",
       "      <td>-0.000000</td>\n",
       "      <td>0.000000</td>\n",
       "    </tr>\n",
       "    <tr>\n",
       "      <th>11</th>\n",
       "      <td>7371.086182</td>\n",
       "      <td>-7.920232e+07</td>\n",
       "      <td>7371.086182</td>\n",
       "      <td>-7.920232e+07</td>\n",
       "      <td>-0.000000</td>\n",
       "      <td>-3.791500</td>\n",
       "      <td>0.000000</td>\n",
       "      <td>-2.211531</td>\n",
       "      <td>0.000000</td>\n",
       "      <td>-0.000000</td>\n",
       "      <td>...</td>\n",
       "      <td>-0.000000</td>\n",
       "      <td>-0.000000</td>\n",
       "      <td>-0.000000</td>\n",
       "      <td>-0.000000</td>\n",
       "      <td>-0.000000</td>\n",
       "      <td>-0.000000</td>\n",
       "      <td>-0.000000</td>\n",
       "      <td>-0.000000</td>\n",
       "      <td>-0.000000</td>\n",
       "      <td>-0.000000</td>\n",
       "    </tr>\n",
       "    <tr>\n",
       "      <th>12</th>\n",
       "      <td>-4655.769429</td>\n",
       "      <td>5.588994e+06</td>\n",
       "      <td>-4655.769429</td>\n",
       "      <td>5.588994e+06</td>\n",
       "      <td>-0.000000</td>\n",
       "      <td>0.000000</td>\n",
       "      <td>-0.000000</td>\n",
       "      <td>0.000000</td>\n",
       "      <td>-0.000000</td>\n",
       "      <td>0.000000</td>\n",
       "      <td>...</td>\n",
       "      <td>-0.000000</td>\n",
       "      <td>0.000000</td>\n",
       "      <td>-0.000000</td>\n",
       "      <td>0.000000</td>\n",
       "      <td>-0.000000</td>\n",
       "      <td>0.000000</td>\n",
       "      <td>-0.000000</td>\n",
       "      <td>0.000000</td>\n",
       "      <td>-0.000000</td>\n",
       "      <td>0.000000</td>\n",
       "    </tr>\n",
       "    <tr>\n",
       "      <th>13</th>\n",
       "      <td>-5620.369312</td>\n",
       "      <td>6.127250e+07</td>\n",
       "      <td>-5620.369312</td>\n",
       "      <td>6.127250e+07</td>\n",
       "      <td>-0.000000</td>\n",
       "      <td>-0.000000</td>\n",
       "      <td>-0.000000</td>\n",
       "      <td>-0.177128</td>\n",
       "      <td>-0.000000</td>\n",
       "      <td>-1.464857</td>\n",
       "      <td>...</td>\n",
       "      <td>-0.000000</td>\n",
       "      <td>-0.000000</td>\n",
       "      <td>-0.000000</td>\n",
       "      <td>-0.000000</td>\n",
       "      <td>-0.000000</td>\n",
       "      <td>-0.000000</td>\n",
       "      <td>-0.000000</td>\n",
       "      <td>-0.000000</td>\n",
       "      <td>-0.000000</td>\n",
       "      <td>-0.000000</td>\n",
       "    </tr>\n",
       "    <tr>\n",
       "      <th>14</th>\n",
       "      <td>1221.527742</td>\n",
       "      <td>2.407137e+07</td>\n",
       "      <td>1221.527742</td>\n",
       "      <td>2.407137e+07</td>\n",
       "      <td>-1.021214</td>\n",
       "      <td>0.000000</td>\n",
       "      <td>-0.684502</td>\n",
       "      <td>0.000000</td>\n",
       "      <td>-0.000000</td>\n",
       "      <td>0.000000</td>\n",
       "      <td>...</td>\n",
       "      <td>-0.062585</td>\n",
       "      <td>0.000000</td>\n",
       "      <td>-0.056657</td>\n",
       "      <td>0.000000</td>\n",
       "      <td>-0.050729</td>\n",
       "      <td>0.000000</td>\n",
       "      <td>-0.032313</td>\n",
       "      <td>0.000000</td>\n",
       "      <td>-0.013285</td>\n",
       "      <td>0.000000</td>\n",
       "    </tr>\n",
       "    <tr>\n",
       "      <th>15</th>\n",
       "      <td>1622.339635</td>\n",
       "      <td>-1.277257e+06</td>\n",
       "      <td>1622.339635</td>\n",
       "      <td>-1.277257e+06</td>\n",
       "      <td>-7.941478</td>\n",
       "      <td>-0.000000</td>\n",
       "      <td>-5.341890</td>\n",
       "      <td>-0.000000</td>\n",
       "      <td>-2.590236</td>\n",
       "      <td>-0.000000</td>\n",
       "      <td>...</td>\n",
       "      <td>-0.000000</td>\n",
       "      <td>-0.000000</td>\n",
       "      <td>-0.000000</td>\n",
       "      <td>-0.000000</td>\n",
       "      <td>-0.000000</td>\n",
       "      <td>-0.000000</td>\n",
       "      <td>-0.000000</td>\n",
       "      <td>-0.000000</td>\n",
       "      <td>-0.000000</td>\n",
       "      <td>-0.000000</td>\n",
       "    </tr>\n",
       "  </tbody>\n",
       "</table>\n",
       "<p>16 rows × 84 columns</p>\n",
       "</div>"
      ],
      "text/plain": [
       "    Train without reg  Val without reg  Train with L1 alpha=0.0  \\\n",
       "0            0.000000    -1.742563e+00                 0.000000   \n",
       "1           38.609810     2.168540e+03                38.609810   \n",
       "2            2.634153    -3.122220e+03                 2.634153   \n",
       "3         -129.000692    -9.595679e+04              -129.000692   \n",
       "4         -205.296358     3.400195e+05              -205.296358   \n",
       "5          124.116329     1.038923e+06               124.116329   \n",
       "6         1603.406979    -4.362226e+06              1603.406979   \n",
       "7         1006.776735    -7.554196e+06              1006.776735   \n",
       "8        -4808.389175     2.121258e+07             -4808.389175   \n",
       "9        -4409.977436     3.597158e+07             -4409.977436   \n",
       "10        6841.530758    -3.669266e+07              6841.530758   \n",
       "11        7371.086182    -7.920232e+07              7371.086182   \n",
       "12       -4655.769429     5.588994e+06             -4655.769429   \n",
       "13       -5620.369312     6.127250e+07             -5620.369312   \n",
       "14        1221.527742     2.407137e+07              1221.527742   \n",
       "15        1622.339635    -1.277257e+06              1622.339635   \n",
       "\n",
       "    Val with L1 alpha=0.0  Train with L1 alpha=0.013  Val with L1 alpha=0.013  \\\n",
       "0           -1.742563e+00                   0.000000                 0.000000   \n",
       "1            2.168540e+03                  28.748949                26.327807   \n",
       "2           -3.122220e+03                   0.614730                13.878237   \n",
       "3           -9.595679e+04                 -43.181145               -27.272521   \n",
       "4            3.400195e+05                   0.000000               -21.153036   \n",
       "5            1.038923e+06                   0.000000                 2.695826   \n",
       "6           -4.362226e+06                  -0.000000                -0.000000   \n",
       "7           -7.554196e+06                  25.632049                 0.000000   \n",
       "8            2.121258e+07                  -0.000000                 0.000000   \n",
       "9            3.597158e+07                   0.000000                -0.000000   \n",
       "10          -3.669266e+07                  -0.000000                 0.000000   \n",
       "11          -7.920232e+07                  -0.000000                -3.791500   \n",
       "12           5.588994e+06                  -0.000000                 0.000000   \n",
       "13           6.127250e+07                  -0.000000                -0.000000   \n",
       "14           2.407137e+07                  -1.021214                 0.000000   \n",
       "15          -1.277257e+06                  -7.941478                -0.000000   \n",
       "\n",
       "    Train with L1 alpha=0.025  Val with L1 alpha=0.025  \\\n",
       "0                    0.000000                 0.000000   \n",
       "1                   27.003044                25.171467   \n",
       "2                    0.565214                12.429514   \n",
       "3                  -38.231835               -24.170688   \n",
       "4                    0.000000               -19.151649   \n",
       "5                    0.000000                 0.000000   \n",
       "6                   -0.000000                -0.000000   \n",
       "7                   19.799619                -0.000000   \n",
       "8                   -0.000000                -0.000000   \n",
       "9                    0.000000                -0.000000   \n",
       "10                  -0.235237                 0.000000   \n",
       "11                   0.000000                -2.211531   \n",
       "12                  -0.000000                 0.000000   \n",
       "13                  -0.000000                -0.177128   \n",
       "14                  -0.684502                 0.000000   \n",
       "15                  -5.341890                -0.000000   \n",
       "\n",
       "    Train with L1 alpha=0.038  Val with L1 alpha=0.038  ...  \\\n",
       "0                    0.000000                 0.000000  ...   \n",
       "1                   25.198158                24.592616  ...   \n",
       "2                    0.589041                10.652947  ...   \n",
       "3                  -33.060019               -23.564557  ...   \n",
       "4                    0.000000               -16.496992  ...   \n",
       "5                    0.000000                -0.000000  ...   \n",
       "6                   -0.000000                -0.000000  ...   \n",
       "7                   13.661002                -0.000000  ...   \n",
       "8                   -0.019965                -0.000000  ...   \n",
       "9                    0.000000                -0.000000  ...   \n",
       "10                  -0.860029                 0.000000  ...   \n",
       "11                   0.000000                -0.000000  ...   \n",
       "12                  -0.000000                 0.000000  ...   \n",
       "13                  -0.000000                -1.464857  ...   \n",
       "14                  -0.000000                 0.000000  ...   \n",
       "15                  -2.590236                -0.000000  ...   \n",
       "\n",
       "    Train with L1 alpha=0.45  Val with L1 alpha=0.45  \\\n",
       "0                   0.000000                0.000000   \n",
       "1                  10.445823                9.591888   \n",
       "2                  -0.000000               -0.000000   \n",
       "3                  -2.684538               -0.000000   \n",
       "4                  -0.000000               -0.000000   \n",
       "5                  -5.768684               -5.072054   \n",
       "6                  -0.000000               -0.000000   \n",
       "7                  -0.000000               -0.000000   \n",
       "8                  -0.000000               -0.000000   \n",
       "9                  -0.000000               -0.000000   \n",
       "10                 -0.000000               -0.000000   \n",
       "11                 -0.000000               -0.000000   \n",
       "12                 -0.000000                0.000000   \n",
       "13                 -0.000000               -0.000000   \n",
       "14                 -0.062585                0.000000   \n",
       "15                 -0.000000               -0.000000   \n",
       "\n",
       "    Train with L1 alpha=0.46  Val with L1 alpha=0.46  \\\n",
       "0                   0.000000                0.000000   \n",
       "1                   9.916777                9.526926   \n",
       "2                  -0.000000               -0.000000   \n",
       "3                  -1.369946               -0.000000   \n",
       "4                  -0.000000               -0.000000   \n",
       "5                  -6.599976               -5.007074   \n",
       "6                  -0.000000               -0.000000   \n",
       "7                  -0.000000               -0.000000   \n",
       "8                  -0.000000               -0.000000   \n",
       "9                  -0.000000               -0.000000   \n",
       "10                 -0.000000                0.000000   \n",
       "11                 -0.000000               -0.000000   \n",
       "12                 -0.000000                0.000000   \n",
       "13                 -0.000000               -0.000000   \n",
       "14                 -0.056657                0.000000   \n",
       "15                 -0.000000               -0.000000   \n",
       "\n",
       "    Train with L1 alpha=0.48  Val with L1 alpha=0.48  \\\n",
       "0                   0.000000                0.000000   \n",
       "1                   9.387703                9.461455   \n",
       "2                  -0.000000               -0.000000   \n",
       "3                  -0.055275               -0.000000   \n",
       "4                  -0.000000               -0.000000   \n",
       "5                  -7.431323               -4.941682   \n",
       "6                  -0.000000               -0.000000   \n",
       "7                  -0.000000               -0.000000   \n",
       "8                  -0.000000               -0.000000   \n",
       "9                  -0.000000               -0.000000   \n",
       "10                 -0.000000                0.000000   \n",
       "11                 -0.000000               -0.000000   \n",
       "12                 -0.000000                0.000000   \n",
       "13                 -0.000000               -0.000000   \n",
       "14                 -0.050729                0.000000   \n",
       "15                 -0.000000               -0.000000   \n",
       "\n",
       "    Train with L1 alpha=0.49  Val with L1 alpha=0.49  Train with L1 alpha=0.5  \\\n",
       "0                   0.000000                0.000000                 0.000000   \n",
       "1                   9.288379                9.396573                 9.207012   \n",
       "2                  -0.000000               -0.000000                -0.000000   \n",
       "3                  -0.000000               -0.000000                -0.000000   \n",
       "4                  -0.000000               -0.000000                -0.000000   \n",
       "5                  -7.388628               -4.876766                -7.306807   \n",
       "6                  -0.000000               -0.000000                -0.000000   \n",
       "7                  -0.000000               -0.000000                -0.000000   \n",
       "8                  -0.000000               -0.000000                -0.000000   \n",
       "9                  -0.000000               -0.000000                -0.000000   \n",
       "10                 -0.000000                0.000000                -0.000000   \n",
       "11                 -0.000000               -0.000000                -0.000000   \n",
       "12                 -0.000000                0.000000                -0.000000   \n",
       "13                 -0.000000               -0.000000                -0.000000   \n",
       "14                 -0.032313                0.000000                -0.013285   \n",
       "15                 -0.000000               -0.000000                -0.000000   \n",
       "\n",
       "    Val with L1 alpha=0.5  \n",
       "0                0.000000  \n",
       "1                9.331547  \n",
       "2               -0.000000  \n",
       "3               -0.000000  \n",
       "4               -0.000000  \n",
       "5               -4.811734  \n",
       "6               -0.000000  \n",
       "7               -0.000000  \n",
       "8               -0.000000  \n",
       "9               -0.000000  \n",
       "10               0.000000  \n",
       "11              -0.000000  \n",
       "12               0.000000  \n",
       "13              -0.000000  \n",
       "14               0.000000  \n",
       "15              -0.000000  \n",
       "\n",
       "[16 rows x 84 columns]"
      ]
     },
     "execution_count": 316,
     "metadata": {},
     "output_type": "execute_result"
    }
   ],
   "source": [
    "coeff_v2"
   ]
  },
  {
   "cell_type": "markdown",
   "metadata": {},
   "source": [
    "Из таблицы видно как различаются веса при наличии и отсутствии регуляризации. Если модель была с регуляризацией, то такие \"взрывные\" веса занулялись, чтобы избежать переобучения.\n",
    "Во второй таблице, где данные разделены на тренировочный и проверочный датасеты можно увидеть, насколько при уменьшении количества данных возросли коэффициенты. При отсутствии регуляризации веса в проверочном датасете в отличие от тренировочного увеличились в несколько раз и достигали порядка 10 в 6 степени. \n",
    "При наличии регуляризации такого не отмечалось даже в небольшой проверочном датасете."
   ]
  },
  {
   "cell_type": "markdown",
   "metadata": {
    "ExecuteTime": {
     "end_time": "2020-11-09T13:36:11.940300Z",
     "start_time": "2020-11-09T13:36:11.936344Z"
    }
   },
   "source": [
    "#### L2"
   ]
  },
  {
   "cell_type": "code",
   "execution_count": 320,
   "metadata": {},
   "outputs": [],
   "source": [
    "import seaborn as sns\n",
    "\n",
    "train_L2, valid_L2 = [], []\n",
    "train_no_reg, valid_no_reg = [], []\n",
    "\n",
    "for alpha in ALPHAS:\n",
    "    results_no_reg = cross_validate(make_model(degree=15, penalty=None), \n",
    "                             X, y, cv=5,\n",
    "                             return_train_score=True,\n",
    "                             scoring='neg_root_mean_squared_error')\n",
    "    train_no_reg.append(-np.mean(results_no_reg['train_score']))\n",
    "    valid_no_reg.append(-np.mean(results_no_reg['test_score']))\n",
    "  \n",
    "    results_L2 = cross_validate(make_model(degree=15, penalty='L2', alpha=alpha), \n",
    "                             X, y, cv=5,\n",
    "                             return_train_score=True,\n",
    "                             scoring='neg_root_mean_squared_error')\n",
    "    train_L2.append(-np.mean(results_L2['train_score']))\n",
    "    valid_L2.append(-np.mean(results_L2['test_score']))"
   ]
  },
  {
   "cell_type": "code",
   "execution_count": 321,
   "metadata": {
    "ExecuteTime": {
     "end_time": "2020-11-09T16:54:27.493324Z",
     "start_time": "2020-11-09T16:54:27.486293Z"
    },
    "scrolled": true
   },
   "outputs": [
    {
     "data": {
      "text/plain": [
       "<matplotlib.legend.Legend at 0x1a1d1bdd288>"
      ]
     },
     "execution_count": 321,
     "metadata": {},
     "output_type": "execute_result"
    },
    {
     "data": {
      "image/png": "[encoded data removed]",
      "text/plain": [
       "<Figure size 720x288 with 1 Axes>"
      ]
     },
     "metadata": {
      "needs_background": "light"
     },
     "output_type": "display_data"
    }
   ],
   "source": [
    "plt.figure(figsize=(10,4))\n",
    "plt.title('Regularization methods are expected to constraint the weights ')\n",
    "ax = sns.lineplot(y=train_no_reg, x=ALPHAS)\n",
    "ax = sns.lineplot(y=valid_no_reg, x=ALPHAS)\n",
    "ax = sns.lineplot(y=train_L2, x=ALPHAS)\n",
    "ax = sns.lineplot(y=valid_L2, x=ALPHAS)\n",
    "ax.set(xlabel='Regularization strength (alpha)', ylabel='Error(RMSE)')\n",
    "ax.legend(labels=['Training without regularization','Validation without regularization',\n",
    "                  'Training with L2', 'Validation with L2'], loc = 'best')"
   ]
  },
  {
   "cell_type": "code",
   "execution_count": 322,
   "metadata": {},
   "outputs": [],
   "source": [
    "coeff_L2 = pd.DataFrame()"
   ]
  },
  {
   "cell_type": "code",
   "execution_count": 323,
   "metadata": {},
   "outputs": [],
   "source": [
    "coeff_L2['Without reg'] = np.array(make_model(degree=15).fit(X, y)['reg'].coef_)\n",
    "#coeff['Val without reg'] = np.array(make_model(degree=15).fit(X_valid, y_valid)['reg'].coef_)\n",
    "for alpha in ALPHAS:\n",
    "    coeff_L2['With L2 alpha={:.2}'.format(alpha)] = np.array(make_model(degree=15, penalty='L2', alpha=alpha).fit(X, y)['reg'].coef_)\n",
    "    #coeff['Val with L1 alpha={:.2}'.format(alpha)] = np.array(make_model(degree=15, penalty='L1', alpha=alpha).fit(X_valid, y_valid)['reg'].coef_)"
   ]
  },
  {
   "cell_type": "code",
   "execution_count": 324,
   "metadata": {},
   "outputs": [
    {
     "data": {
      "text/html": [
       "<div>\n",
       "<style scoped>\n",
       "    .dataframe tbody tr th:only-of-type {\n",
       "        vertical-align: middle;\n",
       "    }\n",
       "\n",
       "    .dataframe tbody tr th {\n",
       "        vertical-align: top;\n",
       "    }\n",
       "\n",
       "    .dataframe thead th {\n",
       "        text-align: right;\n",
       "    }\n",
       "</style>\n",
       "<table border=\"1\" class=\"dataframe\">\n",
       "  <thead>\n",
       "    <tr style=\"text-align: right;\">\n",
       "      <th></th>\n",
       "      <th>Without reg</th>\n",
       "      <th>With L2 alpha=0.0</th>\n",
       "      <th>With L2 alpha=0.013</th>\n",
       "      <th>With L2 alpha=0.025</th>\n",
       "      <th>With L2 alpha=0.038</th>\n",
       "      <th>With L2 alpha=0.05</th>\n",
       "      <th>With L2 alpha=0.062</th>\n",
       "      <th>With L2 alpha=0.075</th>\n",
       "      <th>With L2 alpha=0.088</th>\n",
       "      <th>With L2 alpha=0.1</th>\n",
       "      <th>...</th>\n",
       "      <th>With L2 alpha=0.39</th>\n",
       "      <th>With L2 alpha=0.4</th>\n",
       "      <th>With L2 alpha=0.41</th>\n",
       "      <th>With L2 alpha=0.43</th>\n",
       "      <th>With L2 alpha=0.44</th>\n",
       "      <th>With L2 alpha=0.45</th>\n",
       "      <th>With L2 alpha=0.46</th>\n",
       "      <th>With L2 alpha=0.48</th>\n",
       "      <th>With L2 alpha=0.49</th>\n",
       "      <th>With L2 alpha=0.5</th>\n",
       "    </tr>\n",
       "  </thead>\n",
       "  <tbody>\n",
       "    <tr>\n",
       "      <th>0</th>\n",
       "      <td>0.000000</td>\n",
       "      <td>0.000000</td>\n",
       "      <td>0.000000</td>\n",
       "      <td>0.000000</td>\n",
       "      <td>0.000000</td>\n",
       "      <td>0.000000</td>\n",
       "      <td>0.000000</td>\n",
       "      <td>0.000000</td>\n",
       "      <td>0.000000</td>\n",
       "      <td>0.000000</td>\n",
       "      <td>...</td>\n",
       "      <td>0.000000</td>\n",
       "      <td>0.000000</td>\n",
       "      <td>0.000000</td>\n",
       "      <td>0.000000</td>\n",
       "      <td>0.000000</td>\n",
       "      <td>0.000000</td>\n",
       "      <td>0.000000</td>\n",
       "      <td>0.000000</td>\n",
       "      <td>0.000000</td>\n",
       "      <td>0.000000</td>\n",
       "    </tr>\n",
       "    <tr>\n",
       "      <th>1</th>\n",
       "      <td>38.609810</td>\n",
       "      <td>38.609810</td>\n",
       "      <td>29.890142</td>\n",
       "      <td>28.405286</td>\n",
       "      <td>27.424831</td>\n",
       "      <td>26.654671</td>\n",
       "      <td>26.006041</td>\n",
       "      <td>25.440047</td>\n",
       "      <td>24.935625</td>\n",
       "      <td>24.479717</td>\n",
       "      <td>...</td>\n",
       "      <td>19.142691</td>\n",
       "      <td>19.009782</td>\n",
       "      <td>18.880904</td>\n",
       "      <td>18.755830</td>\n",
       "      <td>18.634350</td>\n",
       "      <td>18.516270</td>\n",
       "      <td>18.401410</td>\n",
       "      <td>18.289606</td>\n",
       "      <td>18.180705</td>\n",
       "      <td>18.074562</td>\n",
       "    </tr>\n",
       "    <tr>\n",
       "      <th>2</th>\n",
       "      <td>2.634153</td>\n",
       "      <td>2.634153</td>\n",
       "      <td>-1.433463</td>\n",
       "      <td>-0.874108</td>\n",
       "      <td>-0.686633</td>\n",
       "      <td>-0.573067</td>\n",
       "      <td>-0.482146</td>\n",
       "      <td>-0.401376</td>\n",
       "      <td>-0.327217</td>\n",
       "      <td>-0.258548</td>\n",
       "      <td>...</td>\n",
       "      <td>0.413523</td>\n",
       "      <td>0.421859</td>\n",
       "      <td>0.429410</td>\n",
       "      <td>0.436236</td>\n",
       "      <td>0.442393</td>\n",
       "      <td>0.447932</td>\n",
       "      <td>0.452899</td>\n",
       "      <td>0.457338</td>\n",
       "      <td>0.461289</td>\n",
       "      <td>0.464789</td>\n",
       "    </tr>\n",
       "    <tr>\n",
       "      <th>3</th>\n",
       "      <td>-129.000692</td>\n",
       "      <td>-129.000692</td>\n",
       "      <td>-49.188936</td>\n",
       "      <td>-42.489313</td>\n",
       "      <td>-38.726248</td>\n",
       "      <td>-36.059279</td>\n",
       "      <td>-33.963534</td>\n",
       "      <td>-32.223591</td>\n",
       "      <td>-30.730563</td>\n",
       "      <td>-29.421350</td>\n",
       "      <td>...</td>\n",
       "      <td>-16.215787</td>\n",
       "      <td>-15.934289</td>\n",
       "      <td>-15.663698</td>\n",
       "      <td>-15.403339</td>\n",
       "      <td>-15.152593</td>\n",
       "      <td>-14.910893</td>\n",
       "      <td>-14.677717</td>\n",
       "      <td>-14.452582</td>\n",
       "      <td>-14.235044</td>\n",
       "      <td>-14.024692</td>\n",
       "    </tr>\n",
       "    <tr>\n",
       "      <th>4</th>\n",
       "      <td>-205.296358</td>\n",
       "      <td>-205.296358</td>\n",
       "      <td>8.901954</td>\n",
       "      <td>5.682425</td>\n",
       "      <td>4.675661</td>\n",
       "      <td>4.185279</td>\n",
       "      <td>3.876469</td>\n",
       "      <td>3.648347</td>\n",
       "      <td>3.462983</td>\n",
       "      <td>3.303829</td>\n",
       "      <td>...</td>\n",
       "      <td>1.705368</td>\n",
       "      <td>1.674535</td>\n",
       "      <td>1.645247</td>\n",
       "      <td>1.617405</td>\n",
       "      <td>1.590916</td>\n",
       "      <td>1.565696</td>\n",
       "      <td>1.541667</td>\n",
       "      <td>1.518757</td>\n",
       "      <td>1.496897</td>\n",
       "      <td>1.476027</td>\n",
       "    </tr>\n",
       "    <tr>\n",
       "      <th>5</th>\n",
       "      <td>124.116329</td>\n",
       "      <td>124.116329</td>\n",
       "      <td>9.897989</td>\n",
       "      <td>2.951145</td>\n",
       "      <td>-0.022262</td>\n",
       "      <td>-1.680395</td>\n",
       "      <td>-2.737931</td>\n",
       "      <td>-3.469476</td>\n",
       "      <td>-4.003606</td>\n",
       "      <td>-4.408760</td>\n",
       "      <td>...</td>\n",
       "      <td>-6.151432</td>\n",
       "      <td>-6.149428</td>\n",
       "      <td>-6.145861</td>\n",
       "      <td>-6.140883</td>\n",
       "      <td>-6.134631</td>\n",
       "      <td>-6.127227</td>\n",
       "      <td>-6.118779</td>\n",
       "      <td>-6.109385</td>\n",
       "      <td>-6.099132</td>\n",
       "      <td>-6.088100</td>\n",
       "    </tr>\n",
       "    <tr>\n",
       "      <th>6</th>\n",
       "      <td>1603.406979</td>\n",
       "      <td>1603.406979</td>\n",
       "      <td>-10.103606</td>\n",
       "      <td>-5.237008</td>\n",
       "      <td>-3.552057</td>\n",
       "      <td>-2.723384</td>\n",
       "      <td>-2.242597</td>\n",
       "      <td>-1.934469</td>\n",
       "      <td>-1.722999</td>\n",
       "      <td>-1.570200</td>\n",
       "      <td>...</td>\n",
       "      <td>-0.753027</td>\n",
       "      <td>-0.737314</td>\n",
       "      <td>-0.721943</td>\n",
       "      <td>-0.706894</td>\n",
       "      <td>-0.692150</td>\n",
       "      <td>-0.677697</td>\n",
       "      <td>-0.663521</td>\n",
       "      <td>-0.649611</td>\n",
       "      <td>-0.635958</td>\n",
       "      <td>-0.622553</td>\n",
       "    </tr>\n",
       "    <tr>\n",
       "      <th>7</th>\n",
       "      <td>1006.776735</td>\n",
       "      <td>1006.776735</td>\n",
       "      <td>17.489019</td>\n",
       "      <td>14.412417</td>\n",
       "      <td>12.538612</td>\n",
       "      <td>11.167782</td>\n",
       "      <td>10.074211</td>\n",
       "      <td>9.160045</td>\n",
       "      <td>8.373886</td>\n",
       "      <td>7.685008</td>\n",
       "      <td>...</td>\n",
       "      <td>1.139575</td>\n",
       "      <td>1.017467</td>\n",
       "      <td>0.901293</td>\n",
       "      <td>0.790666</td>\n",
       "      <td>0.685235</td>\n",
       "      <td>0.584676</td>\n",
       "      <td>0.488691</td>\n",
       "      <td>0.397006</td>\n",
       "      <td>0.309368</td>\n",
       "      <td>0.225544</td>\n",
       "    </tr>\n",
       "    <tr>\n",
       "      <th>8</th>\n",
       "      <td>-4808.389175</td>\n",
       "      <td>-4808.389175</td>\n",
       "      <td>-3.416257</td>\n",
       "      <td>-2.341661</td>\n",
       "      <td>-2.117316</td>\n",
       "      <td>-2.059713</td>\n",
       "      <td>-2.043410</td>\n",
       "      <td>-2.035730</td>\n",
       "      <td>-2.027178</td>\n",
       "      <td>-2.015226</td>\n",
       "      <td>...</td>\n",
       "      <td>-1.444093</td>\n",
       "      <td>-1.421713</td>\n",
       "      <td>-1.399797</td>\n",
       "      <td>-1.378341</td>\n",
       "      <td>-1.357338</td>\n",
       "      <td>-1.336779</td>\n",
       "      <td>-1.316656</td>\n",
       "      <td>-1.296961</td>\n",
       "      <td>-1.277685</td>\n",
       "      <td>-1.258819</td>\n",
       "    </tr>\n",
       "    <tr>\n",
       "      <th>9</th>\n",
       "      <td>-4409.977436</td>\n",
       "      <td>-4409.977436</td>\n",
       "      <td>7.971469</td>\n",
       "      <td>10.056854</td>\n",
       "      <td>10.429190</td>\n",
       "      <td>10.304906</td>\n",
       "      <td>9.998321</td>\n",
       "      <td>9.622077</td>\n",
       "      <td>9.223840</td>\n",
       "      <td>8.825654</td>\n",
       "      <td>...</td>\n",
       "      <td>3.491092</td>\n",
       "      <td>3.369553</td>\n",
       "      <td>3.253030</td>\n",
       "      <td>3.141232</td>\n",
       "      <td>3.033891</td>\n",
       "      <td>2.930759</td>\n",
       "      <td>2.831605</td>\n",
       "      <td>2.736214</td>\n",
       "      <td>2.644387</td>\n",
       "      <td>2.555936</td>\n",
       "    </tr>\n",
       "    <tr>\n",
       "      <th>10</th>\n",
       "      <td>6841.530758</td>\n",
       "      <td>6841.530758</td>\n",
       "      <td>6.740765</td>\n",
       "      <td>2.948900</td>\n",
       "      <td>1.461011</td>\n",
       "      <td>0.659135</td>\n",
       "      <td>0.165115</td>\n",
       "      <td>-0.162337</td>\n",
       "      <td>-0.389460</td>\n",
       "      <td>-0.551789</td>\n",
       "      <td>...</td>\n",
       "      <td>-0.924049</td>\n",
       "      <td>-0.916302</td>\n",
       "      <td>-0.908499</td>\n",
       "      <td>-0.900676</td>\n",
       "      <td>-0.892858</td>\n",
       "      <td>-0.885068</td>\n",
       "      <td>-0.877326</td>\n",
       "      <td>-0.869645</td>\n",
       "      <td>-0.862040</td>\n",
       "      <td>-0.854519</td>\n",
       "    </tr>\n",
       "    <tr>\n",
       "      <th>11</th>\n",
       "      <td>7371.086182</td>\n",
       "      <td>7371.086182</td>\n",
       "      <td>-1.849680</td>\n",
       "      <td>2.114239</td>\n",
       "      <td>3.599464</td>\n",
       "      <td>4.267757</td>\n",
       "      <td>4.580820</td>\n",
       "      <td>4.714819</td>\n",
       "      <td>4.750341</td>\n",
       "      <td>4.728787</td>\n",
       "      <td>...</td>\n",
       "      <td>2.841563</td>\n",
       "      <td>2.781814</td>\n",
       "      <td>2.723942</td>\n",
       "      <td>2.667864</td>\n",
       "      <td>2.613502</td>\n",
       "      <td>2.560782</td>\n",
       "      <td>2.509632</td>\n",
       "      <td>2.459984</td>\n",
       "      <td>2.411775</td>\n",
       "      <td>2.364941</td>\n",
       "    </tr>\n",
       "    <tr>\n",
       "      <th>12</th>\n",
       "      <td>-4655.769429</td>\n",
       "      <td>-4655.769429</td>\n",
       "      <td>6.468514</td>\n",
       "      <td>3.126054</td>\n",
       "      <td>1.935789</td>\n",
       "      <td>1.337329</td>\n",
       "      <td>0.984558</td>\n",
       "      <td>0.756179</td>\n",
       "      <td>0.598704</td>\n",
       "      <td>0.484972</td>\n",
       "      <td>...</td>\n",
       "      <td>-0.044364</td>\n",
       "      <td>-0.051996</td>\n",
       "      <td>-0.059419</td>\n",
       "      <td>-0.066650</td>\n",
       "      <td>-0.073704</td>\n",
       "      <td>-0.080595</td>\n",
       "      <td>-0.087332</td>\n",
       "      <td>-0.093925</td>\n",
       "      <td>-0.100381</td>\n",
       "      <td>-0.106709</td>\n",
       "    </tr>\n",
       "    <tr>\n",
       "      <th>13</th>\n",
       "      <td>-5620.369312</td>\n",
       "      <td>-5620.369312</td>\n",
       "      <td>-6.430627</td>\n",
       "      <td>-4.410622</td>\n",
       "      <td>-3.373260</td>\n",
       "      <td>-2.702412</td>\n",
       "      <td>-2.214445</td>\n",
       "      <td>-1.834578</td>\n",
       "      <td>-1.525920</td>\n",
       "      <td>-1.267772</td>\n",
       "      <td>...</td>\n",
       "      <td>0.688821</td>\n",
       "      <td>0.714742</td>\n",
       "      <td>0.738783</td>\n",
       "      <td>0.761080</td>\n",
       "      <td>0.781757</td>\n",
       "      <td>0.800928</td>\n",
       "      <td>0.818696</td>\n",
       "      <td>0.835155</td>\n",
       "      <td>0.850392</td>\n",
       "      <td>0.864487</td>\n",
       "    </tr>\n",
       "    <tr>\n",
       "      <th>14</th>\n",
       "      <td>1221.527742</td>\n",
       "      <td>1221.527742</td>\n",
       "      <td>-7.645747</td>\n",
       "      <td>-3.783884</td>\n",
       "      <td>-2.179265</td>\n",
       "      <td>-1.270589</td>\n",
       "      <td>-0.685838</td>\n",
       "      <td>-0.282561</td>\n",
       "      <td>0.007704</td>\n",
       "      <td>0.222589</td>\n",
       "      <td>...</td>\n",
       "      <td>0.764378</td>\n",
       "      <td>0.749252</td>\n",
       "      <td>0.733785</td>\n",
       "      <td>0.718051</td>\n",
       "      <td>0.702115</td>\n",
       "      <td>0.686030</td>\n",
       "      <td>0.669845</td>\n",
       "      <td>0.653601</td>\n",
       "      <td>0.637334</td>\n",
       "      <td>0.621075</td>\n",
       "    </tr>\n",
       "    <tr>\n",
       "      <th>15</th>\n",
       "      <td>1622.339635</td>\n",
       "      <td>1622.339635</td>\n",
       "      <td>-4.538305</td>\n",
       "      <td>-7.832201</td>\n",
       "      <td>-8.682821</td>\n",
       "      <td>-8.782019</td>\n",
       "      <td>-8.587515</td>\n",
       "      <td>-8.267748</td>\n",
       "      <td>-7.896004</td>\n",
       "      <td>-7.507440</td>\n",
       "      <td>...</td>\n",
       "      <td>-2.098502</td>\n",
       "      <td>-1.982031</td>\n",
       "      <td>-1.871076</td>\n",
       "      <td>-1.765312</td>\n",
       "      <td>-1.664439</td>\n",
       "      <td>-1.568177</td>\n",
       "      <td>-1.476267</td>\n",
       "      <td>-1.388467</td>\n",
       "      <td>-1.304551</td>\n",
       "      <td>-1.224310</td>\n",
       "    </tr>\n",
       "  </tbody>\n",
       "</table>\n",
       "<p>16 rows × 42 columns</p>\n",
       "</div>"
      ],
      "text/plain": [
       "    Without reg  With L2 alpha=0.0  With L2 alpha=0.013  With L2 alpha=0.025  \\\n",
       "0      0.000000           0.000000             0.000000             0.000000   \n",
       "1     38.609810          38.609810            29.890142            28.405286   \n",
       "2      2.634153           2.634153            -1.433463            -0.874108   \n",
       "3   -129.000692        -129.000692           -49.188936           -42.489313   \n",
       "4   -205.296358        -205.296358             8.901954             5.682425   \n",
       "5    124.116329         124.116329             9.897989             2.951145   \n",
       "6   1603.406979        1603.406979           -10.103606            -5.237008   \n",
       "7   1006.776735        1006.776735            17.489019            14.412417   \n",
       "8  -4808.389175       -4808.389175            -3.416257            -2.341661   \n",
       "9  -4409.977436       -4409.977436             7.971469            10.056854   \n",
       "10  6841.530758        6841.530758             6.740765             2.948900   \n",
       "11  7371.086182        7371.086182            -1.849680             2.114239   \n",
       "12 -4655.769429       -4655.769429             6.468514             3.126054   \n",
       "13 -5620.369312       -5620.369312            -6.430627            -4.410622   \n",
       "14  1221.527742        1221.527742            -7.645747            -3.783884   \n",
       "15  1622.339635        1622.339635            -4.538305            -7.832201   \n",
       "\n",
       "    With L2 alpha=0.038  With L2 alpha=0.05  With L2 alpha=0.062  \\\n",
       "0              0.000000            0.000000             0.000000   \n",
       "1             27.424831           26.654671            26.006041   \n",
       "2             -0.686633           -0.573067            -0.482146   \n",
       "3            -38.726248          -36.059279           -33.963534   \n",
       "4              4.675661            4.185279             3.876469   \n",
       "5             -0.022262           -1.680395            -2.737931   \n",
       "6             -3.552057           -2.723384            -2.242597   \n",
       "7             12.538612           11.167782            10.074211   \n",
       "8             -2.117316           -2.059713            -2.043410   \n",
       "9             10.429190           10.304906             9.998321   \n",
       "10             1.461011            0.659135             0.165115   \n",
       "11             3.599464            4.267757             4.580820   \n",
       "12             1.935789            1.337329             0.984558   \n",
       "13            -3.373260           -2.702412            -2.214445   \n",
       "14            -2.179265           -1.270589            -0.685838   \n",
       "15            -8.682821           -8.782019            -8.587515   \n",
       "\n",
       "    With L2 alpha=0.075  With L2 alpha=0.088  With L2 alpha=0.1  ...  \\\n",
       "0              0.000000             0.000000           0.000000  ...   \n",
       "1             25.440047            24.935625          24.479717  ...   \n",
       "2             -0.401376            -0.327217          -0.258548  ...   \n",
       "3            -32.223591           -30.730563         -29.421350  ...   \n",
       "4              3.648347             3.462983           3.303829  ...   \n",
       "5             -3.469476            -4.003606          -4.408760  ...   \n",
       "6             -1.934469            -1.722999          -1.570200  ...   \n",
       "7              9.160045             8.373886           7.685008  ...   \n",
       "8             -2.035730            -2.027178          -2.015226  ...   \n",
       "9              9.622077             9.223840           8.825654  ...   \n",
       "10            -0.162337            -0.389460          -0.551789  ...   \n",
       "11             4.714819             4.750341           4.728787  ...   \n",
       "12             0.756179             0.598704           0.484972  ...   \n",
       "13            -1.834578            -1.525920          -1.267772  ...   \n",
       "14            -0.282561             0.007704           0.222589  ...   \n",
       "15            -8.267748            -7.896004          -7.507440  ...   \n",
       "\n",
       "    With L2 alpha=0.39  With L2 alpha=0.4  With L2 alpha=0.41  \\\n",
       "0             0.000000           0.000000            0.000000   \n",
       "1            19.142691          19.009782           18.880904   \n",
       "2             0.413523           0.421859            0.429410   \n",
       "3           -16.215787         -15.934289          -15.663698   \n",
       "4             1.705368           1.674535            1.645247   \n",
       "5            -6.151432          -6.149428           -6.145861   \n",
       "6            -0.753027          -0.737314           -0.721943   \n",
       "7             1.139575           1.017467            0.901293   \n",
       "8            -1.444093          -1.421713           -1.399797   \n",
       "9             3.491092           3.369553            3.253030   \n",
       "10           -0.924049          -0.916302           -0.908499   \n",
       "11            2.841563           2.781814            2.723942   \n",
       "12           -0.044364          -0.051996           -0.059419   \n",
       "13            0.688821           0.714742            0.738783   \n",
       "14            0.764378           0.749252            0.733785   \n",
       "15           -2.098502          -1.982031           -1.871076   \n",
       "\n",
       "    With L2 alpha=0.43  With L2 alpha=0.44  With L2 alpha=0.45  \\\n",
       "0             0.000000            0.000000            0.000000   \n",
       "1            18.755830           18.634350           18.516270   \n",
       "2             0.436236            0.442393            0.447932   \n",
       "3           -15.403339          -15.152593          -14.910893   \n",
       "4             1.617405            1.590916            1.565696   \n",
       "5            -6.140883           -6.134631           -6.127227   \n",
       "6            -0.706894           -0.692150           -0.677697   \n",
       "7             0.790666            0.685235            0.584676   \n",
       "8            -1.378341           -1.357338           -1.336779   \n",
       "9             3.141232            3.033891            2.930759   \n",
       "10           -0.900676           -0.892858           -0.885068   \n",
       "11            2.667864            2.613502            2.560782   \n",
       "12           -0.066650           -0.073704           -0.080595   \n",
       "13            0.761080            0.781757            0.800928   \n",
       "14            0.718051            0.702115            0.686030   \n",
       "15           -1.765312           -1.664439           -1.568177   \n",
       "\n",
       "    With L2 alpha=0.46  With L2 alpha=0.48  With L2 alpha=0.49  \\\n",
       "0             0.000000            0.000000            0.000000   \n",
       "1            18.401410           18.289606           18.180705   \n",
       "2             0.452899            0.457338            0.461289   \n",
       "3           -14.677717          -14.452582          -14.235044   \n",
       "4             1.541667            1.518757            1.496897   \n",
       "5            -6.118779           -6.109385           -6.099132   \n",
       "6            -0.663521           -0.649611           -0.635958   \n",
       "7             0.488691            0.397006            0.309368   \n",
       "8            -1.316656           -1.296961           -1.277685   \n",
       "9             2.831605            2.736214            2.644387   \n",
       "10           -0.877326           -0.869645           -0.862040   \n",
       "11            2.509632            2.459984            2.411775   \n",
       "12           -0.087332           -0.093925           -0.100381   \n",
       "13            0.818696            0.835155            0.850392   \n",
       "14            0.669845            0.653601            0.637334   \n",
       "15           -1.476267           -1.388467           -1.304551   \n",
       "\n",
       "    With L2 alpha=0.5  \n",
       "0            0.000000  \n",
       "1           18.074562  \n",
       "2            0.464789  \n",
       "3          -14.024692  \n",
       "4            1.476027  \n",
       "5           -6.088100  \n",
       "6           -0.622553  \n",
       "7            0.225544  \n",
       "8           -1.258819  \n",
       "9            2.555936  \n",
       "10          -0.854519  \n",
       "11           2.364941  \n",
       "12          -0.106709  \n",
       "13           0.864487  \n",
       "14           0.621075  \n",
       "15          -1.224310  \n",
       "\n",
       "[16 rows x 42 columns]"
      ]
     },
     "execution_count": 324,
     "metadata": {},
     "output_type": "execute_result"
    }
   ],
   "source": [
    "coeff_L2"
   ]
  },
  {
   "cell_type": "code",
   "execution_count": 325,
   "metadata": {},
   "outputs": [],
   "source": [
    "coeff_L2_v2 = pd.DataFrame()"
   ]
  },
  {
   "cell_type": "code",
   "execution_count": 326,
   "metadata": {},
   "outputs": [],
   "source": [
    "coeff_L2_v2['Train without reg'] = np.array(make_model(degree=15).fit(X, y)['reg'].coef_)\n",
    "coeff_L2_v2['Val without reg'] = np.array(make_model(degree=15).fit(X_valid, y_valid)['reg'].coef_)\n",
    "for alpha in ALPHAS:\n",
    "    coeff_L2_v2['Train with L2 alpha={:.2}'.format(alpha)] = np.array(make_model(degree=15, penalty='L2', alpha=alpha).fit(X, y)['reg'].coef_)\n",
    "    coeff_L2_v2['Val with L2 alpha={:.2}'.format(alpha)] = np.array(make_model(degree=15, penalty='L2', alpha=alpha).fit(X_valid, y_valid)['reg'].coef_)"
   ]
  },
  {
   "cell_type": "code",
   "execution_count": 327,
   "metadata": {
    "scrolled": true
   },
   "outputs": [
    {
     "data": {
      "text/html": [
       "<div>\n",
       "<style scoped>\n",
       "    .dataframe tbody tr th:only-of-type {\n",
       "        vertical-align: middle;\n",
       "    }\n",
       "\n",
       "    .dataframe tbody tr th {\n",
       "        vertical-align: top;\n",
       "    }\n",
       "\n",
       "    .dataframe thead th {\n",
       "        text-align: right;\n",
       "    }\n",
       "</style>\n",
       "<table border=\"1\" class=\"dataframe\">\n",
       "  <thead>\n",
       "    <tr style=\"text-align: right;\">\n",
       "      <th></th>\n",
       "      <th>Train without reg</th>\n",
       "      <th>Val without reg</th>\n",
       "      <th>Train with L2 alpha=0.0</th>\n",
       "      <th>Val with L2 alpha=0.0</th>\n",
       "      <th>Train with L2 alpha=0.013</th>\n",
       "      <th>Val with L2 alpha=0.013</th>\n",
       "      <th>Train with L2 alpha=0.025</th>\n",
       "      <th>Val with L2 alpha=0.025</th>\n",
       "      <th>Train with L2 alpha=0.038</th>\n",
       "      <th>Val with L2 alpha=0.038</th>\n",
       "      <th>...</th>\n",
       "      <th>Train with L2 alpha=0.45</th>\n",
       "      <th>Val with L2 alpha=0.45</th>\n",
       "      <th>Train with L2 alpha=0.46</th>\n",
       "      <th>Val with L2 alpha=0.46</th>\n",
       "      <th>Train with L2 alpha=0.48</th>\n",
       "      <th>Val with L2 alpha=0.48</th>\n",
       "      <th>Train with L2 alpha=0.49</th>\n",
       "      <th>Val with L2 alpha=0.49</th>\n",
       "      <th>Train with L2 alpha=0.5</th>\n",
       "      <th>Val with L2 alpha=0.5</th>\n",
       "    </tr>\n",
       "  </thead>\n",
       "  <tbody>\n",
       "    <tr>\n",
       "      <th>0</th>\n",
       "      <td>0.000000</td>\n",
       "      <td>-1.742563e+00</td>\n",
       "      <td>0.000000</td>\n",
       "      <td>-1.742563e+00</td>\n",
       "      <td>0.000000</td>\n",
       "      <td>0.000000</td>\n",
       "      <td>0.000000</td>\n",
       "      <td>0.000000</td>\n",
       "      <td>0.000000</td>\n",
       "      <td>0.000000</td>\n",
       "      <td>...</td>\n",
       "      <td>0.000000</td>\n",
       "      <td>0.000000</td>\n",
       "      <td>0.000000</td>\n",
       "      <td>0.000000</td>\n",
       "      <td>0.000000</td>\n",
       "      <td>0.000000</td>\n",
       "      <td>0.000000</td>\n",
       "      <td>0.000000</td>\n",
       "      <td>0.000000</td>\n",
       "      <td>0.000000</td>\n",
       "    </tr>\n",
       "    <tr>\n",
       "      <th>1</th>\n",
       "      <td>38.609810</td>\n",
       "      <td>2.168540e+03</td>\n",
       "      <td>38.609810</td>\n",
       "      <td>2.168540e+03</td>\n",
       "      <td>29.890142</td>\n",
       "      <td>26.203898</td>\n",
       "      <td>28.405286</td>\n",
       "      <td>24.314765</td>\n",
       "      <td>27.424831</td>\n",
       "      <td>23.163526</td>\n",
       "      <td>...</td>\n",
       "      <td>18.516270</td>\n",
       "      <td>13.884842</td>\n",
       "      <td>18.401410</td>\n",
       "      <td>13.764346</td>\n",
       "      <td>18.289606</td>\n",
       "      <td>13.647054</td>\n",
       "      <td>18.180705</td>\n",
       "      <td>13.532819</td>\n",
       "      <td>18.074562</td>\n",
       "      <td>13.421503</td>\n",
       "    </tr>\n",
       "    <tr>\n",
       "      <th>2</th>\n",
       "      <td>2.634153</td>\n",
       "      <td>-3.122220e+03</td>\n",
       "      <td>2.634153</td>\n",
       "      <td>-3.122220e+03</td>\n",
       "      <td>-1.433463</td>\n",
       "      <td>12.990838</td>\n",
       "      <td>-0.874108</td>\n",
       "      <td>11.191345</td>\n",
       "      <td>-0.686633</td>\n",
       "      <td>10.055963</td>\n",
       "      <td>...</td>\n",
       "      <td>0.447932</td>\n",
       "      <td>2.259204</td>\n",
       "      <td>0.452899</td>\n",
       "      <td>2.181012</td>\n",
       "      <td>0.457338</td>\n",
       "      <td>2.105794</td>\n",
       "      <td>0.461289</td>\n",
       "      <td>2.033391</td>\n",
       "      <td>0.464789</td>\n",
       "      <td>1.963656</td>\n",
       "    </tr>\n",
       "    <tr>\n",
       "      <th>3</th>\n",
       "      <td>-129.000692</td>\n",
       "      <td>-9.595679e+04</td>\n",
       "      <td>-129.000692</td>\n",
       "      <td>-9.595679e+04</td>\n",
       "      <td>-49.188936</td>\n",
       "      <td>-29.037643</td>\n",
       "      <td>-42.489313</td>\n",
       "      <td>-21.905872</td>\n",
       "      <td>-38.726248</td>\n",
       "      <td>-18.494501</td>\n",
       "      <td>...</td>\n",
       "      <td>-14.910893</td>\n",
       "      <td>-4.640321</td>\n",
       "      <td>-14.677717</td>\n",
       "      <td>-4.536015</td>\n",
       "      <td>-14.452582</td>\n",
       "      <td>-4.435378</td>\n",
       "      <td>-14.235044</td>\n",
       "      <td>-4.338198</td>\n",
       "      <td>-14.024692</td>\n",
       "      <td>-4.244280</td>\n",
       "    </tr>\n",
       "    <tr>\n",
       "      <th>4</th>\n",
       "      <td>-205.296358</td>\n",
       "      <td>3.400195e+05</td>\n",
       "      <td>-205.296358</td>\n",
       "      <td>3.400195e+05</td>\n",
       "      <td>8.901954</td>\n",
       "      <td>-14.961576</td>\n",
       "      <td>5.682425</td>\n",
       "      <td>-11.900995</td>\n",
       "      <td>4.675661</td>\n",
       "      <td>-10.055957</td>\n",
       "      <td>...</td>\n",
       "      <td>1.565696</td>\n",
       "      <td>-2.617029</td>\n",
       "      <td>1.541667</td>\n",
       "      <td>-2.566606</td>\n",
       "      <td>1.518757</td>\n",
       "      <td>-2.518250</td>\n",
       "      <td>1.496897</td>\n",
       "      <td>-2.471840</td>\n",
       "      <td>1.476027</td>\n",
       "      <td>-2.427261</td>\n",
       "    </tr>\n",
       "    <tr>\n",
       "      <th>5</th>\n",
       "      <td>124.116329</td>\n",
       "      <td>1.038923e+06</td>\n",
       "      <td>124.116329</td>\n",
       "      <td>1.038923e+06</td>\n",
       "      <td>9.897989</td>\n",
       "      <td>6.972060</td>\n",
       "      <td>2.951145</td>\n",
       "      <td>-0.250134</td>\n",
       "      <td>-0.022262</td>\n",
       "      <td>-2.827125</td>\n",
       "      <td>...</td>\n",
       "      <td>-6.127227</td>\n",
       "      <td>-4.680543</td>\n",
       "      <td>-6.118779</td>\n",
       "      <td>-4.627905</td>\n",
       "      <td>-6.109385</td>\n",
       "      <td>-4.576057</td>\n",
       "      <td>-6.099132</td>\n",
       "      <td>-4.525002</td>\n",
       "      <td>-6.088100</td>\n",
       "      <td>-4.474736</td>\n",
       "    </tr>\n",
       "    <tr>\n",
       "      <th>6</th>\n",
       "      <td>1603.406979</td>\n",
       "      <td>-4.362226e+06</td>\n",
       "      <td>1603.406979</td>\n",
       "      <td>-4.362226e+06</td>\n",
       "      <td>-10.103606</td>\n",
       "      <td>-10.288142</td>\n",
       "      <td>-5.237008</td>\n",
       "      <td>-8.782267</td>\n",
       "      <td>-3.552057</td>\n",
       "      <td>-8.071175</td>\n",
       "      <td>...</td>\n",
       "      <td>-0.677697</td>\n",
       "      <td>-2.607506</td>\n",
       "      <td>-0.663521</td>\n",
       "      <td>-2.547054</td>\n",
       "      <td>-0.649611</td>\n",
       "      <td>-2.488870</td>\n",
       "      <td>-0.635958</td>\n",
       "      <td>-2.432836</td>\n",
       "      <td>-0.622553</td>\n",
       "      <td>-2.378842</td>\n",
       "    </tr>\n",
       "    <tr>\n",
       "      <th>7</th>\n",
       "      <td>1006.776735</td>\n",
       "      <td>-7.554196e+06</td>\n",
       "      <td>1006.776735</td>\n",
       "      <td>-7.554196e+06</td>\n",
       "      <td>17.489019</td>\n",
       "      <td>2.335545</td>\n",
       "      <td>14.412417</td>\n",
       "      <td>-0.054631</td>\n",
       "      <td>12.538612</td>\n",
       "      <td>-1.237027</td>\n",
       "      <td>...</td>\n",
       "      <td>0.584676</td>\n",
       "      <td>-3.355116</td>\n",
       "      <td>0.488691</td>\n",
       "      <td>-3.330120</td>\n",
       "      <td>0.397006</td>\n",
       "      <td>-3.305140</td>\n",
       "      <td>0.309368</td>\n",
       "      <td>-3.280209</td>\n",
       "      <td>0.225544</td>\n",
       "      <td>-3.255356</td>\n",
       "    </tr>\n",
       "    <tr>\n",
       "      <th>8</th>\n",
       "      <td>-4808.389175</td>\n",
       "      <td>2.121258e+07</td>\n",
       "      <td>-4808.389175</td>\n",
       "      <td>2.121258e+07</td>\n",
       "      <td>-3.416257</td>\n",
       "      <td>-0.117417</td>\n",
       "      <td>-2.341661</td>\n",
       "      <td>-2.086091</td>\n",
       "      <td>-2.117316</td>\n",
       "      <td>-2.999063</td>\n",
       "      <td>...</td>\n",
       "      <td>-1.336779</td>\n",
       "      <td>-1.887475</td>\n",
       "      <td>-1.316656</td>\n",
       "      <td>-1.843371</td>\n",
       "      <td>-1.296961</td>\n",
       "      <td>-1.800688</td>\n",
       "      <td>-1.277685</td>\n",
       "      <td>-1.759369</td>\n",
       "      <td>-1.258819</td>\n",
       "      <td>-1.719357</td>\n",
       "    </tr>\n",
       "    <tr>\n",
       "      <th>9</th>\n",
       "      <td>-4409.977436</td>\n",
       "      <td>3.597158e+07</td>\n",
       "      <td>-4409.977436</td>\n",
       "      <td>3.597158e+07</td>\n",
       "      <td>7.971469</td>\n",
       "      <td>-5.706354</td>\n",
       "      <td>10.056854</td>\n",
       "      <td>-3.296028</td>\n",
       "      <td>10.429190</td>\n",
       "      <td>-2.730791</td>\n",
       "      <td>...</td>\n",
       "      <td>2.930759</td>\n",
       "      <td>-2.212324</td>\n",
       "      <td>2.831605</td>\n",
       "      <td>-2.196886</td>\n",
       "      <td>2.736214</td>\n",
       "      <td>-2.181579</td>\n",
       "      <td>2.644387</td>\n",
       "      <td>-2.166411</td>\n",
       "      <td>2.555936</td>\n",
       "      <td>-2.151388</td>\n",
       "    </tr>\n",
       "    <tr>\n",
       "      <th>10</th>\n",
       "      <td>6841.530758</td>\n",
       "      <td>-3.669266e+07</td>\n",
       "      <td>6841.530758</td>\n",
       "      <td>-3.669266e+07</td>\n",
       "      <td>6.740765</td>\n",
       "      <td>5.026705</td>\n",
       "      <td>2.948900</td>\n",
       "      <td>1.695804</td>\n",
       "      <td>1.461011</td>\n",
       "      <td>0.175118</td>\n",
       "      <td>...</td>\n",
       "      <td>-0.885068</td>\n",
       "      <td>-1.291232</td>\n",
       "      <td>-0.877326</td>\n",
       "      <td>-1.265045</td>\n",
       "      <td>-0.869645</td>\n",
       "      <td>-1.239442</td>\n",
       "      <td>-0.862040</td>\n",
       "      <td>-1.214413</td>\n",
       "      <td>-0.854519</td>\n",
       "      <td>-1.189950</td>\n",
       "    </tr>\n",
       "    <tr>\n",
       "      <th>11</th>\n",
       "      <td>7371.086182</td>\n",
       "      <td>-7.920232e+07</td>\n",
       "      <td>7371.086182</td>\n",
       "      <td>-7.920232e+07</td>\n",
       "      <td>-1.849680</td>\n",
       "      <td>-7.198448</td>\n",
       "      <td>2.114239</td>\n",
       "      <td>-3.993406</td>\n",
       "      <td>3.599464</td>\n",
       "      <td>-3.034139</td>\n",
       "      <td>...</td>\n",
       "      <td>2.560782</td>\n",
       "      <td>-1.319614</td>\n",
       "      <td>2.509632</td>\n",
       "      <td>-1.307300</td>\n",
       "      <td>2.459984</td>\n",
       "      <td>-1.295378</td>\n",
       "      <td>2.411775</td>\n",
       "      <td>-1.283829</td>\n",
       "      <td>2.364941</td>\n",
       "      <td>-1.272635</td>\n",
       "    </tr>\n",
       "    <tr>\n",
       "      <th>12</th>\n",
       "      <td>-4655.769429</td>\n",
       "      <td>5.588994e+06</td>\n",
       "      <td>-4655.769429</td>\n",
       "      <td>5.588994e+06</td>\n",
       "      <td>6.468514</td>\n",
       "      <td>3.478978</td>\n",
       "      <td>3.126054</td>\n",
       "      <td>1.690778</td>\n",
       "      <td>1.935789</td>\n",
       "      <td>0.744574</td>\n",
       "      <td>...</td>\n",
       "      <td>-0.080595</td>\n",
       "      <td>-0.965605</td>\n",
       "      <td>-0.087332</td>\n",
       "      <td>-0.952575</td>\n",
       "      <td>-0.093925</td>\n",
       "      <td>-0.939552</td>\n",
       "      <td>-0.100381</td>\n",
       "      <td>-0.926554</td>\n",
       "      <td>-0.106709</td>\n",
       "      <td>-0.913601</td>\n",
       "    </tr>\n",
       "    <tr>\n",
       "      <th>13</th>\n",
       "      <td>-5620.369312</td>\n",
       "      <td>6.127250e+07</td>\n",
       "      <td>-5620.369312</td>\n",
       "      <td>6.127250e+07</td>\n",
       "      <td>-6.430627</td>\n",
       "      <td>-2.315459</td>\n",
       "      <td>-4.410622</td>\n",
       "      <td>-1.691308</td>\n",
       "      <td>-3.373260</td>\n",
       "      <td>-1.579710</td>\n",
       "      <td>...</td>\n",
       "      <td>0.800928</td>\n",
       "      <td>-0.607320</td>\n",
       "      <td>0.818696</td>\n",
       "      <td>-0.596710</td>\n",
       "      <td>0.835155</td>\n",
       "      <td>-0.586663</td>\n",
       "      <td>0.850392</td>\n",
       "      <td>-0.577148</td>\n",
       "      <td>0.864487</td>\n",
       "      <td>-0.568135</td>\n",
       "    </tr>\n",
       "    <tr>\n",
       "      <th>14</th>\n",
       "      <td>1221.527742</td>\n",
       "      <td>2.407137e+07</td>\n",
       "      <td>1221.527742</td>\n",
       "      <td>2.407137e+07</td>\n",
       "      <td>-7.645747</td>\n",
       "      <td>-3.283262</td>\n",
       "      <td>-3.783884</td>\n",
       "      <td>-1.250871</td>\n",
       "      <td>-2.179265</td>\n",
       "      <td>-0.742336</td>\n",
       "      <td>...</td>\n",
       "      <td>0.686030</td>\n",
       "      <td>-0.877668</td>\n",
       "      <td>0.669845</td>\n",
       "      <td>-0.872513</td>\n",
       "      <td>0.653601</td>\n",
       "      <td>-0.867050</td>\n",
       "      <td>0.637334</td>\n",
       "      <td>-0.861310</td>\n",
       "      <td>0.621075</td>\n",
       "      <td>-0.855320</td>\n",
       "    </tr>\n",
       "    <tr>\n",
       "      <th>15</th>\n",
       "      <td>1622.339635</td>\n",
       "      <td>-1.277257e+06</td>\n",
       "      <td>1622.339635</td>\n",
       "      <td>-1.277257e+06</td>\n",
       "      <td>-4.538305</td>\n",
       "      <td>6.776568</td>\n",
       "      <td>-7.832201</td>\n",
       "      <td>2.730827</td>\n",
       "      <td>-8.682821</td>\n",
       "      <td>1.191531</td>\n",
       "      <td>...</td>\n",
       "      <td>-1.568177</td>\n",
       "      <td>-0.019234</td>\n",
       "      <td>-1.476267</td>\n",
       "      <td>-0.010559</td>\n",
       "      <td>-1.388467</td>\n",
       "      <td>-0.002494</td>\n",
       "      <td>-1.304551</td>\n",
       "      <td>0.004992</td>\n",
       "      <td>-1.224310</td>\n",
       "      <td>0.011929</td>\n",
       "    </tr>\n",
       "  </tbody>\n",
       "</table>\n",
       "<p>16 rows × 84 columns</p>\n",
       "</div>"
      ],
      "text/plain": [
       "    Train without reg  Val without reg  Train with L2 alpha=0.0  \\\n",
       "0            0.000000    -1.742563e+00                 0.000000   \n",
       "1           38.609810     2.168540e+03                38.609810   \n",
       "2            2.634153    -3.122220e+03                 2.634153   \n",
       "3         -129.000692    -9.595679e+04              -129.000692   \n",
       "4         -205.296358     3.400195e+05              -205.296358   \n",
       "5          124.116329     1.038923e+06               124.116329   \n",
       "6         1603.406979    -4.362226e+06              1603.406979   \n",
       "7         1006.776735    -7.554196e+06              1006.776735   \n",
       "8        -4808.389175     2.121258e+07             -4808.389175   \n",
       "9        -4409.977436     3.597158e+07             -4409.977436   \n",
       "10        6841.530758    -3.669266e+07              6841.530758   \n",
       "11        7371.086182    -7.920232e+07              7371.086182   \n",
       "12       -4655.769429     5.588994e+06             -4655.769429   \n",
       "13       -5620.369312     6.127250e+07             -5620.369312   \n",
       "14        1221.527742     2.407137e+07              1221.527742   \n",
       "15        1622.339635    -1.277257e+06              1622.339635   \n",
       "\n",
       "    Val with L2 alpha=0.0  Train with L2 alpha=0.013  Val with L2 alpha=0.013  \\\n",
       "0           -1.742563e+00                   0.000000                 0.000000   \n",
       "1            2.168540e+03                  29.890142                26.203898   \n",
       "2           -3.122220e+03                  -1.433463                12.990838   \n",
       "3           -9.595679e+04                 -49.188936               -29.037643   \n",
       "4            3.400195e+05                   8.901954               -14.961576   \n",
       "5            1.038923e+06                   9.897989                 6.972060   \n",
       "6           -4.362226e+06                 -10.103606               -10.288142   \n",
       "7           -7.554196e+06                  17.489019                 2.335545   \n",
       "8            2.121258e+07                  -3.416257                -0.117417   \n",
       "9            3.597158e+07                   7.971469                -5.706354   \n",
       "10          -3.669266e+07                   6.740765                 5.026705   \n",
       "11          -7.920232e+07                  -1.849680                -7.198448   \n",
       "12           5.588994e+06                   6.468514                 3.478978   \n",
       "13           6.127250e+07                  -6.430627                -2.315459   \n",
       "14           2.407137e+07                  -7.645747                -3.283262   \n",
       "15          -1.277257e+06                  -4.538305                 6.776568   \n",
       "\n",
       "    Train with L2 alpha=0.025  Val with L2 alpha=0.025  \\\n",
       "0                    0.000000                 0.000000   \n",
       "1                   28.405286                24.314765   \n",
       "2                   -0.874108                11.191345   \n",
       "3                  -42.489313               -21.905872   \n",
       "4                    5.682425               -11.900995   \n",
       "5                    2.951145                -0.250134   \n",
       "6                   -5.237008                -8.782267   \n",
       "7                   14.412417                -0.054631   \n",
       "8                   -2.341661                -2.086091   \n",
       "9                   10.056854                -3.296028   \n",
       "10                   2.948900                 1.695804   \n",
       "11                   2.114239                -3.993406   \n",
       "12                   3.126054                 1.690778   \n",
       "13                  -4.410622                -1.691308   \n",
       "14                  -3.783884                -1.250871   \n",
       "15                  -7.832201                 2.730827   \n",
       "\n",
       "    Train with L2 alpha=0.038  Val with L2 alpha=0.038  ...  \\\n",
       "0                    0.000000                 0.000000  ...   \n",
       "1                   27.424831                23.163526  ...   \n",
       "2                   -0.686633                10.055963  ...   \n",
       "3                  -38.726248               -18.494501  ...   \n",
       "4                    4.675661               -10.055957  ...   \n",
       "5                   -0.022262                -2.827125  ...   \n",
       "6                   -3.552057                -8.071175  ...   \n",
       "7                   12.538612                -1.237027  ...   \n",
       "8                   -2.117316                -2.999063  ...   \n",
       "9                   10.429190                -2.730791  ...   \n",
       "10                   1.461011                 0.175118  ...   \n",
       "11                   3.599464                -3.034139  ...   \n",
       "12                   1.935789                 0.744574  ...   \n",
       "13                  -3.373260                -1.579710  ...   \n",
       "14                  -2.179265                -0.742336  ...   \n",
       "15                  -8.682821                 1.191531  ...   \n",
       "\n",
       "    Train with L2 alpha=0.45  Val with L2 alpha=0.45  \\\n",
       "0                   0.000000                0.000000   \n",
       "1                  18.516270               13.884842   \n",
       "2                   0.447932                2.259204   \n",
       "3                 -14.910893               -4.640321   \n",
       "4                   1.565696               -2.617029   \n",
       "5                  -6.127227               -4.680543   \n",
       "6                  -0.677697               -2.607506   \n",
       "7                   0.584676               -3.355116   \n",
       "8                  -1.336779               -1.887475   \n",
       "9                   2.930759               -2.212324   \n",
       "10                 -0.885068               -1.291232   \n",
       "11                  2.560782               -1.319614   \n",
       "12                 -0.080595               -0.965605   \n",
       "13                  0.800928               -0.607320   \n",
       "14                  0.686030               -0.877668   \n",
       "15                 -1.568177               -0.019234   \n",
       "\n",
       "    Train with L2 alpha=0.46  Val with L2 alpha=0.46  \\\n",
       "0                   0.000000                0.000000   \n",
       "1                  18.401410               13.764346   \n",
       "2                   0.452899                2.181012   \n",
       "3                 -14.677717               -4.536015   \n",
       "4                   1.541667               -2.566606   \n",
       "5                  -6.118779               -4.627905   \n",
       "6                  -0.663521               -2.547054   \n",
       "7                   0.488691               -3.330120   \n",
       "8                  -1.316656               -1.843371   \n",
       "9                   2.831605               -2.196886   \n",
       "10                 -0.877326               -1.265045   \n",
       "11                  2.509632               -1.307300   \n",
       "12                 -0.087332               -0.952575   \n",
       "13                  0.818696               -0.596710   \n",
       "14                  0.669845               -0.872513   \n",
       "15                 -1.476267               -0.010559   \n",
       "\n",
       "    Train with L2 alpha=0.48  Val with L2 alpha=0.48  \\\n",
       "0                   0.000000                0.000000   \n",
       "1                  18.289606               13.647054   \n",
       "2                   0.457338                2.105794   \n",
       "3                 -14.452582               -4.435378   \n",
       "4                   1.518757               -2.518250   \n",
       "5                  -6.109385               -4.576057   \n",
       "6                  -0.649611               -2.488870   \n",
       "7                   0.397006               -3.305140   \n",
       "8                  -1.296961               -1.800688   \n",
       "9                   2.736214               -2.181579   \n",
       "10                 -0.869645               -1.239442   \n",
       "11                  2.459984               -1.295378   \n",
       "12                 -0.093925               -0.939552   \n",
       "13                  0.835155               -0.586663   \n",
       "14                  0.653601               -0.867050   \n",
       "15                 -1.388467               -0.002494   \n",
       "\n",
       "    Train with L2 alpha=0.49  Val with L2 alpha=0.49  Train with L2 alpha=0.5  \\\n",
       "0                   0.000000                0.000000                 0.000000   \n",
       "1                  18.180705               13.532819                18.074562   \n",
       "2                   0.461289                2.033391                 0.464789   \n",
       "3                 -14.235044               -4.338198               -14.024692   \n",
       "4                   1.496897               -2.471840                 1.476027   \n",
       "5                  -6.099132               -4.525002                -6.088100   \n",
       "6                  -0.635958               -2.432836                -0.622553   \n",
       "7                   0.309368               -3.280209                 0.225544   \n",
       "8                  -1.277685               -1.759369                -1.258819   \n",
       "9                   2.644387               -2.166411                 2.555936   \n",
       "10                 -0.862040               -1.214413                -0.854519   \n",
       "11                  2.411775               -1.283829                 2.364941   \n",
       "12                 -0.100381               -0.926554                -0.106709   \n",
       "13                  0.850392               -0.577148                 0.864487   \n",
       "14                  0.637334               -0.861310                 0.621075   \n",
       "15                 -1.304551                0.004992                -1.224310   \n",
       "\n",
       "    Val with L2 alpha=0.5  \n",
       "0                0.000000  \n",
       "1               13.421503  \n",
       "2                1.963656  \n",
       "3               -4.244280  \n",
       "4               -2.427261  \n",
       "5               -4.474736  \n",
       "6               -2.378842  \n",
       "7               -3.255356  \n",
       "8               -1.719357  \n",
       "9               -2.151388  \n",
       "10              -1.189950  \n",
       "11              -1.272635  \n",
       "12              -0.913601  \n",
       "13              -0.568135  \n",
       "14              -0.855320  \n",
       "15               0.011929  \n",
       "\n",
       "[16 rows x 84 columns]"
      ]
     },
     "execution_count": 327,
     "metadata": {},
     "output_type": "execute_result"
    }
   ],
   "source": [
    "coeff_L2_v2"
   ]
  },
  {
   "cell_type": "markdown",
   "metadata": {},
   "source": [
    "При регуляризации L2 происходит примерно тоже самое, единственное отличие - \"взрывные\" веса не зануляются, а снижаются до минимума, который не смог бы значительно влиять на обучение модели."
   ]
  },
  {
   "cell_type": "markdown",
   "metadata": {
    "ExecuteTime": {
     "end_time": "2020-11-09T14:23:56.740840Z",
     "start_time": "2020-11-09T14:23:56.738003Z"
    }
   },
   "source": [
    "#### Summary"
   ]
  },
  {
   "cell_type": "code",
   "execution_count": 21,
   "metadata": {
    "ExecuteTime": {
     "end_time": "2020-11-09T16:54:27.499884Z",
     "start_time": "2020-11-09T16:54:27.495798Z"
    }
   },
   "outputs": [],
   "source": [
    "## your observations/conclusions"
   ]
  },
  {
   "cell_type": "markdown",
   "metadata": {
    "ExecuteTime": {
     "end_time": "2020-11-09T12:20:11.280421Z",
     "start_time": "2020-11-09T12:20:11.276430Z"
    }
   },
   "source": [
    "### Excercise 2 - Sparsity"
   ]
  },
  {
   "cell_type": "markdown",
   "metadata": {},
   "source": [
    "Lasso can also be used for **feature selection** since L1 is [more likely to produce zero coefficients](https://explained.ai/regularization/).\n",
    "\n",
    "Is it indeed happening? \n",
    "\n",
    "Please do a discovery on your own and find that out empirically (both for **L1** and **L2**). Let's use `degree=15` and `alpha` from `ALPHAS`."
   ]
  },
  {
   "cell_type": "markdown",
   "metadata": {},
   "source": [
    "#### L1"
   ]
  },
  {
   "cell_type": "code",
   "execution_count": 22,
   "metadata": {
    "ExecuteTime": {
     "end_time": "2020-11-09T16:54:27.506865Z",
     "start_time": "2020-11-09T16:54:27.502879Z"
    }
   },
   "outputs": [],
   "source": [
    "## your code"
   ]
  },
  {
   "cell_type": "markdown",
   "metadata": {
    "ExecuteTime": {
     "end_time": "2020-11-09T13:36:11.940300Z",
     "start_time": "2020-11-09T13:36:11.936344Z"
    }
   },
   "source": [
    "#### L2"
   ]
  },
  {
   "cell_type": "code",
   "execution_count": 23,
   "metadata": {
    "ExecuteTime": {
     "end_time": "2020-11-09T16:54:27.516317Z",
     "start_time": "2020-11-09T16:54:27.513846Z"
    }
   },
   "outputs": [],
   "source": [
    "## your code"
   ]
  },
  {
   "cell_type": "markdown",
   "metadata": {
    "ExecuteTime": {
     "end_time": "2020-11-09T14:23:56.740840Z",
     "start_time": "2020-11-09T14:23:56.738003Z"
    }
   },
   "source": [
    "#### Summary"
   ]
  },
  {
   "cell_type": "code",
   "execution_count": 24,
   "metadata": {
    "ExecuteTime": {
     "end_time": "2020-11-09T16:54:27.524818Z",
     "start_time": "2020-11-09T16:54:27.520827Z"
    }
   },
   "outputs": [],
   "source": [
    "## your findings/conclusions"
   ]
  },
  {
   "cell_type": "markdown",
   "metadata": {},
   "source": [
    "### Excercise 3 - Scaling"
   ]
  },
  {
   "cell_type": "markdown",
   "metadata": {},
   "source": [
    "As a general rule, it is recommended to scale input features before fitting a regularized model so that the features/inputs take values in similar ranges. One common way of doing so is to standardize the inputs and that is exactly what our pipeline  second step (`StandardScaler`) is responsible for. \n",
    "\n",
    "Why is scaling important? What are the underlying reasons?"
   ]
  },
  {
   "cell_type": "code",
   "execution_count": 25,
   "metadata": {
    "ExecuteTime": {
     "end_time": "2020-11-09T16:54:27.531833Z",
     "start_time": "2020-11-09T16:54:27.527808Z"
    }
   },
   "outputs": [],
   "source": [
    "## your thoughts"
   ]
  }
 ],
 "metadata": {
  "kernelspec": {
   "display_name": "Python 3",
   "language": "python",
   "name": "python3"
  },
  "language_info": {
   "codemirror_mode": {
    "name": "ipython",
    "version": 3
   },
   "file_extension": ".py",
   "mimetype": "text/x-python",
   "name": "python",
   "nbconvert_exporter": "python",
   "pygments_lexer": "ipython3",
   "version": "3.7.6"
  },
  "toc": {
   "base_numbering": 1,
   "nav_menu": {},
   "number_sections": true,
   "sideBar": true,
   "skip_h1_title": false,
   "title_cell": "Table of Contents",
   "title_sidebar": "Contents",
   "toc_cell": false,
   "toc_position": {
    "height": "calc(100% - 180px)",
    "left": "10px",
    "top": "150px",
    "width": "288.188px"
   },
   "toc_section_display": true,
   "toc_window_display": true
  },
  "varInspector": {
   "cols": {
    "lenName": 16,
    "lenType": 16,
    "lenVar": 40
   },
   "kernels_config": {
    "python": {
     "delete_cmd_postfix": "",
     "delete_cmd_prefix": "del ",
     "library": "var_list.py",
     "varRefreshCmd": "print(var_dic_list())"
    },
    "r": {
     "delete_cmd_postfix": ") ",
     "delete_cmd_prefix": "rm(",
     "library": "var_list.r",
     "varRefreshCmd": "cat(var_dic_list()) "
    }
   },
   "types_to_exclude": [
    "module",
    "function",
    "builtin_function_or_method",
    "instance",
    "_Feature"
   ],
   "window_display": false
  }
 },
 "nbformat": 4,
 "nbformat_minor": 4
}
