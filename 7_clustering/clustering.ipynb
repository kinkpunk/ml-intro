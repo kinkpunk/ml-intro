{
 "cells": [
  {
   "cell_type": "markdown",
   "metadata": {},
   "source": [
    "Каждый пункт, который предлагается выполнить в рамках домашнего задания, имеет объявленную \"цену\" в баллах. Максимально возможная сумма – 10 баллов, а с учётом бонусных пунктов – 12 баллов. Выполнять все пункты не обязательно, можно сделать только часть. В большинстве пунктов ожидается, что вы напишете работающий код на Python; иногда надо будет писать комментарии в свободной форме – например, сравнивать несколько подходов к решению одной задачи. Там, где оставлены пустые клетки под ваши ответы, вы можете по своему усмотрению добавлять ещё клетки.\n",
    "\n",
    "* * *\n",
    "\n",
    "Эта лабораторная работа посвящена кластеризации. Мы будем работать с рукописными изображениями цифр, научимся их кластеризовать двумя разными методами (иерархическая кластеризация и алгоритм $K$-means), оценивать качество разбиения и выбирать оптимальное число кластеров, а также визуализировать промежуточные результаты.\n",
    "\n",
    "# 1. Получение данных\n",
    "\n",
    "Данные, с которыми мы будем работать, доступны в библиотеке scikit-learn (модуль называется `sklearn`) в подмодуле `datasets` через функцию, которая называется `load_digits`. Всего имеется 1797 наблюдений, каждое из них представляет чёрно-белую картинку 8 $\\times$ 8 пикселей. Эти картинки – распознанные рукописные цифры от 0 до 9. Образцов написания каждой цифры дано приблизительно поровну, около 180.\n",
    "\n",
    "Для удобства использования данных каждая картинка \"развёрнута\" в строку, так что NumPy-массив, в котором хранятся данные, имеет размерность 2 и величину 1797 $\\times$ 64 (а не, например, размерность 3 и величину 1797 $\\times$ 8 $\\times$ 8). Интенсивность цвета в каждом пикселе кодируется целым числом от 0 до 16.\n",
    "\n",
    "Кроме наблюдений (картинок), известны соответствующие им значения целевой переменной: какую цифру на самом деле изображает каждая картинка. Мы могли бы сразу сформулировать задачу обучения с учителем и предсказывать цифры по картинкам, но для целей этой лабораторной работы мы будем действовать по-другому: сделаем вид, что нам не известны истинные метки классов (т. е. цифры) и даже количество классов, и попробуем сгруппировать данные таким образом, чтобы качество кластеризации оказалось наилучшим, а затем посмотрим, насколько точно полученные кластеры совпадают с группами изображений одинаковых цифр.\n",
    "\n",
    "**(0.5 балла)** Загрузите данные. Добейтесь, чтобы в переменной `X` оказался массив наблюдений, содержащий 1797 $\\times$ 64 числа, а в переменной `y` – массив истинных меток классов, содержащий 1797 чисел.\n",
    "\n",
    "*Указания:*\n",
    "- Как загрузить данные, объяснено в справке к функции `load_digits`.\n",
    "- Размер массива хранится в атрибуте `shape`."
   ]
  },
  {
   "cell_type": "code",
   "execution_count": 1,
   "metadata": {},
   "outputs": [],
   "source": [
    "import numpy as np\n",
    "import pandas as pd\n",
    "import matplotlib.pyplot as plt \n",
    "from sklearn.datasets import load_digits\n",
    "from sklearn.cluster import AgglomerativeClustering, KMeans\n",
    "from sklearn.metrics import silhouette_score"
   ]
  },
  {
   "cell_type": "code",
   "execution_count": 2,
   "metadata": {},
   "outputs": [],
   "source": [
    "X, y = load_digits(return_X_y=True)"
   ]
  },
  {
   "cell_type": "code",
   "execution_count": 3,
   "metadata": {},
   "outputs": [
    {
     "data": {
      "text/plain": [
       "((1797, 64), (1797,))"
      ]
     },
     "execution_count": 3,
     "metadata": {},
     "output_type": "execute_result"
    }
   ],
   "source": [
    "X.shape, y.shape"
   ]
  },
  {
   "cell_type": "markdown",
   "metadata": {},
   "source": [
    "**(1 балл)** Визуализируйте первые десять картинок, расположив их на сетке 3 $\\times$ 4 (в последнем ряду останутся пустые места). Добейтесь, чтобы фон картинок был белым, а изображения цифр – тёмными.\n",
    "\n",
    "*Указания:*\n",
    "- Не забудьте импортировать NumPy и Matplotlib.\n",
    "- Картинки 8 $\\times$ 8 можно либо достать готовыми из объекта, загруженного функцией `load_digits`, либо сделать самостоятельно из строк массива `X`. Во втором случае пользуйтесь методом `reshape`.\n",
    "- Чтобы изображение не было цветным, можно вызвать функцию `plt.gray`, прежде чем начать рисовать.\n",
    "- Располагать картинки на сетке умеет функция `plt.subplot`. Ознакомьтесь со справкой к ней.\n",
    "- По умолчанию число 0 кодирует чёрный цвет, а число 16 – белый цвет. Подумайте, как обратить цвета одной операцией над NumPy-массивом.\n",
    "- Выводить картинку на экран умеет функция `plt.imshow`. Ознакомьтесь со справкой к ней.\n",
    "- Если считаете нужным, можете отключить сглаживание – параметр `interpolation` у функции `plt.imshow`.\n",
    "- Если считаете нужным, можете отключить деления на координатных осях. За это отвечают функции `plt.xticks` и `plt.yticks`."
   ]
  },
  {
   "cell_type": "code",
   "execution_count": 4,
   "metadata": {},
   "outputs": [],
   "source": [
    "X = abs(X-16) #инверсия цвета"
   ]
  },
  {
   "cell_type": "code",
   "execution_count": 5,
   "metadata": {},
   "outputs": [
    {
     "data": {
      "image/png": "[encoded data removed]",
      "text/plain": [
       "<Figure size 432x288 with 12 Axes>"
      ]
     },
     "metadata": {
      "needs_background": "light"
     },
     "output_type": "display_data"
    }
   ],
   "source": [
    "fig, axs = plt.subplots(3, 4, sharey=True)\n",
    "plt.gray()\n",
    "plt.xticks([])\n",
    "plt.yticks([])\n",
    "axs[0, 0].imshow(X[0].reshape(8,8))\n",
    "axs[0, 1].imshow(X[1].reshape(8,8))\n",
    "axs[0, 2].imshow(X[2].reshape(8,8))\n",
    "axs[0, 3].imshow(X[3].reshape(8,8))\n",
    "\n",
    "axs[1, 0].imshow(X[4].reshape(8,8))\n",
    "axs[1, 1].imshow(X[5].reshape(8,8))\n",
    "axs[1, 2].imshow(X[6].reshape(8,8))\n",
    "axs[1, 3].imshow(X[7].reshape(8,8))\n",
    "\n",
    "axs[2, 0].imshow(X[8].reshape(8,8))\n",
    "axs[2, 1].imshow(X[9].reshape(8,8))\n",
    "\n",
    "plt.show()"
   ]
  },
  {
   "cell_type": "code",
   "execution_count": 6,
   "metadata": {},
   "outputs": [
    {
     "data": {
      "image/png": "[encoded data removed]",
      "text/plain": [
       "<Figure size 432x288 with 12 Axes>"
      ]
     },
     "metadata": {
      "needs_background": "light"
     },
     "output_type": "display_data"
    }
   ],
   "source": [
    "fig, ax = plt.subplots(3, 4)\n",
    "for axis, digit in zip(ax.flat, X[:10]):\n",
    "    axis.set(xticks=[], yticks=[])\n",
    "    axis.imshow(digit.reshape(8,8))"
   ]
  },
  {
   "cell_type": "markdown",
   "metadata": {},
   "source": [
    "# 2. Кластеризация и оценка качества\n",
    "\n",
    "Мы будем использовать два популярных алгоритма: иерархическую кластеризацию и метод $K$ средних ($K$-means clustering). Эти и другие алгоритмы кластеризации доступны в библиотеке scikit-learn в подмодуле `cluster`. Иерархическая кластеризация называется `AgglomerativeClustering`, а метод $K$ средних – `KMeans`.\n",
    "\n",
    "Интерфейс у большинства алгоритмов в scikit-learn простой и единообразный:\n",
    "- Чтобы инициализировать модель, нужно создать экземпляр соответствующего класса со всеми необходимыми параметрами. Например, у кластеризаций единственный обязательный параметр называется `n_clusters`, это количество кластеров, которое мы хотим получить на выходе.\n",
    "- Инициализированную модель можно обучить, вызвав метод `fit`.\n",
    "- С помощью обученной модели можно предсказывать, вызывая метод `predict`.\n",
    "\n",
    "Как видно, этот интерфейс хорош только для задач обучения с учителем, в которых чётко разделены фазы обучения модели и предсказания с её помощью. У кластеризаций зато есть метод `fit_predict`, который разбивает входную выборку на кластеры и сразу же возвращает результаты разбиения.\n",
    "\n",
    "**(0.5 балла)** Используя каждый из двух методов, иерархическую кластеризацию и $K$ средних, получите разбиение массива `X` на 10 кластеров.\n",
    "\n",
    "*Указания:*\n",
    "- Оба раза должен получиться массив из 1797 чисел – номеров кластеров.\n",
    "- `KMeans` делает несколько (по умолчанию 10) запусков со случайными центрами и из полученных разбиений выводит лучшее в терминах среднего внутрикластерного расстояния. Чтобы улучшить качество предсказаний, можно увеличить число запусков, например, до 100. Это параметр `n_init` в конструкторе."
   ]
  },
  {
   "cell_type": "code",
   "execution_count": 7,
   "metadata": {},
   "outputs": [],
   "source": [
    "clustering_agg = AgglomerativeClustering(n_clusters=10)\n",
    "clustering_k = KMeans(n_clusters=10, n_init=100)"
   ]
  },
  {
   "cell_type": "code",
   "execution_count": 8,
   "metadata": {},
   "outputs": [],
   "source": [
    "clusters_agg = clustering_agg.fit_predict(X)\n",
    "clusters_k = clustering_k.fit_predict(X)"
   ]
  },
  {
   "cell_type": "code",
   "execution_count": 9,
   "metadata": {},
   "outputs": [
    {
     "data": {
      "text/plain": [
       "((1797,), (1797,))"
      ]
     },
     "execution_count": 9,
     "metadata": {},
     "output_type": "execute_result"
    }
   ],
   "source": [
    "clusters_agg.shape, clusters_k.shape"
   ]
  },
  {
   "cell_type": "markdown",
   "metadata": {},
   "source": [
    "**(1 балл)** Визуализируйте центры кластеров, полученных каждым из двух способов. Это опять должны быть картинки на сетке 3 $\\times$ 4 с белым фоном и тёмными контурами. Прокомментируйте: какой из двух алгоритмов даёт центры кластеров, больше похожие на типичные начертания цифр?\n",
    "\n",
    "*Указания:*\n",
    "- Центр кластера – это среднее по всем наблюдениям, входящим в кластер, т. е. по какому-то набору строк из `X`.\n",
    "- Чтобы выбрать наблюдения, входящие в кластер номер `i`, используйте индексацию по булевозначной маске. Саму маску можно получить из массива предсказанных номеров кластеров и числа `i` оператором `==`.\n",
    "- Усреднять NumPy-массив вдоль какой-нибудь из осей умеет функция `np.mean`. Ознакомьтесь со справкой к ней. Нам нужно усреднение по строкам."
   ]
  },
  {
   "cell_type": "code",
   "execution_count": 10,
   "metadata": {},
   "outputs": [
    {
     "data": {
      "text/plain": [
       "array([[16.        , 15.40340909,  7.28409091,  1.36931818,  1.95454545,\n",
       "         8.99431818, 15.45454545, 16.        , 15.98863636, 11.79545455,\n",
       "         3.39772727,  6.92613636,  4.76136364,  4.03977273, 14.15340909,\n",
       "        15.98863636, 15.99431818, 14.14204545, 12.46022727, 12.52840909,\n",
       "         4.21022727,  6.07386364, 15.14204545, 16.        , 16.        ,\n",
       "        15.96022727, 15.09090909,  7.69318182,  2.17045455,  9.23295455,\n",
       "        15.69318182, 16.        , 16.        , 15.9375    , 15.31818182,\n",
       "        11.39772727,  4.23863636,  3.6875    , 13.67045455, 16.        ,\n",
       "        16.        , 15.54545455, 14.55681818, 15.30681818, 11.82386364,\n",
       "         3.63068182,  9.63636364, 15.99431818, 16.        , 15.07386364,\n",
       "         8.71590909,  9.40909091,  7.40340909,  2.27840909,  9.90909091,\n",
       "        15.82386364, 16.        , 15.52272727,  6.47159091,  1.01704545,\n",
       "         1.85795455,  7.11931818, 14.14772727, 15.57954545],\n",
       "       [16.        , 15.97765363, 11.77094972,  2.8603352 ,  4.73184358,\n",
       "        13.06145251, 15.96648045, 16.        , 16.        , 15.11731844,\n",
       "         3.37988827,  2.63128492,  4.59217877,  4.63128492, 15.03910615,\n",
       "        16.        , 16.        , 12.27374302,  1.7877095 , 10.74860335,\n",
       "        13.89385475,  3.88268156, 12.46927374, 16.        , 16.        ,\n",
       "        10.70391061,  3.3575419 , 13.96648045, 15.77094972,  6.92178771,\n",
       "         9.52513966, 16.        , 16.        , 10.11731844,  4.50837989,\n",
       "        15.13407821, 15.96648045,  7.18994413,  8.84916201, 16.        ,\n",
       "        16.        , 12.48603352,  2.7150838 , 14.34078212, 14.50837989,\n",
       "         4.64804469, 10.15642458, 16.        , 16.        , 15.19553073,\n",
       "         2.88826816,  6.03910615,  5.64804469,  2.70391061, 13.52513966,\n",
       "        15.97765363, 16.        , 15.99441341, 11.80446927,  2.41340782,\n",
       "         2.65921788, 10.51955307, 15.68156425, 15.98324022],\n",
       "       [16.        , 15.88738739, 12.0045045 ,  4.11261261,  3.63963964,\n",
       "        10.63963964, 15.56756757, 16.        , 15.99099099, 15.13513514,\n",
       "         7.79279279,  2.43243243,  3.38738739,  6.16666667, 14.45495495,\n",
       "        16.        , 16.        , 14.79279279,  7.68918919,  4.03603604,\n",
       "         3.63963964,  6.57207207, 14.96846847, 16.        , 16.        ,\n",
       "        15.06756757,  8.80630631,  1.9009009 ,  1.82882883, 11.06756757,\n",
       "        15.7972973 , 16.        , 16.        , 15.22522523,  7.96846847,\n",
       "         1.18018018,  3.1036036 , 13.81531532, 15.98198198, 16.        ,\n",
       "        16.        , 14.76576577,  5.45945946,  3.93693694,  3.85135135,\n",
       "        11.95945946, 15.7972973 , 16.        , 15.98648649, 15.15315315,\n",
       "         6.41891892,  4.42342342,  3.89189189, 10.39189189, 15.37837838,\n",
       "        15.9954955 , 15.9954955 , 15.88738739, 11.81081081,  4.0045045 ,\n",
       "         3.36486486, 11.11261261, 15.18468468, 15.99099099],\n",
       "       [16.        , 15.84057971, 11.06763285,  3.0531401 ,  2.02415459,\n",
       "         5.19323671, 11.12560386, 15.07246377, 16.        , 14.87439614,\n",
       "         5.23671498,  4.49758454,  5.66666667,  3.43961353, 10.57971014,\n",
       "        15.46859903, 16.        , 14.77294686, 10.37681159, 13.69565217,\n",
       "         9.14975845,  4.41062802, 12.64251208, 15.88888889, 16.        ,\n",
       "        14.98550725, 10.80193237,  9.46859903,  3.77777778,  3.95652174,\n",
       "        11.28019324, 15.99516908, 16.        , 14.55072464,  7.41062802,\n",
       "         3.02898551,  1.31884058,  5.41062802, 12.10144928, 16.        ,\n",
       "        16.        , 14.88888889, 10.88888889,  4.48309179,  4.95169082,\n",
       "        12.39130435, 15.46859903, 16.        , 16.        , 15.89855072,\n",
       "        13.00966184,  3.66666667,  9.647343  , 15.59903382, 15.99033816,\n",
       "        16.        , 16.        , 15.87439614,  9.87439614,  3.92753623,\n",
       "        13.35748792, 15.72463768, 15.96618357, 16.        ],\n",
       "       [16.        , 16.        , 14.84065934,  4.77472527,  6.46703297,\n",
       "        14.58241758, 15.99450549, 16.        , 16.        , 15.93956044,\n",
       "         8.81868132,  1.43956044,  9.80769231, 15.17032967, 15.97252747,\n",
       "        16.        , 16.        , 15.23076923,  3.54395604,  6.52747253,\n",
       "        15.06593407, 15.89010989, 16.        , 16.        , 16.        ,\n",
       "        13.7032967 ,  2.37912088,  7.90659341, 12.12637363, 14.07142857,\n",
       "        15.8956044 , 16.        , 16.        , 12.47252747,  1.32417582,\n",
       "         3.08241758,  3.74725275,  5.71428571, 13.28021978, 16.        ,\n",
       "        16.        , 14.13186813,  1.48351648,  5.34615385, 10.42307692,\n",
       "         5.80769231,  6.86813187, 15.76923077, 16.        , 15.82417582,\n",
       "         5.71428571,  3.37362637, 10.58241758,  4.67582418,  5.1043956 ,\n",
       "        15.37362637, 16.        , 16.        , 14.55494505,  5.26373626,\n",
       "         0.9010989 ,  2.86813187, 11.37912088, 15.82967033],\n",
       "       [16.        , 15.05714286,  5.81142857,  1.56      ,  8.22857143,\n",
       "        15.01714286, 16.        , 16.        , 15.97714286, 10.76      ,\n",
       "         2.28      ,  3.37714286,  4.30857143, 12.76571429, 15.98285714,\n",
       "        16.        , 15.98857143, 11.44      ,  7.88571429,  9.86285714,\n",
       "         3.84      , 12.44      , 15.98285714, 16.        , 16.        ,\n",
       "        15.03428571, 13.18285714,  8.99428571,  3.46285714, 13.44      ,\n",
       "        15.96      , 16.        , 16.        , 15.95428571, 14.42857143,\n",
       "         6.10285714,  5.30285714, 14.54857143, 16.        , 16.        ,\n",
       "        16.        , 15.74857143, 11.54285714,  4.75428571,  8.25714286,\n",
       "        13.62857143, 15.15428571, 15.98857143, 16.        , 14.80571429,\n",
       "         5.00571429,  2.26857143,  4.07428571,  4.84      ,  8.33142857,\n",
       "        14.89714286, 16.        , 15.06857143,  5.61142857,  1.53142857,\n",
       "         2.49714286,  3.64571429,  7.03428571, 13.04571429],\n",
       "       [16.        , 16.        , 15.96774194, 14.15053763,  4.93548387,\n",
       "         3.47311828, 11.78494624, 15.74193548, 16.        , 15.94623656,\n",
       "        14.04301075,  7.06451613,  2.22580645,  3.56989247, 10.72043011,\n",
       "        15.67741935, 16.        , 14.43010753,  7.33333333,  3.55913978,\n",
       "         4.09677419,  3.16129032, 12.01075269, 15.86021505, 16.        ,\n",
       "        12.44086022,  4.02150538,  4.23655914,  3.06451613,  2.46236559,\n",
       "        13.38709677, 16.        , 16.        , 14.05376344,  9.12903226,\n",
       "         8.55913978,  4.1827957 ,  3.39784946, 14.10752688, 16.        ,\n",
       "        16.        , 15.21505376, 13.98924731, 12.22580645,  4.32258065,\n",
       "         4.06451613, 14.79569892, 16.        , 16.        , 15.93548387,\n",
       "        15.68817204, 12.97849462,  3.53763441,  4.39784946, 14.34408602,\n",
       "        16.        , 16.        , 16.        , 16.        , 14.03225806,\n",
       "         4.60215054,  5.43010753, 14.31182796, 16.        ],\n",
       "       [16.        , 14.88435374,  5.95918367,  2.59183673,  1.80272109,\n",
       "         3.34013605, 11.56462585, 15.95918367, 15.99319728, 11.42176871,\n",
       "         1.06802721,  3.33333333,  7.27210884,  9.05442177, 13.5170068 ,\n",
       "        15.96598639, 15.98639456,  9.94557823,  1.45578231,  9.96598639,\n",
       "        14.02721088, 15.15646259, 15.87755102, 16.        , 15.99319728,\n",
       "        10.67346939,  1.67346939,  3.63265306,  8.24489796, 13.86394558,\n",
       "        15.85714286, 16.        , 16.        , 14.02721088,  7.76870748,\n",
       "         5.88435374,  5.70748299, 10.45578231, 15.3537415 , 16.        ,\n",
       "        16.        , 15.69387755, 14.58503401, 11.08843537,  6.19047619,\n",
       "         8.89795918, 15.21088435, 16.        , 16.        , 15.18367347,\n",
       "        10.8707483 ,  6.42857143,  3.88435374, 10.69387755, 15.55102041,\n",
       "        16.        , 16.        , 14.93197279,  5.05442177,  1.45578231,\n",
       "         8.23809524, 14.92517007, 15.97959184, 16.        ],\n",
       "       [16.        , 15.80079681,  9.4940239 ,  3.5059761 ,  4.13944223,\n",
       "        10.31474104, 15.3187251 , 15.99203187, 15.99601594, 13.40239044,\n",
       "         2.01992032,  6.77689243,  6.5498008 ,  5.53386454, 14.64940239,\n",
       "        15.99601594, 16.        , 11.69322709,  3.14342629, 11.52191235,\n",
       "         9.09960159,  4.84063745, 14.09960159, 16.        , 16.        ,\n",
       "        13.6812749 ,  5.58565737,  4.20318725,  2.78087649,  3.97609562,\n",
       "        13.55776892, 16.        , 16.        , 15.70119522, 12.812749  ,\n",
       "         9.80079681,  9.19123506,  4.8247012 , 11.78486056, 16.        ,\n",
       "        16.        , 15.7689243 , 13.62948207, 14.02788845, 14.20318725,\n",
       "         5.07569721,  9.65737052, 15.98406375, 16.        , 15.21115538,\n",
       "         7.8685259 , 10.37450199, 11.19521912,  3.82071713, 10.05976096,\n",
       "        15.88844622, 16.        , 15.83266932,  9.57370518,  2.53386454,\n",
       "         1.50996016,  6.11155378, 13.70916335, 15.88844622],\n",
       "       [16.        , 16.        , 15.70909091,  8.88484848,  4.01818182,\n",
       "        14.05454545, 15.84848485, 15.94545455, 16.        , 15.98787879,\n",
       "        12.75151515,  2.2       ,  7.49090909, 14.4969697 , 15.07272727,\n",
       "        15.72121212, 16.        , 15.36969697,  5.32121212,  4.38787879,\n",
       "        11.67272727, 10.8       , 12.13333333, 15.67272727, 15.99393939,\n",
       "        11.25454545,  1.24242424, 10.10909091,  9.16363636,  5.23636364,\n",
       "         9.77575758, 15.98181818, 16.        ,  7.07878788,  1.18181818,\n",
       "         6.64242424,  3.20606061,  1.61212121, 10.52727273, 16.        ,\n",
       "        15.9030303 ,  9.4969697 ,  4.33939394,  3.67878788,  1.13939394,\n",
       "         5.2       , 14.42424242, 16.        , 15.93939394, 14.87878788,\n",
       "        13.        ,  8.27272727,  1.86060606, 11.84242424, 15.98181818,\n",
       "        16.        , 16.        , 15.97575758, 15.64848485,  8.08484848,\n",
       "         3.61818182, 14.21818182, 16.        , 16.        ]])"
      ]
     },
     "execution_count": 10,
     "metadata": {},
     "output_type": "execute_result"
    }
   ],
   "source": [
    "clustering_k.cluster_centers_"
   ]
  },
  {
   "cell_type": "code",
   "execution_count": 11,
   "metadata": {},
   "outputs": [
    {
     "data": {
      "text/plain": [
       "array([1, 2, 2, ..., 2, 8, 8])"
      ]
     },
     "execution_count": 11,
     "metadata": {},
     "output_type": "execute_result"
    }
   ],
   "source": [
    "clustering_k.labels_"
   ]
  },
  {
   "cell_type": "code",
   "execution_count": 12,
   "metadata": {},
   "outputs": [],
   "source": [
    "#np.array(np.where(clusters_agg==5))"
   ]
  },
  {
   "cell_type": "code",
   "execution_count": 13,
   "metadata": {},
   "outputs": [],
   "source": [
    "#X[np.where(clusters_agg==0)].mean(axis=1)"
   ]
  },
  {
   "cell_type": "code",
   "execution_count": 14,
   "metadata": {},
   "outputs": [
    {
     "data": {
      "image/png": "[encoded data removed]",
      "text/plain": [
       "<Figure size 432x288 with 12 Axes>"
      ]
     },
     "metadata": {
      "needs_background": "light"
     },
     "output_type": "display_data"
    }
   ],
   "source": [
    "#Визуализация центров кластеров, полученных методом 𝐾 средних\n",
    "fig, ax = plt.subplots(3, 4)\n",
    "centers = clustering_k.cluster_centers_.reshape(10, 8, 8)\n",
    "for axis, center in zip(ax.flat, centers):\n",
    "    axis.set(xticks=[], yticks=[])\n",
    "    axis.imshow(center, interpolation='nearest')"
   ]
  },
  {
   "cell_type": "markdown",
   "metadata": {},
   "source": [
    "В ситуации, когда истинное число кластеров неизвестно, подбирают оптимальное число кластеров. При этом учитывают две величины: внутрикластерное расстояние (чем меньше, тем лучше) и межкластерное расстояние (чем больше, тем лучше). Так как две эти величины не достигают оптимума одновременно, обычно оптимизируют какой-нибудь функционал от них. Один популярный функционал называется \"силуэт\" (silhouette). Вот как он вычисляется.\n",
    "\n",
    "Пусть $X$ – множество наблюдений, $M \\subset X$ – один из кластеров, на которые оно разбито в результате кластеризации, $\\rho$ – метрика на $X$. Выберем какое-нибудь одно наблюдение $x \\in M$. Обозначим $a(x)$ среднее расстояние от $x$ до точек $x'$ из того же кластера:\n",
    "$$\n",
    "a(x) = \\frac{1}{|M| - 1} \\sum_{x' \\in M,\\, x' \\ne x} \\rho(x,\\, x')\n",
    "$$\n",
    "\n",
    "Обозначим $b(x)$ минимум средних расстояний от $x$ до точек $x''$ из какого-нибудь другого кластера $N$:\n",
    "$$\n",
    "b(x) = \\min_{N \\ne M} \\frac{1}{|N|} \\sum_{x'' \\in N} \\rho(x,\\, x'')\n",
    "$$\n",
    "\n",
    "Силуэт – это разность межкластерного и внутрикластерного расстояний, нормированная до отрезка $[-1,\\, 1]$ и усреднённая по всем наблюдениям:\n",
    "$$\n",
    "\\frac{1}{|X|} \\sum_{x \\in X} \\frac{b(x) - a(x)}{\\max(a(x),\\, b(x))}\n",
    "$$\n",
    "\n",
    "В scikit-learn силуэт считается функцией `silhouette_score` из подмодуля `metrics`. На вход нужно передать массив наблюдений и результат кластеризации.\n",
    "\n",
    "**(1.5 балла)** Для числа $K$ от 2 до 20 включительно получите разбиение массива `X` на $K$ кластеров каждым из двух методов. Посчитайте силуэт. Посчитанные значения силуэта сохраните в переменную и визуализируйте в виде графика в координатах: число $K$ – значение силуэта. При каком числе кластеров достигается максимум силуэта?\n",
    "\n",
    "*Указания:*\n",
    "- Не забудьте, что функция `range` не захватывает правый конец диапазона.\n",
    "- Под значения силуэта можно завести два списка: один для иерархической кластеризации, другой для $K$ средних.\n",
    "- Рисовать графики умеет функция `plt.plot`. Ознакомьтесь со справкой к ней.\n",
    "- На одной картинке можно разместить несколько графиков, это просто несколько последовательных вызовов `plt.plot`.\n",
    "- Чтобы добавить легенду (подписи к графикам), можно воспользоваться функцией `plt.legend`. Местоположение легенды контролируется параметром `loc`.\n",
    "- Чтобы подписать координатные оси, можно воспользоваться функциями `plt.xlabel` и `plt.ylabel`."
   ]
  },
  {
   "cell_type": "code",
   "execution_count": 15,
   "metadata": {},
   "outputs": [
    {
     "name": "stdout",
     "output_type": "stream",
     "text": [
      "При K = 2 \"silhouette\" для иерархической кластеризации = 0.1167, для K средних = 0.1183\n",
      "При K = 3 \"silhouette\" для иерархической кластеризации = 0.1119, для K средних = 0.1265\n",
      "При K = 4 \"silhouette\" для иерархической кластеризации = 0.1090, для K средних = 0.1228\n",
      "При K = 5 \"silhouette\" для иерархической кластеризации = 0.1189, для K средних = 0.1382\n",
      "При K = 6 \"silhouette\" для иерархической кластеризации = 0.1370, для K средних = 0.1515\n",
      "При K = 7 \"silhouette\" для иерархической кластеризации = 0.1537, для K средних = 0.1635\n",
      "При K = 8 \"silhouette\" для иерархической кластеризации = 0.1706, для K средних = 0.1784\n",
      "При K = 9 \"silhouette\" для иерархической кластеризации = 0.1806, для K средних = 0.1892\n",
      "При K = 10 \"silhouette\" для иерархической кластеризации = 0.1785, для K средних = 0.1823\n",
      "При K = 11 \"silhouette\" для иерархической кластеризации = 0.1764, для K средних = 0.1828\n",
      "При K = 12 \"silhouette\" для иерархической кластеризации = 0.1736, для K средних = 0.1828\n",
      "При K = 13 \"silhouette\" для иерархической кластеризации = 0.1726, для K средних = 0.1828\n",
      "При K = 14 \"silhouette\" для иерархической кластеризации = 0.1767, для K средних = 0.1837\n",
      "При K = 15 \"silhouette\" для иерархической кластеризации = 0.1763, для K средних = 0.1741\n",
      "При K = 16 \"silhouette\" для иерархической кластеризации = 0.1770, для K средних = 0.1808\n",
      "При K = 17 \"silhouette\" для иерархической кластеризации = 0.1795, для K средних = 0.1773\n",
      "При K = 18 \"silhouette\" для иерархической кластеризации = 0.1670, для K средних = 0.1783\n",
      "При K = 19 \"silhouette\" для иерархической кластеризации = 0.1659, для K средних = 0.1571\n",
      "При K = 20 \"silhouette\" для иерархической кластеризации = 0.1686, для K средних = 0.1743\n"
     ]
    }
   ],
   "source": [
    "cluster_agg_plot = []\n",
    "cluster_k_plot = []\n",
    "for i in range(2,21):\n",
    "    clustering_k = KMeans(n_clusters=i, n_init=10)\n",
    "    clustering_k.fit(X)\n",
    "    clustering_agg = AgglomerativeClustering(n_clusters=i)\n",
    "    clustering_agg.fit(X)\n",
    "    cluster_agg_plot.append(silhouette_score(X, clustering_agg.labels_))\n",
    "    cluster_k_plot.append(silhouette_score(X, clustering_k.labels_))\n",
    "    print('При K = {} \"silhouette\" для иерархической кластеризации = {:.4f}, для K средних = {:.4f}'.format(i, silhouette_score(X, clustering_agg.labels_)\n",
    "                                                  ,silhouette_score(X, clustering_k.labels_)))"
   ]
  },
  {
   "cell_type": "code",
   "execution_count": 16,
   "metadata": {},
   "outputs": [
    {
     "data": {
      "text/plain": [
       "<matplotlib.legend.Legend at 0x1b38002dd60>"
      ]
     },
     "execution_count": 16,
     "metadata": {},
     "output_type": "execute_result"
    },
    {
     "data": {
      "image/png": "[encoded data removed]",
      "text/plain": [
       "<Figure size 432x288 with 1 Axes>"
      ]
     },
     "metadata": {
      "needs_background": "light"
     },
     "output_type": "display_data"
    }
   ],
   "source": [
    "plt.axis([-1,21,0.10,0.20])\n",
    "plt.xticks(np.arange(0,21,1))\n",
    "plt.plot(cluster_agg_plot)\n",
    "plt.plot(cluster_k_plot)\n",
    "plt.ylabel('Silhouette score')\n",
    "plt.legend(['AgglomerativeClustering', 'K-means'])"
   ]
  },
  {
   "cell_type": "markdown",
   "metadata": {},
   "source": [
    "Когда известно \"правильное\" (в каком-нибудь смысле) разбиение на кластеры, результат кластеризации можно сравнить с ним, используя такие меры, как однородность (homogeneity), полнота (completeness) и их среднее гармоническое – $V$-мера. Определения этих величин довольно громоздкие и основаны на понятии [энтропии распределения вероятностей](https://ru.wikipedia.org/wiki/Информационная_энтропия); подробности излагаются в [этой статье](http://aclweb.org/anthology/D/D07/D07-1043.pdf). На практике достаточно знать, что однородность, полнота и $V$-мера заключены между нулём и единицей – чем больше, тем лучше.\n",
    "\n",
    "Так как мы знаем, какую цифру на самом деле изображает каждая картинка (это массив `y`), мы можем использовать однородность, полноту и $V$-меру для оценки качества кластеризации. Функции для вычисления этих величин доступны в scikit-learn, в подмодуле `metrics`, под названиями `homogeneity_score`, `completeness_score`, `v_measure_score`. Как вариант, можно использовать функцию `homogeneity_completeness_v_measure`, которая возвращает сразу тройку чисел.\n",
    "\n",
    "**(1 балл)** Повторите предыдущее задание, используя $V$-меру вместо силуэта. При каком числе кластеров достигается максимум $V$-меры?"
   ]
  },
  {
   "cell_type": "code",
   "execution_count": null,
   "metadata": {
    "collapsed": true,
    "jupyter": {
     "outputs_hidden": true
    }
   },
   "outputs": [],
   "source": []
  },
  {
   "cell_type": "markdown",
   "metadata": {},
   "source": [
    "# 3. Снижение размерности признакового пространства\n",
    "\n",
    "Иногда, особенно когда признаков много и не все они одинаково информативные, бывает полезно снизить размерность признакового пространства, то есть вместо $d$ исходных признаков перейти к рассмотрению $d' \\ll d$ новых признаков. Данные были представлены матрицей $n$ наблюдений $\\times$ $d$ исходных признаков, а теперь будут представлены матрицей $n$ наблюдений $\\times$ $d'$ новых признаков.\n",
    "\n",
    "Есть два популярных подхода к снижению размерности:\n",
    "- отобрать (select) новые признаки из числа имеющихся;\n",
    "- извлечь (extract) новые признаки, преобразуя старые, например, сделать $d'$ различных линейных комбинаций столбцов исходной матрицы $n \\times d$.\n",
    "\n",
    "Одним из широко используемых методов извлечения признаков является сингулярное разложение матрицы (singular value decomposition, SVD). Этот метод позволяет сконструировать любое число $d' \\le d$ новых признаков таким образом, что они будут, в определённом смысле, максимально информативными. Математические детали сейчас не важны; познакомиться с ними можно, например, [здесь](https://www.coursera.org/learn/mathematics-and-python/lecture/L9bCV/razlozhieniia-matrits-v-proizviedieniie-singhuliarnoie-razlozhieniie)\n",
    "(по-русски) или [здесь](https://www.youtube.com/watch?v=P5mlg91as1c) (по-английски).\n",
    "\n",
    "В scikit-learn есть несколько реализаций сингулярного разложения. Мы будем использовать класс `TruncatedSVD` из подмодуля `decomposition`. В конструктор этого класса достаточно передать один параметр `n_components` – желаемое число новых признаков. Метод `fit_transform` принимает матрицу и возвращает новую матрицу с таким же количеством строк, как прежде, и количеством столбцов, равным числу новых признаков.\n",
    "\n",
    "<u>Замечание:</u> Сингулярное разложение матрицы $M$ обычно пишут в виде $M = U \\Sigma V^{*}$, где $U$, $\\Sigma$ и $V$ – некие матрицы с хорошими свойствами. То, что возвращает алгоритм `TruncatedSVD`, – это сколько-то (сколько мы хотим получить) первых столбцов матрицы $U$.\n",
    "\n",
    "**(1.5 балла)** Выполните сингулярное разложение матрицы `X`, оставляя 2, 5, 10, 20 признаков. В каждом случае выполните иерархическую и $K$-means кластеризацию преобразованных данных (число кластеров примите равным 10). Посчитайте значения силуэта и $V$-меры. Удалось ли при каком-нибудь $d'$ получить силуэт и / или $V$-меру лучше, чем на исходных данных?"
   ]
  },
  {
   "cell_type": "code",
   "execution_count": null,
   "metadata": {
    "collapsed": true,
    "jupyter": {
     "outputs_hidden": true
    }
   },
   "outputs": [],
   "source": []
  },
  {
   "cell_type": "markdown",
   "metadata": {},
   "source": [
    "Другая популярная техника снижения размерности, которая особенно хорошо подходит для работы с картинками, – это алгоритм t-distributed stochastic neighbor embeddings, сокращённо tSNE. В отличие от сингулярного разложения, это преобразование нелинейное. Его основная идея – отобразить точки из пространства размерности $d$ в пространство размерности 2 или 3 (обычно 2, то есть на плоскость) таким образом, чтобы как можно точнее сохранить расстояния. Математические детали есть, например, [здесь](https://en.wikipedia.org/wiki/T-distributed_stochastic_neighbor_embedding), но они нетривиальны.\n",
    "\n",
    "В библиотеке scikit-learn реализацией tSNE является класс `TSNE` в подмодуле `manifold`. В конструктор можно передать параметр `n_components`, а можно и не передавать: по умолчанию он равен 2. Метод `fit_transform` работает аналогично тому, как и у `TruncatedSVD`.\n",
    "\n",
    "<u>Замечание:</u> В последние годы вместо tSNE на практике часто используется [UMAP](https://github.com/lmcinnes/umap), более быстрый алгоритм с похожими свойствами. В этой лабораторной работе не предлагается использовать UMAP, так как это потребовало бы установить ещё одну зависимость -- библиотеку `umap-learn`. Желающие могут проделать задания на tSNE с использованием UMAP; в этом случае обратите внимание на параметры `n_neighbors` и `min_dist`, которыми определяется вид проекции.\n",
    "\n",
    "**(0.5 балла)** Выполните tSNE-преобразование матрицы `X`, оставив 2 признака. Визуализируйте данные, преобразованные таким образом, в виде точечной диаграммы: первый признак вдоль горизонтальной оси, второй признак вдоль вертикальной оси. Подсветите разными цветами группы точек, соответствующих разным цифрам.\n",
    "\n",
    "*Указания:*\n",
    "- Точечную диаграмму умеет рисовать функция `plt.scatter`. Ознакомьтесь со справкой к ней.\n",
    "- За цвета точек отвечает параметр `c` у функции `plt.scatter`. Передать в него надо истинные метки классов."
   ]
  },
  {
   "cell_type": "code",
   "execution_count": null,
   "metadata": {
    "collapsed": true,
    "jupyter": {
     "outputs_hidden": true
    }
   },
   "outputs": [],
   "source": []
  },
  {
   "cell_type": "markdown",
   "metadata": {},
   "source": [
    "**(1 балл)** Для tSNE-преобразованных данных с 2 признаками выполните иерархическую и $K$-means кластеризацию (число кластеров примите равным 10). Посчитайте значения силуэта и $V$-меры. Удалось ли получить силуэт и / или $V$-меру лучше, чем на исходных данных?"
   ]
  },
  {
   "cell_type": "code",
   "execution_count": null,
   "metadata": {
    "collapsed": true,
    "jupyter": {
     "outputs_hidden": true
    }
   },
   "outputs": [],
   "source": []
  },
  {
   "cell_type": "markdown",
   "metadata": {},
   "source": [
    "**(0.5 балла)** Для самого лучшего разбиения, которое вам удалось получить (на ваше усмотрение, лучшего в терминах силуэта или $V$-меры), опять визуализируйте картинками центры кластеров. Удалось ли добиться, чтобы каждый кластер соответствовал какой-нибудь одной цифре?"
   ]
  },
  {
   "cell_type": "code",
   "execution_count": null,
   "metadata": {
    "collapsed": true,
    "jupyter": {
     "outputs_hidden": true
    }
   },
   "outputs": [],
   "source": []
  },
  {
   "cell_type": "markdown",
   "metadata": {},
   "source": [
    "# 4. Итоги, бонус\n",
    "\n",
    "**(1 балл)** Напишите в свободной форме, какие выводы вы сделали из выполненной работы. Ответьте, как минимум, на следующие два вопроса:\n",
    "- Какой из двух методов даёт более осмысленные кластеры – иерархическая кластеризация или алгоритм $K$ средних? Зависит ли это от настроек каждого алгоритма? От критериев оценивания качества?\n",
    "- Удаётся ли улучшить качество кластеризации, снижая размерность признакового пространства?"
   ]
  },
  {
   "cell_type": "code",
   "execution_count": null,
   "metadata": {},
   "outputs": [],
   "source": []
  },
  {
   "cell_type": "markdown",
   "metadata": {},
   "source": [
    "**(Бонусные 2 балла)** Скачайте датасет [MNIST Handwritten Digits](http://yann.lecun.com/exdb/mnist). Как сделать это с помощью scikit-learn, написано [здесь](http://scikit-learn.org/stable/datasets/index.html#downloading-datasets-from-the-mldata-org-repository). MNIST Handwritten Digits – это 70 тысяч распознанных рукописных изображений цифр, каждое размером 28 $\\times$ 28 пикселей. Попробуйте прокластеризовать этот датасет и добиться как можно лучших значений силуэта и $V$-меры."
   ]
  },
  {
   "cell_type": "code",
   "execution_count": null,
   "metadata": {},
   "outputs": [],
   "source": []
  }
 ],
 "metadata": {
  "kernelspec": {
   "display_name": "Python 3",
   "language": "python",
   "name": "python3"
  },
  "language_info": {
   "codemirror_mode": {
    "name": "ipython",
    "version": 3
   },
   "file_extension": ".py",
   "mimetype": "text/x-python",
   "name": "python",
   "nbconvert_exporter": "python",
   "pygments_lexer": "ipython3",
   "version": "3.8.6"
  }
 },
 "nbformat": 4,
 "nbformat_minor": 4
}
