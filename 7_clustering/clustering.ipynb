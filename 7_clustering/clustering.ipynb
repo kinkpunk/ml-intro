{
 "cells": [
  {
   "cell_type": "markdown",
   "metadata": {},
   "source": [
    "Каждый пункт, который предлагается выполнить в рамках домашнего задания, имеет объявленную \"цену\" в баллах. Максимально возможная сумма – 10 баллов, а с учётом бонусных пунктов – 12 баллов. Выполнять все пункты не обязательно, можно сделать только часть. В большинстве пунктов ожидается, что вы напишете работающий код на Python; иногда надо будет писать комментарии в свободной форме – например, сравнивать несколько подходов к решению одной задачи. Там, где оставлены пустые клетки под ваши ответы, вы можете по своему усмотрению добавлять ещё клетки.\n",
    "\n",
    "* * *\n",
    "\n",
    "Эта лабораторная работа посвящена кластеризации. Мы будем работать с рукописными изображениями цифр, научимся их кластеризовать двумя разными методами (иерархическая кластеризация и алгоритм $K$-means), оценивать качество разбиения и выбирать оптимальное число кластеров, а также визуализировать промежуточные результаты.\n",
    "\n",
    "# 1. Получение данных\n",
    "\n",
    "Данные, с которыми мы будем работать, доступны в библиотеке scikit-learn (модуль называется `sklearn`) в подмодуле `datasets` через функцию, которая называется `load_digits`. Всего имеется 1797 наблюдений, каждое из них представляет чёрно-белую картинку 8 $\\times$ 8 пикселей. Эти картинки – распознанные рукописные цифры от 0 до 9. Образцов написания каждой цифры дано приблизительно поровну, около 180.\n",
    "\n",
    "Для удобства использования данных каждая картинка \"развёрнута\" в строку, так что NumPy-массив, в котором хранятся данные, имеет размерность 2 и величину 1797 $\\times$ 64 (а не, например, размерность 3 и величину 1797 $\\times$ 8 $\\times$ 8). Интенсивность цвета в каждом пикселе кодируется целым числом от 0 до 16.\n",
    "\n",
    "Кроме наблюдений (картинок), известны соответствующие им значения целевой переменной: какую цифру на самом деле изображает каждая картинка. Мы могли бы сразу сформулировать задачу обучения с учителем и предсказывать цифры по картинкам, но для целей этой лабораторной работы мы будем действовать по-другому: сделаем вид, что нам не известны истинные метки классов (т. е. цифры) и даже количество классов, и попробуем сгруппировать данные таким образом, чтобы качество кластеризации оказалось наилучшим, а затем посмотрим, насколько точно полученные кластеры совпадают с группами изображений одинаковых цифр.\n",
    "\n",
    "**(0.5 балла)** Загрузите данные. Добейтесь, чтобы в переменной `X` оказался массив наблюдений, содержащий 1797 $\\times$ 64 числа, а в переменной `y` – массив истинных меток классов, содержащий 1797 чисел.\n",
    "\n",
    "*Указания:*\n",
    "- Как загрузить данные, объяснено в справке к функции `load_digits`.\n",
    "- Размер массива хранится в атрибуте `shape`."
   ]
  },
  {
   "cell_type": "code",
   "execution_count": 585,
   "metadata": {},
   "outputs": [],
   "source": [
    "import numpy as np\n",
    "import pandas as pd\n",
    "import matplotlib.pyplot as plt \n",
    "from sklearn.datasets import load_digits\n",
    "from sklearn.cluster import AgglomerativeClustering, KMeans\n",
    "from sklearn.metrics import silhouette_score"
   ]
  },
  {
   "cell_type": "code",
   "execution_count": 560,
   "metadata": {},
   "outputs": [],
   "source": [
    "X, y = load_digits(return_X_y=True)"
   ]
  },
  {
   "cell_type": "code",
   "execution_count": 561,
   "metadata": {},
   "outputs": [
    {
     "data": {
      "text/plain": [
       "((1797, 64), (1797,))"
      ]
     },
     "execution_count": 561,
     "metadata": {},
     "output_type": "execute_result"
    }
   ],
   "source": [
    "X.shape, y.shape"
   ]
  },
  {
   "cell_type": "markdown",
   "metadata": {},
   "source": [
    "**(1 балл)** Визуализируйте первые десять картинок, расположив их на сетке 3 $\\times$ 4 (в последнем ряду останутся пустые места). Добейтесь, чтобы фон картинок был белым, а изображения цифр – тёмными.\n",
    "\n",
    "*Указания:*\n",
    "- Не забудьте импортировать NumPy и Matplotlib.\n",
    "- Картинки 8 $\\times$ 8 можно либо достать готовыми из объекта, загруженного функцией `load_digits`, либо сделать самостоятельно из строк массива `X`. Во втором случае пользуйтесь методом `reshape`.\n",
    "- Чтобы изображение не было цветным, можно вызвать функцию `plt.gray`, прежде чем начать рисовать.\n",
    "- Располагать картинки на сетке умеет функция `plt.subplot`. Ознакомьтесь со справкой к ней.\n",
    "- По умолчанию число 0 кодирует чёрный цвет, а число 16 – белый цвет. Подумайте, как обратить цвета одной операцией над NumPy-массивом.\n",
    "- Выводить картинку на экран умеет функция `plt.imshow`. Ознакомьтесь со справкой к ней.\n",
    "- Если считаете нужным, можете отключить сглаживание – параметр `interpolation` у функции `plt.imshow`.\n",
    "- Если считаете нужным, можете отключить деления на координатных осях. За это отвечают функции `plt.xticks` и `plt.yticks`."
   ]
  },
  {
   "cell_type": "code",
   "execution_count": 562,
   "metadata": {},
   "outputs": [],
   "source": [
    "X = abs(X-16) #инверсия цвета"
   ]
  },
  {
   "cell_type": "code",
   "execution_count": 563,
   "metadata": {},
   "outputs": [
    {
     "data": {
      "image/png": "[encoded data removed]",
      "text/plain": [
       "<Figure size 432x288 with 12 Axes>"
      ]
     },
     "metadata": {
      "needs_background": "light"
     },
     "output_type": "display_data"
    }
   ],
   "source": [
    "fig, axs = plt.subplots(3, 4, sharey=True)\n",
    "plt.gray()\n",
    "plt.xticks([])\n",
    "plt.yticks([])\n",
    "axs[0, 0].imshow(X[0].reshape(8,8))\n",
    "axs[0, 1].imshow(X[1].reshape(8,8))\n",
    "axs[0, 2].imshow(X[2].reshape(8,8))\n",
    "axs[0, 3].imshow(X[3].reshape(8,8))\n",
    "\n",
    "axs[1, 0].imshow(X[4].reshape(8,8))\n",
    "axs[1, 1].imshow(X[5].reshape(8,8))\n",
    "axs[1, 2].imshow(X[6].reshape(8,8))\n",
    "axs[1, 3].imshow(X[7].reshape(8,8))\n",
    "\n",
    "axs[2, 0].imshow(X[8].reshape(8,8))\n",
    "axs[2, 1].imshow(X[9].reshape(8,8))\n",
    "\n",
    "plt.show()"
   ]
  },
  {
   "cell_type": "code",
   "execution_count": 564,
   "metadata": {},
   "outputs": [
    {
     "data": {
      "image/png": "[encoded data removed]",
      "text/plain": [
       "<Figure size 432x288 with 12 Axes>"
      ]
     },
     "metadata": {
      "needs_background": "light"
     },
     "output_type": "display_data"
    }
   ],
   "source": [
    "fig, ax = plt.subplots(3, 4)\n",
    "for axis, digit in zip(ax.flat, X[:10]):\n",
    "    axis.set(xticks=[], yticks=[])\n",
    "    axis.imshow(digit.reshape(8,8))"
   ]
  },
  {
   "cell_type": "markdown",
   "metadata": {},
   "source": [
    "# 2. Кластеризация и оценка качества\n",
    "\n",
    "Мы будем использовать два популярных алгоритма: иерархическую кластеризацию и метод $K$ средних ($K$-means clustering). Эти и другие алгоритмы кластеризации доступны в библиотеке scikit-learn в подмодуле `cluster`. Иерархическая кластеризация называется `AgglomerativeClustering`, а метод $K$ средних – `KMeans`.\n",
    "\n",
    "Интерфейс у большинства алгоритмов в scikit-learn простой и единообразный:\n",
    "- Чтобы инициализировать модель, нужно создать экземпляр соответствующего класса со всеми необходимыми параметрами. Например, у кластеризаций единственный обязательный параметр называется `n_clusters`, это количество кластеров, которое мы хотим получить на выходе.\n",
    "- Инициализированную модель можно обучить, вызвав метод `fit`.\n",
    "- С помощью обученной модели можно предсказывать, вызывая метод `predict`.\n",
    "\n",
    "Как видно, этот интерфейс хорош только для задач обучения с учителем, в которых чётко разделены фазы обучения модели и предсказания с её помощью. У кластеризаций зато есть метод `fit_predict`, который разбивает входную выборку на кластеры и сразу же возвращает результаты разбиения.\n",
    "\n",
    "**(0.5 балла)** Используя каждый из двух методов, иерархическую кластеризацию и $K$ средних, получите разбиение массива `X` на 10 кластеров.\n",
    "\n",
    "*Указания:*\n",
    "- Оба раза должен получиться массив из 1797 чисел – номеров кластеров.\n",
    "- `KMeans` делает несколько (по умолчанию 10) запусков со случайными центрами и из полученных разбиений выводит лучшее в терминах среднего внутрикластерного расстояния. Чтобы улучшить качество предсказаний, можно увеличить число запусков, например, до 100. Это параметр `n_init` в конструкторе."
   ]
  },
  {
   "cell_type": "code",
   "execution_count": 577,
   "metadata": {},
   "outputs": [],
   "source": [
    "clustering_agg = AgglomerativeClustering(n_clusters=10)\n",
    "clustering_k = KMeans(n_clusters=10, n_init=100)"
   ]
  },
  {
   "cell_type": "code",
   "execution_count": 578,
   "metadata": {},
   "outputs": [],
   "source": [
    "clusters_agg = clustering_agg.fit_predict(X)\n",
    "clusters_k = clustering_k.fit_predict(X)"
   ]
  },
  {
   "cell_type": "code",
   "execution_count": 579,
   "metadata": {},
   "outputs": [
    {
     "data": {
      "text/plain": [
       "((1797,), (1797,))"
      ]
     },
     "execution_count": 579,
     "metadata": {},
     "output_type": "execute_result"
    }
   ],
   "source": [
    "clusters_agg.shape, clusters_k.shape"
   ]
  },
  {
   "cell_type": "markdown",
   "metadata": {},
   "source": [
    "**(1 балл)** Визуализируйте центры кластеров, полученных каждым из двух способов. Это опять должны быть картинки на сетке 3 $\\times$ 4 с белым фоном и тёмными контурами. Прокомментируйте: какой из двух алгоритмов даёт центры кластеров, больше похожие на типичные начертания цифр?\n",
    "\n",
    "*Указания:*\n",
    "- Центр кластера – это среднее по всем наблюдениям, входящим в кластер, т. е. по какому-то набору строк из `X`.\n",
    "- Чтобы выбрать наблюдения, входящие в кластер номер `i`, используйте индексацию по булевозначной маске. Саму маску можно получить из массива предсказанных номеров кластеров и числа `i` оператором `==`.\n",
    "- Усреднять NumPy-массив вдоль какой-нибудь из осей умеет функция `np.mean`. Ознакомьтесь со справкой к ней. Нам нужно усреднение по строкам."
   ]
  },
  {
   "cell_type": "code",
   "execution_count": 580,
   "metadata": {},
   "outputs": [
    {
     "data": {
      "text/plain": [
       "array([[16.        , 15.80241935,  9.47983871,  3.47177419,  4.16129032,\n",
       "        10.35080645, 15.33467742, 15.99193548, 15.99596774, 13.38709677,\n",
       "         2.00806452,  6.81451613,  6.5483871 ,  5.59274194, 14.69354839,\n",
       "        15.99596774, 16.        , 11.68951613,  3.15725806, 11.56854839,\n",
       "         9.11693548,  4.81451613, 14.08064516, 16.        , 16.        ,\n",
       "        13.68145161,  5.55645161,  4.14112903,  2.80241935,  3.90322581,\n",
       "        13.52822581, 16.        , 16.        , 15.69758065, 12.7983871 ,\n",
       "         9.79435484,  9.25806452,  4.75403226, 11.73387097, 16.        ,\n",
       "        16.        , 15.77016129, 13.61693548, 14.00806452, 14.27419355,\n",
       "         5.07258065,  9.58870968, 15.98387097, 16.        , 15.23387097,\n",
       "         7.9516129 , 10.40322581, 11.24596774,  3.75403226, 10.03225806,\n",
       "        15.88709677, 16.        , 15.83064516,  9.57258065,  2.5       ,\n",
       "         1.5       ,  6.08064516, 13.71370968, 15.88709677],\n",
       "       [16.        , 15.97765363, 11.77094972,  2.8603352 ,  4.73184358,\n",
       "        13.06145251, 15.96648045, 16.        , 16.        , 15.11731844,\n",
       "         3.37988827,  2.63128492,  4.59217877,  4.63128492, 15.03910615,\n",
       "        16.        , 16.        , 12.27374302,  1.7877095 , 10.74860335,\n",
       "        13.89385475,  3.88268156, 12.46927374, 16.        , 16.        ,\n",
       "        10.70391061,  3.3575419 , 13.96648045, 15.77094972,  6.92178771,\n",
       "         9.52513966, 16.        , 16.        , 10.11731844,  4.50837989,\n",
       "        15.13407821, 15.96648045,  7.18994413,  8.84916201, 16.        ,\n",
       "        16.        , 12.48603352,  2.7150838 , 14.34078212, 14.50837989,\n",
       "         4.64804469, 10.15642458, 16.        , 16.        , 15.19553073,\n",
       "         2.88826816,  6.03910615,  5.64804469,  2.70391061, 13.52513966,\n",
       "        15.97765363, 16.        , 15.99441341, 11.80446927,  2.41340782,\n",
       "         2.65921788, 10.51955307, 15.68156425, 15.98324022],\n",
       "       [16.        , 15.05172414,  5.77011494,  1.55172414,  8.25287356,\n",
       "        15.02298851, 16.        , 16.        , 15.97701149, 10.72988506,\n",
       "         2.2816092 ,  3.37931034,  4.32758621, 12.81034483, 15.98275862,\n",
       "        16.        , 15.98850575, 11.4137931 ,  7.87931034,  9.82758621,\n",
       "         3.81609195, 12.50574713, 15.98275862, 16.        , 16.        ,\n",
       "        15.02873563, 13.16666667,  8.95402299,  3.46551724, 13.45977011,\n",
       "        15.95977011, 16.        , 16.        , 15.95402299, 14.41954023,\n",
       "         6.06321839,  5.33333333, 14.56321839, 16.        , 16.        ,\n",
       "        16.        , 15.74712644, 11.51724138,  4.76436782,  8.27586207,\n",
       "        13.61494253, 15.14942529, 15.98850575, 16.        , 14.79885057,\n",
       "         4.95977011,  2.2816092 ,  4.07471264,  4.82183908,  8.29310345,\n",
       "        14.8908046 , 16.        , 15.06321839,  5.56896552,  1.54022989,\n",
       "         2.48275862,  3.62068966,  6.98275862, 13.02873563],\n",
       "       [16.        , 14.88435374,  5.95918367,  2.59183673,  1.80272109,\n",
       "         3.34013605, 11.56462585, 15.95918367, 15.99319728, 11.42176871,\n",
       "         1.06802721,  3.33333333,  7.27210884,  9.05442177, 13.5170068 ,\n",
       "        15.96598639, 15.98639456,  9.94557823,  1.45578231,  9.96598639,\n",
       "        14.02721088, 15.15646259, 15.87755102, 16.        , 15.99319728,\n",
       "        10.67346939,  1.67346939,  3.63265306,  8.24489796, 13.86394558,\n",
       "        15.85714286, 16.        , 16.        , 14.02721088,  7.76870748,\n",
       "         5.88435374,  5.70748299, 10.45578231, 15.3537415 , 16.        ,\n",
       "        16.        , 15.69387755, 14.58503401, 11.08843537,  6.19047619,\n",
       "         8.89795918, 15.21088435, 16.        , 16.        , 15.18367347,\n",
       "        10.8707483 ,  6.42857143,  3.88435374, 10.69387755, 15.55102041,\n",
       "        16.        , 16.        , 14.93197279,  5.05442177,  1.45578231,\n",
       "         8.23809524, 14.92517007, 15.97959184, 16.        ],\n",
       "       [16.        , 16.        , 15.71257485,  8.96407186,  4.        ,\n",
       "        14.04790419, 15.8502994 , 15.94610778, 16.        , 15.98802395,\n",
       "        12.79041916,  2.28143713,  7.43113772, 14.50898204, 15.02994012,\n",
       "        15.68263473, 16.        , 15.37724551,  5.41317365,  4.34131737,\n",
       "        11.65868263, 10.81437126, 12.08982036, 15.64670659, 15.99401198,\n",
       "        11.2994012 ,  1.26347305, 10.04191617,  9.17964072,  5.20958084,\n",
       "         9.7245509 , 15.98203593, 16.        ,  7.08383234,  1.17365269,\n",
       "         6.61676647,  3.19760479,  1.59281437, 10.53293413, 16.        ,\n",
       "        15.90419162,  9.5748503 ,  4.4491018 ,  3.76646707,  1.22155689,\n",
       "         5.13772455, 14.41317365, 16.        , 15.94011976, 14.89221557,\n",
       "        13.03592814,  8.36526946,  1.94011976, 11.71257485, 15.98203593,\n",
       "        16.        , 16.        , 15.9760479 , 15.65269461,  8.16766467,\n",
       "         3.5988024 , 14.15568862, 16.        , 16.        ],\n",
       "       [16.        , 15.88789238, 12.01345291,  4.12107623,  3.62331839,\n",
       "        10.61434978, 15.56502242, 16.        , 15.99103139, 15.13901345,\n",
       "         7.77130045,  2.43497758,  3.39910314,  6.13901345, 14.42600897,\n",
       "        16.        , 16.        , 14.78026906,  7.66367713,  4.08520179,\n",
       "         3.65919283,  6.55156951, 14.96860987, 16.        , 16.        ,\n",
       "        15.05381166,  8.77130045,  1.9103139 ,  1.82511211, 11.05381166,\n",
       "        15.79820628, 16.        , 16.        , 15.22869955,  7.97757848,\n",
       "         1.21524664,  3.09865471, 13.80269058, 15.98206278, 16.        ,\n",
       "        16.        , 14.76681614,  5.49775785,  3.99103139,  3.85201794,\n",
       "        11.95515695, 15.79820628, 16.        , 15.98654709, 15.12107623,\n",
       "         6.39461883,  4.44843049,  3.88789238, 10.39910314, 15.38116592,\n",
       "        15.9955157 , 15.9955157 , 15.88789238, 11.80717489,  4.00896861,\n",
       "         3.34977578, 11.12107623, 15.18834081, 15.99103139],\n",
       "       [16.        , 16.        , 15.96703297, 14.12087912,  4.98901099,\n",
       "         3.25274725, 11.69230769, 15.73626374, 16.        , 15.94505495,\n",
       "        14.        ,  7.02197802,  2.21978022,  3.30769231, 10.7032967 ,\n",
       "        15.74725275, 16.        , 14.3956044 ,  7.20879121,  3.62637363,\n",
       "         3.95604396,  2.96703297, 12.08791209, 15.91208791, 16.        ,\n",
       "        12.38461538,  4.04395604,  4.23076923,  2.9010989 ,  2.45054945,\n",
       "        13.56043956, 16.        , 16.        , 14.1978022 ,  9.31868132,\n",
       "         8.64835165,  4.21978022,  3.47252747, 14.17582418, 16.        ,\n",
       "        16.        , 15.1978022 , 14.        , 12.25274725,  4.24175824,\n",
       "         4.15384615, 14.82417582, 16.        , 16.        , 15.93406593,\n",
       "        15.68131868, 12.91208791,  3.42857143,  4.47252747, 14.30769231,\n",
       "        16.        , 16.        , 16.        , 16.        , 14.01098901,\n",
       "         4.65934066,  5.35164835, 14.27472527, 16.        ],\n",
       "       [16.        , 16.        , 14.84065934,  4.77472527,  6.46703297,\n",
       "        14.58241758, 15.99450549, 16.        , 16.        , 15.93956044,\n",
       "         8.81868132,  1.43956044,  9.80769231, 15.17032967, 15.97252747,\n",
       "        16.        , 16.        , 15.23076923,  3.54395604,  6.52747253,\n",
       "        15.06593407, 15.89010989, 16.        , 16.        , 16.        ,\n",
       "        13.7032967 ,  2.37912088,  7.90659341, 12.12637363, 14.07142857,\n",
       "        15.8956044 , 16.        , 16.        , 12.47252747,  1.32417582,\n",
       "         3.08241758,  3.74725275,  5.71428571, 13.28021978, 16.        ,\n",
       "        16.        , 14.13186813,  1.48351648,  5.34615385, 10.42307692,\n",
       "         5.80769231,  6.86813187, 15.76923077, 16.        , 15.82417582,\n",
       "         5.71428571,  3.37362637, 10.58241758,  4.67582418,  5.1043956 ,\n",
       "        15.37362637, 16.        , 16.        , 14.55494505,  5.26373626,\n",
       "         0.9010989 ,  2.86813187, 11.37912088, 15.82967033],\n",
       "       [16.        , 15.84134615, 11.07692308,  3.05288462,  2.03365385,\n",
       "         5.23557692, 11.14903846, 15.07692308, 16.        , 14.87980769,\n",
       "         5.22115385,  4.49038462,  5.64423077,  3.44711538, 10.60576923,\n",
       "        15.47115385, 16.        , 14.77884615, 10.37019231, 13.70673077,\n",
       "         9.14423077,  4.39423077, 12.65865385, 15.88942308, 16.        ,\n",
       "        14.99038462, 10.82692308,  9.5       ,  3.77403846,  3.98557692,\n",
       "        11.30288462, 15.99519231, 16.        , 14.55769231,  7.45192308,\n",
       "         3.07692308,  1.3125    ,  5.44230769, 12.12019231, 16.        ,\n",
       "        16.        , 14.89423077, 10.91346154,  4.47596154,  4.95192308,\n",
       "        12.40865385, 15.47115385, 16.        , 16.        , 15.89903846,\n",
       "        13.00961538,  3.64903846,  9.62019231, 15.5625    , 15.98557692,\n",
       "        16.        , 16.        , 15.875     ,  9.88942308,  3.90865385,\n",
       "        13.31730769, 15.6875    , 15.96634615, 16.        ],\n",
       "       [16.        , 15.40449438,  7.30337079,  1.42696629,  1.97191011,\n",
       "         8.98876404, 15.43258427, 16.        , 15.98876404, 11.82022472,\n",
       "         3.39325843,  6.89325843,  4.78651685,  4.00561798, 14.13483146,\n",
       "        15.98876404, 15.99438202, 14.11797753, 12.34269663, 12.43258427,\n",
       "         4.24719101,  6.11235955, 15.15168539, 16.        , 16.        ,\n",
       "        15.94382022, 15.0505618 ,  7.74157303,  2.15730337,  9.25280899,\n",
       "        15.69662921, 16.        , 16.        , 15.93820225, 15.3258427 ,\n",
       "        11.39325843,  4.24157303,  3.76404494, 13.69662921, 16.        ,\n",
       "        16.        , 15.5505618 , 14.56179775, 15.30898876, 11.80898876,\n",
       "         3.61797753,  9.69662921, 15.99438202, 16.        , 15.08426966,\n",
       "         8.62921348,  9.38202247,  7.42134831,  2.34269663,  9.91573034,\n",
       "        15.8258427 , 16.        , 15.52808989,  6.5       ,  1.06741573,\n",
       "         1.87640449,  7.11235955, 14.12359551, 15.58426966]])"
      ]
     },
     "execution_count": 580,
     "metadata": {},
     "output_type": "execute_result"
    }
   ],
   "source": [
    "clustering_k.cluster_centers_"
   ]
  },
  {
   "cell_type": "code",
   "execution_count": 581,
   "metadata": {},
   "outputs": [
    {
     "data": {
      "text/plain": [
       "array([1, 5, 5, ..., 5, 0, 0])"
      ]
     },
     "execution_count": 581,
     "metadata": {},
     "output_type": "execute_result"
    }
   ],
   "source": [
    "clustering_k.labels_"
   ]
  },
  {
   "cell_type": "code",
   "execution_count": 582,
   "metadata": {},
   "outputs": [],
   "source": [
    "#np.array(np.where(clusters_agg==5))"
   ]
  },
  {
   "cell_type": "code",
   "execution_count": 583,
   "metadata": {},
   "outputs": [],
   "source": [
    "#X[np.where(clusters_agg==0)].mean(axis=1)"
   ]
  },
  {
   "cell_type": "code",
   "execution_count": 584,
   "metadata": {},
   "outputs": [
    {
     "data": {
      "image/png": "[encoded data removed]",
      "text/plain": [
       "<Figure size 432x288 with 12 Axes>"
      ]
     },
     "metadata": {
      "needs_background": "light"
     },
     "output_type": "display_data"
    }
   ],
   "source": [
    "#Визуализация центров кластеров, полученных методом 𝐾 средних\n",
    "fig, ax = plt.subplots(3, 4)\n",
    "centers = clustering_k.cluster_centers_.reshape(10, 8, 8)\n",
    "for axis, center in zip(ax.flat, centers):\n",
    "    axis.set(xticks=[], yticks=[])\n",
    "    axis.imshow(center, interpolation='nearest')"
   ]
  },
  {
   "cell_type": "markdown",
   "metadata": {},
   "source": [
    "В ситуации, когда истинное число кластеров неизвестно, подбирают оптимальное число кластеров. При этом учитывают две величины: внутрикластерное расстояние (чем меньше, тем лучше) и межкластерное расстояние (чем больше, тем лучше). Так как две эти величины не достигают оптимума одновременно, обычно оптимизируют какой-нибудь функционал от них. Один популярный функционал называется \"силуэт\" (silhouette). Вот как он вычисляется.\n",
    "\n",
    "Пусть $X$ – множество наблюдений, $M \\subset X$ – один из кластеров, на которые оно разбито в результате кластеризации, $\\rho$ – метрика на $X$. Выберем какое-нибудь одно наблюдение $x \\in M$. Обозначим $a(x)$ среднее расстояние от $x$ до точек $x'$ из того же кластера:\n",
    "$$\n",
    "a(x) = \\frac{1}{|M| - 1} \\sum_{x' \\in M,\\, x' \\ne x} \\rho(x,\\, x')\n",
    "$$\n",
    "\n",
    "Обозначим $b(x)$ минимум средних расстояний от $x$ до точек $x''$ из какого-нибудь другого кластера $N$:\n",
    "$$\n",
    "b(x) = \\min_{N \\ne M} \\frac{1}{|N|} \\sum_{x'' \\in N} \\rho(x,\\, x'')\n",
    "$$\n",
    "\n",
    "Силуэт – это разность межкластерного и внутрикластерного расстояний, нормированная до отрезка $[-1,\\, 1]$ и усреднённая по всем наблюдениям:\n",
    "$$\n",
    "\\frac{1}{|X|} \\sum_{x \\in X} \\frac{b(x) - a(x)}{\\max(a(x),\\, b(x))}\n",
    "$$\n",
    "\n",
    "В scikit-learn силуэт считается функцией `silhouette_score` из подмодуля `metrics`. На вход нужно передать массив наблюдений и результат кластеризации.\n",
    "\n",
    "**(1.5 балла)** Для числа $K$ от 2 до 20 включительно получите разбиение массива `X` на $K$ кластеров каждым из двух методов. Посчитайте силуэт. Посчитанные значения силуэта сохраните в переменную и визуализируйте в виде графика в координатах: число $K$ – значение силуэта. При каком числе кластеров достигается максимум силуэта?\n",
    "\n",
    "*Указания:*\n",
    "- Не забудьте, что функция `range` не захватывает правый конец диапазона.\n",
    "- Под значения силуэта можно завести два списка: один для иерархической кластеризации, другой для $K$ средних.\n",
    "- Рисовать графики умеет функция `plt.plot`. Ознакомьтесь со справкой к ней.\n",
    "- На одной картинке можно разместить несколько графиков, это просто несколько последовательных вызовов `plt.plot`.\n",
    "- Чтобы добавить легенду (подписи к графикам), можно воспользоваться функцией `plt.legend`. Местоположение легенды контролируется параметром `loc`.\n",
    "- Чтобы подписать координатные оси, можно воспользоваться функциями `plt.xlabel` и `plt.ylabel`."
   ]
  },
  {
   "cell_type": "code",
   "execution_count": 601,
   "metadata": {},
   "outputs": [
    {
     "name": "stdout",
     "output_type": "stream",
     "text": [
      "При K = 2 \"silhouette\" для иерархической кластеризации = 0.1167, для K средних = 0.1183\n",
      "При K = 3 \"silhouette\" для иерархической кластеризации = 0.1119, для K средних = 0.1265\n",
      "При K = 4 \"silhouette\" для иерархической кластеризации = 0.1090, для K средних = 0.1282\n",
      "При K = 5 \"silhouette\" для иерархической кластеризации = 0.1189, для K средних = 0.1381\n",
      "При K = 6 \"silhouette\" для иерархической кластеризации = 0.1370, для K средних = 0.1513\n",
      "При K = 7 \"silhouette\" для иерархической кластеризации = 0.1537, для K средних = 0.1634\n",
      "При K = 8 \"silhouette\" для иерархической кластеризации = 0.1706, для K средних = 0.1752\n",
      "При K = 9 \"silhouette\" для иерархической кластеризации = 0.1806, для K средних = 0.1890\n",
      "При K = 10 \"silhouette\" для иерархической кластеризации = 0.1785, для K средних = 0.1828\n",
      "При K = 11 \"silhouette\" для иерархической кластеризации = 0.1764, для K средних = 0.1829\n",
      "При K = 12 \"silhouette\" для иерархической кластеризации = 0.1736, для K средних = 0.1828\n",
      "При K = 13 \"silhouette\" для иерархической кластеризации = 0.1726, для K средних = 0.1851\n",
      "При K = 14 \"silhouette\" для иерархической кластеризации = 0.1767, для K средних = 0.1842\n",
      "При K = 15 \"silhouette\" для иерархической кластеризации = 0.1763, для K средних = 0.1912\n",
      "При K = 16 \"silhouette\" для иерархической кластеризации = 0.1770, для K средних = 0.1752\n",
      "При K = 17 \"silhouette\" для иерархической кластеризации = 0.1795, для K средних = 0.1706\n",
      "При K = 18 \"silhouette\" для иерархической кластеризации = 0.1670, для K средних = 0.1692\n",
      "При K = 19 \"silhouette\" для иерархической кластеризации = 0.1659, для K средних = 0.1801\n",
      "При K = 20 \"silhouette\" для иерархической кластеризации = 0.1686, для K средних = 0.1671\n"
     ]
    }
   ],
   "source": [
    "cluster_agg_plot = []\n",
    "cluster_k_plot = []\n",
    "for i in range(2,21):\n",
    "    clustering_k = KMeans(n_clusters=i, n_init=10)\n",
    "    clustering_k.fit(X)\n",
    "    clustering_agg = AgglomerativeClustering(n_clusters=i)\n",
    "    clustering_agg.fit(X)\n",
    "    cluster_agg_plot.append(silhouette_score(X, clustering_agg.labels_))\n",
    "    cluster_k_plot.append(silhouette_score(X, clustering_k.labels_))\n",
    "    print('При K = {} \"silhouette\" для иерархической кластеризации = {:.4f}, для K средних = {:.4f}'.format(i, silhouette_score(X, clustering_agg.labels_)\n",
    "                                                  ,silhouette_score(X, clustering_k.labels_)))"
   ]
  },
  {
   "cell_type": "code",
   "execution_count": 658,
   "metadata": {},
   "outputs": [
    {
     "data": {
      "text/plain": [
       "<matplotlib.legend.Legend at 0x20426560d08>"
      ]
     },
     "execution_count": 658,
     "metadata": {},
     "output_type": "execute_result"
    },
    {
     "data": {
      "image/png": "[encoded data removed]",
      "text/plain": [
       "<Figure size 432x288 with 1 Axes>"
      ]
     },
     "metadata": {
      "needs_background": "light"
     },
     "output_type": "display_data"
    }
   ],
   "source": [
    "plt.axis([-1,21,0.10,0.20])\n",
    "plt.xticks(np.arange(0,21,1))\n",
    "plt.plot(cluster_agg_plot)\n",
    "plt.plot(cluster_k_plot)\n",
    "plt.ylabel('Silhouette score')\n",
    "plt.legend(['AgglomerativeClustering', 'K-means'])"
   ]
  },
  {
   "cell_type": "markdown",
   "metadata": {},
   "source": [
    "Когда известно \"правильное\" (в каком-нибудь смысле) разбиение на кластеры, результат кластеризации можно сравнить с ним, используя такие меры, как однородность (homogeneity), полнота (completeness) и их среднее гармоническое – $V$-мера. Определения этих величин довольно громоздкие и основаны на понятии [энтропии распределения вероятностей](https://ru.wikipedia.org/wiki/Информационная_энтропия); подробности излагаются в [этой статье](http://aclweb.org/anthology/D/D07/D07-1043.pdf). На практике достаточно знать, что однородность, полнота и $V$-мера заключены между нулём и единицей – чем больше, тем лучше.\n",
    "\n",
    "Так как мы знаем, какую цифру на самом деле изображает каждая картинка (это массив `y`), мы можем использовать однородность, полноту и $V$-меру для оценки качества кластеризации. Функции для вычисления этих величин доступны в scikit-learn, в подмодуле `metrics`, под названиями `homogeneity_score`, `completeness_score`, `v_measure_score`. Как вариант, можно использовать функцию `homogeneity_completeness_v_measure`, которая возвращает сразу тройку чисел.\n",
    "\n",
    "**(1 балл)** Повторите предыдущее задание, используя $V$-меру вместо силуэта. При каком числе кластеров достигается максимум $V$-меры?"
   ]
  },
  {
   "cell_type": "code",
   "execution_count": null,
   "metadata": {
    "collapsed": true
   },
   "outputs": [],
   "source": []
  },
  {
   "cell_type": "markdown",
   "metadata": {},
   "source": [
    "# 3. Снижение размерности признакового пространства\n",
    "\n",
    "Иногда, особенно когда признаков много и не все они одинаково информативные, бывает полезно снизить размерность признакового пространства, то есть вместо $d$ исходных признаков перейти к рассмотрению $d' \\ll d$ новых признаков. Данные были представлены матрицей $n$ наблюдений $\\times$ $d$ исходных признаков, а теперь будут представлены матрицей $n$ наблюдений $\\times$ $d'$ новых признаков.\n",
    "\n",
    "Есть два популярных подхода к снижению размерности:\n",
    "- отобрать (select) новые признаки из числа имеющихся;\n",
    "- извлечь (extract) новые признаки, преобразуя старые, например, сделать $d'$ различных линейных комбинаций столбцов исходной матрицы $n \\times d$.\n",
    "\n",
    "Одним из широко используемых методов извлечения признаков является сингулярное разложение матрицы (singular value decomposition, SVD). Этот метод позволяет сконструировать любое число $d' \\le d$ новых признаков таким образом, что они будут, в определённом смысле, максимально информативными. Математические детали сейчас не важны; познакомиться с ними можно, например, [здесь](https://www.coursera.org/learn/mathematics-and-python/lecture/L9bCV/razlozhieniia-matrits-v-proizviedieniie-singhuliarnoie-razlozhieniie)\n",
    "(по-русски) или [здесь](https://www.youtube.com/watch?v=P5mlg91as1c) (по-английски).\n",
    "\n",
    "В scikit-learn есть несколько реализаций сингулярного разложения. Мы будем использовать класс `TruncatedSVD` из подмодуля `decomposition`. В конструктор этого класса достаточно передать один параметр `n_components` – желаемое число новых признаков. Метод `fit_transform` принимает матрицу и возвращает новую матрицу с таким же количеством строк, как прежде, и количеством столбцов, равным числу новых признаков.\n",
    "\n",
    "<u>Замечание:</u> Сингулярное разложение матрицы $M$ обычно пишут в виде $M = U \\Sigma V^{*}$, где $U$, $\\Sigma$ и $V$ – некие матрицы с хорошими свойствами. То, что возвращает алгоритм `TruncatedSVD`, – это сколько-то (сколько мы хотим получить) первых столбцов матрицы $U$.\n",
    "\n",
    "**(1.5 балла)** Выполните сингулярное разложение матрицы `X`, оставляя 2, 5, 10, 20 признаков. В каждом случае выполните иерархическую и $K$-means кластеризацию преобразованных данных (число кластеров примите равным 10). Посчитайте значения силуэта и $V$-меры. Удалось ли при каком-нибудь $d'$ получить силуэт и / или $V$-меру лучше, чем на исходных данных?"
   ]
  },
  {
   "cell_type": "code",
   "execution_count": null,
   "metadata": {
    "collapsed": true
   },
   "outputs": [],
   "source": []
  },
  {
   "cell_type": "markdown",
   "metadata": {},
   "source": [
    "Другая популярная техника снижения размерности, которая особенно хорошо подходит для работы с картинками, – это алгоритм t-distributed stochastic neighbor embeddings, сокращённо tSNE. В отличие от сингулярного разложения, это преобразование нелинейное. Его основная идея – отобразить точки из пространства размерности $d$ в пространство размерности 2 или 3 (обычно 2, то есть на плоскость) таким образом, чтобы как можно точнее сохранить расстояния. Математические детали есть, например, [здесь](https://en.wikipedia.org/wiki/T-distributed_stochastic_neighbor_embedding), но они нетривиальны.\n",
    "\n",
    "В библиотеке scikit-learn реализацией tSNE является класс `TSNE` в подмодуле `manifold`. В конструктор можно передать параметр `n_components`, а можно и не передавать: по умолчанию он равен 2. Метод `fit_transform` работает аналогично тому, как и у `TruncatedSVD`.\n",
    "\n",
    "<u>Замечание:</u> В последние годы вместо tSNE на практике часто используется [UMAP](https://github.com/lmcinnes/umap), более быстрый алгоритм с похожими свойствами. В этой лабораторной работе не предлагается использовать UMAP, так как это потребовало бы установить ещё одну зависимость -- библиотеку `umap-learn`. Желающие могут проделать задания на tSNE с использованием UMAP; в этом случае обратите внимание на параметры `n_neighbors` и `min_dist`, которыми определяется вид проекции.\n",
    "\n",
    "**(0.5 балла)** Выполните tSNE-преобразование матрицы `X`, оставив 2 признака. Визуализируйте данные, преобразованные таким образом, в виде точечной диаграммы: первый признак вдоль горизонтальной оси, второй признак вдоль вертикальной оси. Подсветите разными цветами группы точек, соответствующих разным цифрам.\n",
    "\n",
    "*Указания:*\n",
    "- Точечную диаграмму умеет рисовать функция `plt.scatter`. Ознакомьтесь со справкой к ней.\n",
    "- За цвета точек отвечает параметр `c` у функции `plt.scatter`. Передать в него надо истинные метки классов."
   ]
  },
  {
   "cell_type": "code",
   "execution_count": null,
   "metadata": {
    "collapsed": true
   },
   "outputs": [],
   "source": []
  },
  {
   "cell_type": "markdown",
   "metadata": {},
   "source": [
    "**(1 балл)** Для tSNE-преобразованных данных с 2 признаками выполните иерархическую и $K$-means кластеризацию (число кластеров примите равным 10). Посчитайте значения силуэта и $V$-меры. Удалось ли получить силуэт и / или $V$-меру лучше, чем на исходных данных?"
   ]
  },
  {
   "cell_type": "code",
   "execution_count": null,
   "metadata": {
    "collapsed": true
   },
   "outputs": [],
   "source": []
  },
  {
   "cell_type": "markdown",
   "metadata": {},
   "source": [
    "**(0.5 балла)** Для самого лучшего разбиения, которое вам удалось получить (на ваше усмотрение, лучшего в терминах силуэта или $V$-меры), опять визуализируйте картинками центры кластеров. Удалось ли добиться, чтобы каждый кластер соответствовал какой-нибудь одной цифре?"
   ]
  },
  {
   "cell_type": "code",
   "execution_count": null,
   "metadata": {
    "collapsed": true
   },
   "outputs": [],
   "source": []
  },
  {
   "cell_type": "markdown",
   "metadata": {},
   "source": [
    "# 4. Итоги, бонус\n",
    "\n",
    "**(1 балл)** Напишите в свободной форме, какие выводы вы сделали из выполненной работы. Ответьте, как минимум, на следующие два вопроса:\n",
    "- Какой из двух методов даёт более осмысленные кластеры – иерархическая кластеризация или алгоритм $K$ средних? Зависит ли это от настроек каждого алгоритма? От критериев оценивания качества?\n",
    "- Удаётся ли улучшить качество кластеризации, снижая размерность признакового пространства?"
   ]
  },
  {
   "cell_type": "code",
   "execution_count": null,
   "metadata": {
    "collapsed": true
   },
   "outputs": [],
   "source": []
  },
  {
   "cell_type": "markdown",
   "metadata": {},
   "source": [
    "**(Бонусные 2 балла)** Скачайте датасет [MNIST Handwritten Digits](http://yann.lecun.com/exdb/mnist). Как сделать это с помощью scikit-learn, написано [здесь](http://scikit-learn.org/stable/datasets/index.html#downloading-datasets-from-the-mldata-org-repository). MNIST Handwritten Digits – это 70 тысяч распознанных рукописных изображений цифр, каждое размером 28 $\\times$ 28 пикселей. Попробуйте прокластеризовать этот датасет и добиться как можно лучших значений силуэта и $V$-меры."
   ]
  },
  {
   "cell_type": "code",
   "execution_count": null,
   "metadata": {
    "collapsed": true
   },
   "outputs": [],
   "source": []
  }
 ],
 "metadata": {
  "kernelspec": {
   "display_name": "Python 3",
   "language": "python",
   "name": "python3"
  },
  "language_info": {
   "codemirror_mode": {
    "name": "ipython",
    "version": 3
   },
   "file_extension": ".py",
   "mimetype": "text/x-python",
   "name": "python",
   "nbconvert_exporter": "python",
   "pygments_lexer": "ipython3",
   "version": "3.7.6"
  }
 },
 "nbformat": 4,
 "nbformat_minor": 2
}
